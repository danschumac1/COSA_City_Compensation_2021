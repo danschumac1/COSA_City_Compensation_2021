{
 "cells": [
  {
   "cell_type": "markdown",
   "metadata": {
    "tags": []
   },
   "source": [
    "# San Antonio City Compensation Data Analysis"
   ]
  },
  {
   "cell_type": "code",
   "execution_count": 1,
   "metadata": {
    "hide_input": true,
    "tags": []
   },
   "outputs": [],
   "source": [
    "## Imports and read CSV"
   ]
  },
  {
   "cell_type": "code",
   "execution_count": 2,
   "metadata": {
    "hide_input": true
   },
   "outputs": [],
   "source": [
    "import dataframe_image as dfi"
   ]
  },
  {
   "cell_type": "code",
   "execution_count": 3,
   "metadata": {
    "hide_input": true
   },
   "outputs": [],
   "source": [
    "import datetime"
   ]
  },
  {
   "cell_type": "code",
   "execution_count": 4,
   "metadata": {
    "hide_input": true
   },
   "outputs": [],
   "source": [
    "import numpy as np"
   ]
  },
  {
   "cell_type": "code",
   "execution_count": 5,
   "metadata": {
    "hide_input": true
   },
   "outputs": [],
   "source": [
    "import pandas as pd\n",
    "\n",
    "#format integers to not print in scientific notaion (for later)\n",
    "pd.set_option('display.float_format', lambda x: f'{x:,.2f}')\n"
   ]
  },
  {
   "cell_type": "code",
   "execution_count": 6,
   "metadata": {
    "hide_input": true
   },
   "outputs": [],
   "source": [
    "import locale"
   ]
  },
  {
   "cell_type": "code",
   "execution_count": 7,
   "metadata": {
    "hide_input": true
   },
   "outputs": [],
   "source": [
    "import matplotlib as mpl"
   ]
  },
  {
   "cell_type": "code",
   "execution_count": 8,
   "metadata": {
    "hide_input": true
   },
   "outputs": [],
   "source": [
    "#import piplite\n",
    "#await piplite.install('seaborn')\n",
    "\n",
    "#format integers to not print in scientific notaion (for later)\n",
    "import matplotlib.pyplot as plt\n",
    "plt.ticklabel_format(style='plain')\n",
    "\n",
    "import seaborn as sns\n",
    "sns.set_theme(rc={'axes.formatter.limits': (-8, 9)})\n",
    "%matplotlib inline"
   ]
  },
  {
   "cell_type": "code",
   "execution_count": 9,
   "metadata": {
    "hide_input": true
   },
   "outputs": [],
   "source": [
    "comp = pd.read_csv('FY21CityComp_master.csv')"
   ]
  },
  {
   "cell_type": "code",
   "execution_count": 10,
   "metadata": {
    "tags": []
   },
   "outputs": [],
   "source": [
    "## Data Look 1"
   ]
  },
  {
   "cell_type": "code",
   "execution_count": 11,
   "metadata": {
    "hide_input": true
   },
   "outputs": [
    {
     "data": {
      "text/html": [
       "<div>\n",
       "<style scoped>\n",
       "    .dataframe tbody tr th:only-of-type {\n",
       "        vertical-align: middle;\n",
       "    }\n",
       "\n",
       "    .dataframe tbody tr th {\n",
       "        vertical-align: top;\n",
       "    }\n",
       "\n",
       "    .dataframe thead th {\n",
       "        text-align: right;\n",
       "    }\n",
       "</style>\n",
       "<table border=\"1\" class=\"dataframe\">\n",
       "  <thead>\n",
       "    <tr style=\"text-align: right;\">\n",
       "      <th></th>\n",
       "      <th>first_name</th>\n",
       "      <th>middle_name</th>\n",
       "      <th>last_name</th>\n",
       "      <th>employee_category</th>\n",
       "      <th>hire_date</th>\n",
       "      <th>annual_salaray</th>\n",
       "      <th>base_pay</th>\n",
       "      <th>leave_payout</th>\n",
       "      <th>other_pay</th>\n",
       "      <th>arbitration_&amp;_settlements</th>\n",
       "      <th>overtime</th>\n",
       "      <th>gross_earnings</th>\n",
       "      <th>additional benefits</th>\n",
       "      <th>total_compensation</th>\n",
       "      <th>job_title</th>\n",
       "      <th>business area</th>\n",
       "      <th>gender</th>\n",
       "      <th>ethnic_orgin</th>\n",
       "      <th>employee_subgroup</th>\n",
       "      <th>withdraw_date</th>\n",
       "    </tr>\n",
       "  </thead>\n",
       "  <tbody>\n",
       "    <tr>\n",
       "      <th>0</th>\n",
       "      <td>ERIK</td>\n",
       "      <td>J</td>\n",
       "      <td>WALSH</td>\n",
       "      <td>CIVILIAN</td>\n",
       "      <td>6/6/1994</td>\n",
       "      <td>312,000.00</td>\n",
       "      <td>312,000.00</td>\n",
       "      <td>12,000.00</td>\n",
       "      <td>27,785.73</td>\n",
       "      <td>0</td>\n",
       "      <td>0</td>\n",
       "      <td>351,785.73</td>\n",
       "      <td>92,976.08</td>\n",
       "      <td>444,761.81</td>\n",
       "      <td>1022-CITY MANAGER</td>\n",
       "      <td>CITY MANAGER</td>\n",
       "      <td>MALE</td>\n",
       "      <td>HISPANIC OR LATINO</td>\n",
       "      <td>2A CITY MGR FT</td>\n",
       "      <td>NaN</td>\n",
       "    </tr>\n",
       "    <tr>\n",
       "      <th>1</th>\n",
       "      <td>ANDREW</td>\n",
       "      <td>NaN</td>\n",
       "      <td>SEGOVIA</td>\n",
       "      <td>CIVILIAN</td>\n",
       "      <td>8/29/2016</td>\n",
       "      <td>299,625.82</td>\n",
       "      <td>299,625.82</td>\n",
       "      <td>19,446.75</td>\n",
       "      <td>6,396.56</td>\n",
       "      <td>0</td>\n",
       "      <td>0</td>\n",
       "      <td>325,469.13</td>\n",
       "      <td>66,253.57</td>\n",
       "      <td>391,722.70</td>\n",
       "      <td>1000-CITY ATTORNEY</td>\n",
       "      <td>CITY ATTORNEY</td>\n",
       "      <td>MALE</td>\n",
       "      <td>HISPANIC OR LATINO</td>\n",
       "      <td>2B DEPT DIR FT</td>\n",
       "      <td>NaN</td>\n",
       "    </tr>\n",
       "    <tr>\n",
       "      <th>2</th>\n",
       "      <td>SCOTT</td>\n",
       "      <td>VINCENT</td>\n",
       "      <td>BELL</td>\n",
       "      <td>UNIFORM</td>\n",
       "      <td>9/26/1988</td>\n",
       "      <td>104,664.04</td>\n",
       "      <td>88,889.24</td>\n",
       "      <td>177,027.50</td>\n",
       "      <td>31,446.46</td>\n",
       "      <td>0</td>\n",
       "      <td>4,004.35</td>\n",
       "      <td>301,367.55</td>\n",
       "      <td>59,119.18</td>\n",
       "      <td>360,486.73</td>\n",
       "      <td>0605-POLICE LIEUTENANT</td>\n",
       "      <td>POLICE</td>\n",
       "      <td>MALE</td>\n",
       "      <td>WHITE (NON HISPANIC OR LATINO)</td>\n",
       "      <td>UNIFORM WITHDRAWN</td>\n",
       "      <td>8/20/2021</td>\n",
       "    </tr>\n",
       "    <tr>\n",
       "      <th>3</th>\n",
       "      <td>TROY</td>\n",
       "      <td>RAY</td>\n",
       "      <td>TORRES</td>\n",
       "      <td>UNIFORM</td>\n",
       "      <td>10/12/1992</td>\n",
       "      <td>117,744.12</td>\n",
       "      <td>98,047.62</td>\n",
       "      <td>171,780.52</td>\n",
       "      <td>22,970.99</td>\n",
       "      <td>0</td>\n",
       "      <td>0</td>\n",
       "      <td>292,799.13</td>\n",
       "      <td>59,070.37</td>\n",
       "      <td>351,869.50</td>\n",
       "      <td>0606-POLICE CAPTAIN</td>\n",
       "      <td>POLICE</td>\n",
       "      <td>MALE</td>\n",
       "      <td>HISPANIC OR LATINO</td>\n",
       "      <td>UNIFORM WITHDRAWN</td>\n",
       "      <td>8/20/2021</td>\n",
       "    </tr>\n",
       "    <tr>\n",
       "      <th>4</th>\n",
       "      <td>MARK</td>\n",
       "      <td>STEVEN</td>\n",
       "      <td>TREVINO</td>\n",
       "      <td>UNIFORM</td>\n",
       "      <td>11/27/1993</td>\n",
       "      <td>96,830.76</td>\n",
       "      <td>94,099.41</td>\n",
       "      <td>5,267.07</td>\n",
       "      <td>29,166.55</td>\n",
       "      <td>0</td>\n",
       "      <td>147,909.38</td>\n",
       "      <td>276,442.41</td>\n",
       "      <td>64,258.76</td>\n",
       "      <td>340,701.17</td>\n",
       "      <td>0664-DISTRICT FIRE CHIEF</td>\n",
       "      <td>FIRE</td>\n",
       "      <td>MALE</td>\n",
       "      <td>HISPANIC OR LATINO</td>\n",
       "      <td>5A FIRE FULL-TIME</td>\n",
       "      <td>NaN</td>\n",
       "    </tr>\n",
       "  </tbody>\n",
       "</table>\n",
       "</div>"
      ],
      "text/plain": [
       "  first_name middle_name last_name employee_category   hire_date  \\\n",
       "0       ERIK           J     WALSH          CIVILIAN    6/6/1994   \n",
       "1     ANDREW         NaN   SEGOVIA          CIVILIAN   8/29/2016   \n",
       "2      SCOTT     VINCENT      BELL           UNIFORM   9/26/1988   \n",
       "3       TROY         RAY    TORRES           UNIFORM  10/12/1992   \n",
       "4       MARK      STEVEN   TREVINO           UNIFORM  11/27/1993   \n",
       "\n",
       "  annual_salaray    base_pay leave_payout  other_pay  \\\n",
       "0     312,000.00  312,000.00    12,000.00  27,785.73   \n",
       "1     299,625.82  299,625.82    19,446.75   6,396.56   \n",
       "2     104,664.04   88,889.24   177,027.50  31,446.46   \n",
       "3     117,744.12   98,047.62   171,780.52  22,970.99   \n",
       "4      96,830.76   94,099.41     5,267.07  29,166.55   \n",
       "\n",
       "   arbitration_&_settlements    overtime gross_earnings additional benefits  \\\n",
       "0                          0           0     351,785.73           92,976.08   \n",
       "1                          0           0     325,469.13           66,253.57   \n",
       "2                          0    4,004.35     301,367.55           59,119.18   \n",
       "3                          0           0     292,799.13           59,070.37   \n",
       "4                          0  147,909.38     276,442.41           64,258.76   \n",
       "\n",
       "  total_compensation                 job_title  business area gender  \\\n",
       "0         444,761.81         1022-CITY MANAGER   CITY MANAGER   MALE   \n",
       "1         391,722.70        1000-CITY ATTORNEY  CITY ATTORNEY   MALE   \n",
       "2         360,486.73    0605-POLICE LIEUTENANT         POLICE   MALE   \n",
       "3         351,869.50       0606-POLICE CAPTAIN         POLICE   MALE   \n",
       "4         340,701.17  0664-DISTRICT FIRE CHIEF           FIRE   MALE   \n",
       "\n",
       "                     ethnic_orgin  employee_subgroup withdraw_date  \n",
       "0              HISPANIC OR LATINO     2A CITY MGR FT           NaN  \n",
       "1              HISPANIC OR LATINO     2B DEPT DIR FT           NaN  \n",
       "2  WHITE (NON HISPANIC OR LATINO)  UNIFORM WITHDRAWN     8/20/2021  \n",
       "3              HISPANIC OR LATINO  UNIFORM WITHDRAWN     8/20/2021  \n",
       "4              HISPANIC OR LATINO  5A FIRE FULL-TIME           NaN  "
      ]
     },
     "execution_count": 11,
     "metadata": {},
     "output_type": "execute_result"
    }
   ],
   "source": [
    "comp.head(5)"
   ]
  },
  {
   "cell_type": "code",
   "execution_count": null,
   "metadata": {
    "hide_input": true
   },
   "outputs": [],
   "source": []
  },
  {
   "cell_type": "code",
   "execution_count": 12,
   "metadata": {
    "hide_input": true
   },
   "outputs": [
    {
     "name": "stdout",
     "output_type": "stream",
     "text": [
      "<class 'pandas.core.frame.DataFrame'>\n",
      "RangeIndex: 13420 entries, 0 to 13419\n",
      "Data columns (total 20 columns):\n",
      " #   Column                     Non-Null Count  Dtype \n",
      "---  ------                     --------------  ----- \n",
      " 0   first_name                 13420 non-null  object\n",
      " 1   middle_name                5768 non-null   object\n",
      " 2   last_name                  13420 non-null  object\n",
      " 3   employee_category          13420 non-null  object\n",
      " 4   hire_date                  13420 non-null  object\n",
      " 5   annual_salaray             13420 non-null  object\n",
      " 6   base_pay                   13420 non-null  object\n",
      " 7   leave_payout               13420 non-null  object\n",
      " 8   other_pay                  13420 non-null  object\n",
      " 9   arbitration_&_settlements  13420 non-null  int64 \n",
      " 10  overtime                   13420 non-null  object\n",
      " 11  gross_earnings             13420 non-null  object\n",
      " 12  additional benefits        13420 non-null  object\n",
      " 13  total_compensation         13420 non-null  object\n",
      " 14  job_title                  13420 non-null  object\n",
      " 15  business area              13420 non-null  object\n",
      " 16  gender                     13420 non-null  object\n",
      " 17  ethnic_orgin               13420 non-null  object\n",
      " 18  employee_subgroup          13420 non-null  object\n",
      " 19  withdraw_date              1530 non-null   object\n",
      "dtypes: int64(1), object(19)\n",
      "memory usage: 2.0+ MB\n"
     ]
    }
   ],
   "source": [
    "comp.info()"
   ]
  },
  {
   "cell_type": "code",
   "execution_count": 13,
   "metadata": {
    "tags": []
   },
   "outputs": [],
   "source": [
    "# Clean the Data"
   ]
  },
  {
   "cell_type": "code",
   "execution_count": 14,
   "metadata": {
    "tags": []
   },
   "outputs": [],
   "source": [
    "## Misspelling"
   ]
  },
  {
   "cell_type": "code",
   "execution_count": 15,
   "metadata": {
    "hide_input": true
   },
   "outputs": [],
   "source": [
    "# additional benefits, business area should have underscores ------->>>> additional_benefits, business_area\n",
    "#annual_salaray ----> salary"
   ]
  },
  {
   "cell_type": "code",
   "execution_count": 16,
   "metadata": {
    "hide_input": true
   },
   "outputs": [],
   "source": [
    "comp['annual_salary'] = comp['annual_salaray']\n",
    "comp.drop('annual_salaray',axis=1,inplace=True)"
   ]
  },
  {
   "cell_type": "code",
   "execution_count": 17,
   "metadata": {
    "hide_input": true
   },
   "outputs": [],
   "source": [
    "comp['additional_benefits'] = comp['additional benefits']\n",
    "comp.drop('additional benefits',axis=1,inplace=True)"
   ]
  },
  {
   "cell_type": "code",
   "execution_count": 18,
   "metadata": {
    "hide_input": true
   },
   "outputs": [],
   "source": [
    "comp['business_area'] = comp['business area']\n",
    "comp.drop('business area',axis=1,inplace=True)"
   ]
  },
  {
   "cell_type": "code",
   "execution_count": 19,
   "metadata": {
    "hide_input": true,
    "scrolled": true
   },
   "outputs": [],
   "source": [
    "#Change my co-worker who goes EMERSON\n",
    "\n",
    "#the line below is how I found out Emersons index number\n",
    "#comp[(comp['first_name']=='MEGAN') & (comp['last_name'] == 'STANLEY')]\n",
    "comp.loc[6967,'first_name'] = 'EMERSON'"
   ]
  },
  {
   "cell_type": "code",
   "execution_count": 20,
   "metadata": {
    "hide_input": true
   },
   "outputs": [],
   "source": [
    "#Change my co-worker who goes by J.D.\n",
    "\n",
    "#the line below is how I found out Emersons index number\n",
    "#comp[(comp['first_name']=='JAMES') & (comp['last_name'] == 'ELIZONDO')]\n",
    "comp.loc[8098,'first_name'] = 'J.D.'"
   ]
  },
  {
   "cell_type": "code",
   "execution_count": 21,
   "metadata": {
    "hide_input": true
   },
   "outputs": [],
   "source": [
    "#Change my co-worker who goes by ANGELINA\n",
    "\n",
    "#the line below is how I found out Emersons index number\n",
    "#comp[(comp['first_name']=='ANGELA') & (comp['last_name'] == 'CORTES')]\n",
    "comp.loc[7456,'first_name'] = 'ANGELINA'"
   ]
  },
  {
   "cell_type": "code",
   "execution_count": 22,
   "metadata": {
    "tags": []
   },
   "outputs": [],
   "source": [
    "## Datatypes"
   ]
  },
  {
   "cell_type": "code",
   "execution_count": 23,
   "metadata": {},
   "outputs": [],
   "source": [
    "### Changing strings to integers and fixing some spellings"
   ]
  },
  {
   "cell_type": "code",
   "execution_count": 24,
   "metadata": {
    "hide_input": true
   },
   "outputs": [],
   "source": [
    "#these need to be turned into integers\n",
    "#annyal_salary,base_pay,leave_payout,other_pay,overtime,gross_earnings,additional_benefits,total_compensation,"
   ]
  },
  {
   "cell_type": "code",
   "execution_count": 25,
   "metadata": {
    "hide_input": true
   },
   "outputs": [],
   "source": [
    "#get rid of the comas in the strings so that we can convert to float \n",
    "comp['annual_salary'] = comp['annual_salary'].str.replace(',','')\n",
    "#Change str to float\n",
    "comp['annual_salary'] = comp['annual_salary'].astype(float, copy=None, errors='ignore')"
   ]
  },
  {
   "cell_type": "code",
   "execution_count": 26,
   "metadata": {
    "hide_input": true
   },
   "outputs": [],
   "source": [
    "#get rid of the comas in the strings so that we can convert to float \n",
    "comp['base_pay'] = comp['base_pay'].str.replace(',','')\n",
    "#Change str to float\n",
    "comp['base_pay'] = comp['base_pay'].astype(float, copy=None, errors='ignore')"
   ]
  },
  {
   "cell_type": "code",
   "execution_count": 27,
   "metadata": {
    "hide_input": true
   },
   "outputs": [],
   "source": [
    "#get rid of the comas in the strings so that we can convert to float \n",
    "comp['leave_payout'] = comp['leave_payout'].str.replace(',','')\n",
    "#Change str to float\n",
    "comp['leave_payout'] = comp['leave_payout'].astype(float, copy=None, errors='ignore')"
   ]
  },
  {
   "cell_type": "code",
   "execution_count": 28,
   "metadata": {
    "hide_input": true
   },
   "outputs": [],
   "source": [
    "#get rid of the comas in the strings so that we can convert to float \n",
    "comp['other_pay'] = comp['other_pay'].str.replace(',','')\n",
    "#Change str to float\n",
    "comp['other_pay'] = comp['other_pay'].astype(float, copy=None, errors='ignore')"
   ]
  },
  {
   "cell_type": "code",
   "execution_count": 29,
   "metadata": {
    "hide_input": true
   },
   "outputs": [],
   "source": [
    "#get rid of the comas in the strings so that we can convert to float \n",
    "comp['overtime'] = comp['overtime'].str.replace(',','')\n",
    "#Change str to float\n",
    "comp['overtime'] = comp['overtime'].astype(float, copy=None, errors='ignore')"
   ]
  },
  {
   "cell_type": "code",
   "execution_count": 30,
   "metadata": {
    "hide_input": true
   },
   "outputs": [],
   "source": [
    "#get rid of the comas in the strings so that we can convert to float \n",
    "comp['gross_earnings'] = comp['gross_earnings'].str.replace(',','')\n",
    "#Change str to float\n",
    "comp['gross_earnings'] = comp['gross_earnings'].astype(float, copy=None, errors='ignore')"
   ]
  },
  {
   "cell_type": "code",
   "execution_count": 31,
   "metadata": {
    "hide_input": true
   },
   "outputs": [],
   "source": [
    "#get rid of the comas in the strings so that we can convert to float \n",
    "comp['additional_benefits'] = comp['additional_benefits'].str.replace(',','')\n",
    "#Change str to float\n",
    "comp['additional_benefits'] = comp['additional_benefits'].astype(float, copy=None, errors='ignore')"
   ]
  },
  {
   "cell_type": "code",
   "execution_count": 32,
   "metadata": {
    "hide_input": true
   },
   "outputs": [],
   "source": [
    "#get rid of the comas in the strings so that we can convert to float \n",
    "comp['total_compensation'] = comp['total_compensation'].str.replace(',','')\n",
    "#Change str to float\n",
    "comp['total_compensation'] = comp['total_compensation'].astype(float, copy=None, errors='ignore')"
   ]
  },
  {
   "cell_type": "code",
   "execution_count": 33,
   "metadata": {
    "hide_input": true
   },
   "outputs": [],
   "source": [
    "#arbitration_&_settlements is an int where as all our other numbers are floats.\n",
    "comp['arbitration_&_settlements'] = comp['arbitration_&_settlements'].astype(float, copy=None, errors='ignore')"
   ]
  },
  {
   "cell_type": "code",
   "execution_count": 34,
   "metadata": {},
   "outputs": [],
   "source": [
    "### Drop columns that are empty"
   ]
  },
  {
   "cell_type": "code",
   "execution_count": 35,
   "metadata": {
    "hide_input": true
   },
   "outputs": [
    {
     "data": {
      "text/plain": [
       "0    13420\n",
       "Name: arbitration_&_settlements, dtype: int64"
      ]
     },
     "execution_count": 35,
     "metadata": {},
     "output_type": "execute_result"
    }
   ],
   "source": [
    "#Every vaule in the a_&_s column is 0\n",
    "#there must not have been any lawsuits etc.?\n",
    "comp['arbitration_&_settlements'].value_counts()"
   ]
  },
  {
   "cell_type": "code",
   "execution_count": 36,
   "metadata": {
    "hide_input": true
   },
   "outputs": [],
   "source": [
    "#so let's drop it.\n",
    "comp.drop('arbitration_&_settlements',axis=1,inplace=True)"
   ]
  },
  {
   "cell_type": "code",
   "execution_count": 37,
   "metadata": {},
   "outputs": [],
   "source": [
    "### Change strings to date time"
   ]
  },
  {
   "cell_type": "code",
   "execution_count": 38,
   "metadata": {
    "hide_input": true
   },
   "outputs": [
    {
     "data": {
      "text/plain": [
       "str"
      ]
     },
     "execution_count": 38,
     "metadata": {},
     "output_type": "execute_result"
    }
   ],
   "source": [
    "#right now our dates are strings\n",
    "type(comp['hire_date'][0])"
   ]
  },
  {
   "cell_type": "code",
   "execution_count": 39,
   "metadata": {
    "hide_input": true
   },
   "outputs": [],
   "source": [
    "#let's convert them to date time objects\n",
    "comp['hire_date'] = pd.to_datetime(comp['hire_date'], errors='ignore')"
   ]
  },
  {
   "cell_type": "code",
   "execution_count": 40,
   "metadata": {
    "hide_input": true
   },
   "outputs": [],
   "source": [
    "comp['withdraw_date'] = pd.to_datetime(comp['withdraw_date'], errors='ignore')"
   ]
  },
  {
   "cell_type": "code",
   "execution_count": 41,
   "metadata": {
    "hide_input": true
   },
   "outputs": [
    {
     "data": {
      "text/plain": [
       "pandas._libs.tslibs.timestamps.Timestamp"
      ]
     },
     "execution_count": 41,
     "metadata": {},
     "output_type": "execute_result"
    }
   ],
   "source": [
    "type(comp['hire_date'][0])"
   ]
  },
  {
   "cell_type": "code",
   "execution_count": 42,
   "metadata": {},
   "outputs": [],
   "source": [
    "### Make a years of service column"
   ]
  },
  {
   "cell_type": "code",
   "execution_count": 43,
   "metadata": {
    "hide_input": true
   },
   "outputs": [],
   "source": [
    "timestamp = pd.Timestamp(datetime.datetime(2021, 10, 10))\n",
    "today = timestamp.today()"
   ]
  },
  {
   "cell_type": "code",
   "execution_count": 44,
   "metadata": {
    "hide_input": true
   },
   "outputs": [
    {
     "data": {
      "text/plain": [
       "Timestamp('2023-06-17 15:11:25.597164')"
      ]
     },
     "execution_count": 44,
     "metadata": {},
     "output_type": "execute_result"
    }
   ],
   "source": [
    "today"
   ]
  },
  {
   "cell_type": "code",
   "execution_count": 45,
   "metadata": {
    "hide_input": true
   },
   "outputs": [],
   "source": [
    "comp['years_service'] = today - comp['hire_date']"
   ]
  },
  {
   "cell_type": "code",
   "execution_count": 46,
   "metadata": {
    "hide_input": true
   },
   "outputs": [],
   "source": [
    "comp['years_service'] = comp['years_service'] / np.timedelta64(1, 'Y')\n"
   ]
  },
  {
   "cell_type": "code",
   "execution_count": 47,
   "metadata": {
    "hide_input": true
   },
   "outputs": [
    {
     "data": {
      "text/plain": [
       "0       29.03\n",
       "1        6.80\n",
       "2       34.72\n",
       "3       30.68\n",
       "4       29.55\n",
       "         ... \n",
       "13415    5.16\n",
       "13416    5.12\n",
       "13417    8.22\n",
       "13418    7.39\n",
       "13419   14.26\n",
       "Name: years_service, Length: 13420, dtype: float64"
      ]
     },
     "execution_count": 47,
     "metadata": {},
     "output_type": "execute_result"
    }
   ],
   "source": [
    "comp['years_service']"
   ]
  },
  {
   "cell_type": "code",
   "execution_count": 48,
   "metadata": {
    "hide_input": true
   },
   "outputs": [
    {
     "data": {
      "text/plain": [
       "numpy.float64"
      ]
     },
     "execution_count": 48,
     "metadata": {},
     "output_type": "execute_result"
    }
   ],
   "source": [
    "#make sure it is a float or int\n",
    "type(comp['years_service'][0])"
   ]
  },
  {
   "cell_type": "code",
   "execution_count": 49,
   "metadata": {},
   "outputs": [],
   "source": [
    "### Make full name column"
   ]
  },
  {
   "cell_type": "code",
   "execution_count": 50,
   "metadata": {
    "hide_input": true
   },
   "outputs": [],
   "source": [
    "cols = ['first_name', 'middle_name', 'last_name']"
   ]
  },
  {
   "cell_type": "code",
   "execution_count": 51,
   "metadata": {
    "hide_input": true
   },
   "outputs": [],
   "source": [
    "#let's also make a full name column\n",
    "comp['full_name'] = comp[cols].apply(lambda x: ' '.join(i for i in x if pd.notna(i)), axis=1)"
   ]
  },
  {
   "cell_type": "code",
   "execution_count": 52,
   "metadata": {},
   "outputs": [],
   "source": [
    "### Delete job codes in job_title column"
   ]
  },
  {
   "cell_type": "code",
   "execution_count": 53,
   "metadata": {
    "hide_input": true
   },
   "outputs": [],
   "source": [
    "#let's adjust the Job title to not contain the '###-'\n",
    "comp['job_title'] = comp['job_title'].apply(lambda x: x.split('-')[1])"
   ]
  },
  {
   "cell_type": "code",
   "execution_count": 54,
   "metadata": {},
   "outputs": [],
   "source": [
    "### Combine redundant ethnic_orgin categories"
   ]
  },
  {
   "cell_type": "code",
   "execution_count": 55,
   "metadata": {
    "hide_input": true
   },
   "outputs": [
    {
     "data": {
      "text/plain": [
       "HISPANIC OR LATINO                                    8483\n",
       "WHITE (NON HISPANIC OR LATINO)                        3593\n",
       "BLACK OR AFRICAN AMERICAN (NON HISPANIC OR LATINO)     775\n",
       "TWO OR MORE RACES (NON HISPANIC OR LATINO)             286\n",
       "ASIAN (NON HISPANIC OR LATINO)                         157\n",
       "AMERICAN INDIAN OR ALASKA NATIVE (NONHISPANIC/LAT)      55\n",
       "NATIVE HAWAIIAN/OTHER PACIFIC ISLANDER (NON HIS)        34\n",
       "HISPANIC                                                19\n",
       "OTHER                                                   11\n",
       "WHITE                                                    4\n",
       "BLACK                                                    2\n",
       "UNKNOWN                                                  1\n",
       "Name: ethnic_orgin, dtype: int64"
      ]
     },
     "execution_count": 55,
     "metadata": {},
     "output_type": "execute_result"
    }
   ],
   "source": [
    "#What are the ethnic origin categories? And how many people fall into them?\n",
    "\n",
    "comp['ethnic_orgin'].value_counts()\n",
    "\n",
    "#Some weird things that we need to clean:\n",
    "#1 Combine the 'HISPANIC OR LATINO' and plain 'HISPANIC' categories \n",
    "#2 Combine 'UNKNOWN' and 'OTHER' categories (???)\n",
    "#3 Combine 'BLACK' and 'BLACK OR AFRICAN AMERICAN'\n",
    "#4 Combine 'WHITE' and 'WHITE (NON HISPANIC OR LATINO)'"
   ]
  },
  {
   "cell_type": "code",
   "execution_count": 56,
   "metadata": {
    "hide_input": true
   },
   "outputs": [],
   "source": [
    "comp['ethnic_orgin'].replace(\"HISPANIC\", \"HISPANIC OR LATINO\",inplace=True)"
   ]
  },
  {
   "cell_type": "code",
   "execution_count": 57,
   "metadata": {
    "hide_input": true
   },
   "outputs": [],
   "source": [
    "comp['ethnic_orgin'].replace(\"BLACK\", \"BLACK OR AFRICAN AMERICAN (NON HISPANIC OR LATINO)\",inplace=True)"
   ]
  },
  {
   "cell_type": "code",
   "execution_count": 58,
   "metadata": {
    "hide_input": true
   },
   "outputs": [],
   "source": [
    "comp['ethnic_orgin'].replace(\"UNKNOWN\", \"OTHER\",inplace=True)"
   ]
  },
  {
   "cell_type": "code",
   "execution_count": 59,
   "metadata": {
    "hide_input": true
   },
   "outputs": [],
   "source": [
    "comp['ethnic_orgin'].replace(\"WHITE\", \"WHITE (NON HISPANIC OR LATINO)\",inplace=True)"
   ]
  },
  {
   "cell_type": "code",
   "execution_count": 60,
   "metadata": {
    "hide_input": true
   },
   "outputs": [
    {
     "data": {
      "text/plain": [
       "HISPANIC OR LATINO                                    8502\n",
       "WHITE (NON HISPANIC OR LATINO)                        3597\n",
       "BLACK OR AFRICAN AMERICAN (NON HISPANIC OR LATINO)     777\n",
       "TWO OR MORE RACES (NON HISPANIC OR LATINO)             286\n",
       "ASIAN (NON HISPANIC OR LATINO)                         157\n",
       "AMERICAN INDIAN OR ALASKA NATIVE (NONHISPANIC/LAT)      55\n",
       "NATIVE HAWAIIAN/OTHER PACIFIC ISLANDER (NON HIS)        34\n",
       "OTHER                                                   12\n",
       "Name: ethnic_orgin, dtype: int64"
      ]
     },
     "execution_count": 60,
     "metadata": {},
     "output_type": "execute_result"
    }
   ],
   "source": [
    "comp['ethnic_orgin'].value_counts()"
   ]
  },
  {
   "cell_type": "code",
   "execution_count": 61,
   "metadata": {
    "hide_input": true
   },
   "outputs": [],
   "source": [
    "### Gender"
   ]
  },
  {
   "cell_type": "code",
   "execution_count": 62,
   "metadata": {
    "hide_input": true
   },
   "outputs": [
    {
     "data": {
      "text/plain": [
       "MALE       8621\n",
       "FEMALE     4798\n",
       "UNKNOWN       1\n",
       "Name: gender, dtype: int64"
      ]
     },
     "execution_count": 62,
     "metadata": {},
     "output_type": "execute_result"
    }
   ],
   "source": [
    "comp['gender'].value_counts()"
   ]
  },
  {
   "cell_type": "code",
   "execution_count": 63,
   "metadata": {
    "hide_input": false
   },
   "outputs": [],
   "source": [
    "### Drop unknown gender"
   ]
  },
  {
   "cell_type": "code",
   "execution_count": 64,
   "metadata": {
    "hide_input": true
   },
   "outputs": [
    {
     "data": {
      "text/html": [
       "<div>\n",
       "<style scoped>\n",
       "    .dataframe tbody tr th:only-of-type {\n",
       "        vertical-align: middle;\n",
       "    }\n",
       "\n",
       "    .dataframe tbody tr th {\n",
       "        vertical-align: top;\n",
       "    }\n",
       "\n",
       "    .dataframe thead th {\n",
       "        text-align: right;\n",
       "    }\n",
       "</style>\n",
       "<table border=\"1\" class=\"dataframe\">\n",
       "  <thead>\n",
       "    <tr style=\"text-align: right;\">\n",
       "      <th></th>\n",
       "      <th>first_name</th>\n",
       "      <th>middle_name</th>\n",
       "      <th>last_name</th>\n",
       "      <th>employee_category</th>\n",
       "      <th>hire_date</th>\n",
       "      <th>base_pay</th>\n",
       "      <th>leave_payout</th>\n",
       "      <th>other_pay</th>\n",
       "      <th>overtime</th>\n",
       "      <th>gross_earnings</th>\n",
       "      <th>...</th>\n",
       "      <th>job_title</th>\n",
       "      <th>gender</th>\n",
       "      <th>ethnic_orgin</th>\n",
       "      <th>employee_subgroup</th>\n",
       "      <th>withdraw_date</th>\n",
       "      <th>annual_salary</th>\n",
       "      <th>additional_benefits</th>\n",
       "      <th>business_area</th>\n",
       "      <th>years_service</th>\n",
       "      <th>full_name</th>\n",
       "    </tr>\n",
       "  </thead>\n",
       "  <tbody>\n",
       "    <tr>\n",
       "      <th>11938</th>\n",
       "      <td>TOMMIE</td>\n",
       "      <td>NaN</td>\n",
       "      <td>LEE</td>\n",
       "      <td>CIVILIAN</td>\n",
       "      <td>2013-10-31</td>\n",
       "      <td>3,262.80</td>\n",
       "      <td>0.00</td>\n",
       "      <td>0.00</td>\n",
       "      <td>0.00</td>\n",
       "      <td>3,262.80</td>\n",
       "      <td>...</td>\n",
       "      <td>RECREATION SPECIALIST</td>\n",
       "      <td>UNKNOWN</td>\n",
       "      <td>BLACK OR AFRICAN AMERICAN (NON HISPANIC OR LAT...</td>\n",
       "      <td>4A FULL-TIME</td>\n",
       "      <td>NaT</td>\n",
       "      <td>16,210.80</td>\n",
       "      <td>9,068.71</td>\n",
       "      <td>PARKS &amp; RECREATION</td>\n",
       "      <td>9.63</td>\n",
       "      <td>TOMMIE LEE</td>\n",
       "    </tr>\n",
       "  </tbody>\n",
       "</table>\n",
       "<p>1 rows × 21 columns</p>\n",
       "</div>"
      ],
      "text/plain": [
       "      first_name middle_name last_name employee_category  hire_date  base_pay  \\\n",
       "11938     TOMMIE         NaN       LEE          CIVILIAN 2013-10-31  3,262.80   \n",
       "\n",
       "       leave_payout  other_pay  overtime  gross_earnings  ...  \\\n",
       "11938          0.00       0.00      0.00        3,262.80  ...   \n",
       "\n",
       "                   job_title   gender  \\\n",
       "11938  RECREATION SPECIALIST  UNKNOWN   \n",
       "\n",
       "                                            ethnic_orgin employee_subgroup  \\\n",
       "11938  BLACK OR AFRICAN AMERICAN (NON HISPANIC OR LAT...      4A FULL-TIME   \n",
       "\n",
       "      withdraw_date annual_salary  additional_benefits       business_area  \\\n",
       "11938           NaT     16,210.80             9,068.71  PARKS & RECREATION   \n",
       "\n",
       "      years_service   full_name  \n",
       "11938          9.63  TOMMIE LEE  \n",
       "\n",
       "[1 rows x 21 columns]"
      ]
     },
     "execution_count": 64,
     "metadata": {},
     "output_type": "execute_result"
    }
   ],
   "source": [
    "#11938  is our unkown gender index\n",
    "\n",
    "comp[comp['gender'] == 'UNKNOWN']"
   ]
  },
  {
   "cell_type": "code",
   "execution_count": 65,
   "metadata": {
    "hide_input": true,
    "scrolled": true
   },
   "outputs": [],
   "source": [
    "#we need to drop Tommie lee so we can cleanly make dummy variables\n",
    "comp.drop(11938,axis='index',inplace=True)"
   ]
  },
  {
   "cell_type": "code",
   "execution_count": 66,
   "metadata": {
    "hide_input": false
   },
   "outputs": [],
   "source": [
    "### make dummy variable for gender and reasign it column\n"
   ]
  },
  {
   "cell_type": "code",
   "execution_count": 67,
   "metadata": {
    "hide_input": true
   },
   "outputs": [],
   "source": [
    "#make dummy variable for gender and reasign it to comp['gender']\n",
    "#1 is male\n",
    "#0 is female\n",
    "comp['gender'] = pd.get_dummies(comp['gender'])['MALE']"
   ]
  },
  {
   "cell_type": "code",
   "execution_count": 68,
   "metadata": {
    "hide_input": false
   },
   "outputs": [],
   "source": [
    "### Make a subset of the database that only contains our numerical data"
   ]
  },
  {
   "cell_type": "code",
   "execution_count": 69,
   "metadata": {
    "hide_input": true
   },
   "outputs": [
    {
     "data": {
      "text/html": [
       "<div>\n",
       "<style scoped>\n",
       "    .dataframe tbody tr th:only-of-type {\n",
       "        vertical-align: middle;\n",
       "    }\n",
       "\n",
       "    .dataframe tbody tr th {\n",
       "        vertical-align: top;\n",
       "    }\n",
       "\n",
       "    .dataframe thead th {\n",
       "        text-align: right;\n",
       "    }\n",
       "</style>\n",
       "<table border=\"1\" class=\"dataframe\">\n",
       "  <thead>\n",
       "    <tr style=\"text-align: right;\">\n",
       "      <th></th>\n",
       "      <th>first_name</th>\n",
       "      <th>middle_name</th>\n",
       "      <th>last_name</th>\n",
       "      <th>employee_category</th>\n",
       "      <th>hire_date</th>\n",
       "      <th>base_pay</th>\n",
       "      <th>leave_payout</th>\n",
       "      <th>other_pay</th>\n",
       "      <th>overtime</th>\n",
       "      <th>gross_earnings</th>\n",
       "      <th>...</th>\n",
       "      <th>job_title</th>\n",
       "      <th>gender</th>\n",
       "      <th>ethnic_orgin</th>\n",
       "      <th>employee_subgroup</th>\n",
       "      <th>withdraw_date</th>\n",
       "      <th>annual_salary</th>\n",
       "      <th>additional_benefits</th>\n",
       "      <th>business_area</th>\n",
       "      <th>years_service</th>\n",
       "      <th>full_name</th>\n",
       "    </tr>\n",
       "  </thead>\n",
       "  <tbody>\n",
       "    <tr>\n",
       "      <th>0</th>\n",
       "      <td>ERIK</td>\n",
       "      <td>J</td>\n",
       "      <td>WALSH</td>\n",
       "      <td>CIVILIAN</td>\n",
       "      <td>1994-06-06</td>\n",
       "      <td>312,000.00</td>\n",
       "      <td>12,000.00</td>\n",
       "      <td>27,785.73</td>\n",
       "      <td>0.00</td>\n",
       "      <td>351,785.73</td>\n",
       "      <td>...</td>\n",
       "      <td>CITY MANAGER</td>\n",
       "      <td>1</td>\n",
       "      <td>HISPANIC OR LATINO</td>\n",
       "      <td>2A CITY MGR FT</td>\n",
       "      <td>NaT</td>\n",
       "      <td>312,000.00</td>\n",
       "      <td>92,976.08</td>\n",
       "      <td>CITY MANAGER</td>\n",
       "      <td>29.03</td>\n",
       "      <td>ERIK J WALSH</td>\n",
       "    </tr>\n",
       "  </tbody>\n",
       "</table>\n",
       "<p>1 rows × 21 columns</p>\n",
       "</div>"
      ],
      "text/plain": [
       "  first_name middle_name last_name employee_category  hire_date   base_pay  \\\n",
       "0       ERIK           J     WALSH          CIVILIAN 1994-06-06 312,000.00   \n",
       "\n",
       "   leave_payout  other_pay  overtime  gross_earnings  ...     job_title  \\\n",
       "0     12,000.00  27,785.73      0.00      351,785.73  ...  CITY MANAGER   \n",
       "\n",
       "  gender        ethnic_orgin employee_subgroup withdraw_date annual_salary  \\\n",
       "0      1  HISPANIC OR LATINO    2A CITY MGR FT           NaT    312,000.00   \n",
       "\n",
       "   additional_benefits  business_area years_service     full_name  \n",
       "0            92,976.08   CITY MANAGER         29.03  ERIK J WALSH  \n",
       "\n",
       "[1 rows x 21 columns]"
      ]
     },
     "execution_count": 69,
     "metadata": {},
     "output_type": "execute_result"
    }
   ],
   "source": [
    "comp.head(1)"
   ]
  },
  {
   "cell_type": "code",
   "execution_count": 70,
   "metadata": {
    "hide_input": true,
    "scrolled": true
   },
   "outputs": [],
   "source": [
    "just_numbers = comp[['base_pay','leave_payout','other_pay','overtime','gross_earnings','gender','annual_salary','additional_benefits','years_service']]"
   ]
  },
  {
   "cell_type": "code",
   "execution_count": 71,
   "metadata": {
    "hide_input": true
   },
   "outputs": [],
   "source": [
    "### Make a subset of the database that only contains numerical data specific to the business area library"
   ]
  },
  {
   "cell_type": "code",
   "execution_count": 72,
   "metadata": {
    "hide_input": true
   },
   "outputs": [],
   "source": [
    "comp_library = comp[comp['business_area']=='LIBRARY']"
   ]
  },
  {
   "cell_type": "code",
   "execution_count": 73,
   "metadata": {
    "hide_input": true
   },
   "outputs": [],
   "source": [
    "just_numbers_library = comp_library[['base_pay','leave_payout','other_pay',\n",
    "                                     'overtime','gross_earnings','gender',\n",
    "                                     'annual_salary','additional_benefits','years_service']]"
   ]
  },
  {
   "cell_type": "markdown",
   "metadata": {
    "tags": []
   },
   "source": [
    "# Data Look 2"
   ]
  },
  {
   "cell_type": "code",
   "execution_count": 74,
   "metadata": {
    "hide_input": true,
    "scrolled": true
   },
   "outputs": [],
   "source": [
    "comp.head(5)\n",
    "dfi.export(comp.head(5),\"1_compHeadstyled.png\")"
   ]
  },
  {
   "cell_type": "code",
   "execution_count": 75,
   "metadata": {
    "hide_input": true
   },
   "outputs": [
    {
     "data": {
      "text/html": [
       "<div>\n",
       "<style scoped>\n",
       "    .dataframe tbody tr th:only-of-type {\n",
       "        vertical-align: middle;\n",
       "    }\n",
       "\n",
       "    .dataframe tbody tr th {\n",
       "        vertical-align: top;\n",
       "    }\n",
       "\n",
       "    .dataframe thead th {\n",
       "        text-align: right;\n",
       "    }\n",
       "</style>\n",
       "<table border=\"1\" class=\"dataframe\">\n",
       "  <thead>\n",
       "    <tr style=\"text-align: right;\">\n",
       "      <th></th>\n",
       "      <th>first_name</th>\n",
       "      <th>middle_name</th>\n",
       "      <th>last_name</th>\n",
       "      <th>employee_category</th>\n",
       "      <th>hire_date</th>\n",
       "      <th>base_pay</th>\n",
       "      <th>leave_payout</th>\n",
       "      <th>other_pay</th>\n",
       "      <th>overtime</th>\n",
       "      <th>gross_earnings</th>\n",
       "      <th>...</th>\n",
       "      <th>job_title</th>\n",
       "      <th>gender</th>\n",
       "      <th>ethnic_orgin</th>\n",
       "      <th>employee_subgroup</th>\n",
       "      <th>withdraw_date</th>\n",
       "      <th>annual_salary</th>\n",
       "      <th>additional_benefits</th>\n",
       "      <th>business_area</th>\n",
       "      <th>years_service</th>\n",
       "      <th>full_name</th>\n",
       "    </tr>\n",
       "  </thead>\n",
       "  <tbody>\n",
       "    <tr>\n",
       "      <th>0</th>\n",
       "      <td>ERIK</td>\n",
       "      <td>J</td>\n",
       "      <td>WALSH</td>\n",
       "      <td>CIVILIAN</td>\n",
       "      <td>1994-06-06</td>\n",
       "      <td>312,000.00</td>\n",
       "      <td>12,000.00</td>\n",
       "      <td>27,785.73</td>\n",
       "      <td>0.00</td>\n",
       "      <td>351,785.73</td>\n",
       "      <td>...</td>\n",
       "      <td>CITY MANAGER</td>\n",
       "      <td>1</td>\n",
       "      <td>HISPANIC OR LATINO</td>\n",
       "      <td>2A CITY MGR FT</td>\n",
       "      <td>NaT</td>\n",
       "      <td>312,000.00</td>\n",
       "      <td>92,976.08</td>\n",
       "      <td>CITY MANAGER</td>\n",
       "      <td>29.03</td>\n",
       "      <td>ERIK J WALSH</td>\n",
       "    </tr>\n",
       "    <tr>\n",
       "      <th>1</th>\n",
       "      <td>ANDREW</td>\n",
       "      <td>NaN</td>\n",
       "      <td>SEGOVIA</td>\n",
       "      <td>CIVILIAN</td>\n",
       "      <td>2016-08-29</td>\n",
       "      <td>299,625.82</td>\n",
       "      <td>19,446.75</td>\n",
       "      <td>6,396.56</td>\n",
       "      <td>0.00</td>\n",
       "      <td>325,469.13</td>\n",
       "      <td>...</td>\n",
       "      <td>CITY ATTORNEY</td>\n",
       "      <td>1</td>\n",
       "      <td>HISPANIC OR LATINO</td>\n",
       "      <td>2B DEPT DIR FT</td>\n",
       "      <td>NaT</td>\n",
       "      <td>299,625.82</td>\n",
       "      <td>66,253.57</td>\n",
       "      <td>CITY ATTORNEY</td>\n",
       "      <td>6.80</td>\n",
       "      <td>ANDREW SEGOVIA</td>\n",
       "    </tr>\n",
       "    <tr>\n",
       "      <th>2</th>\n",
       "      <td>SCOTT</td>\n",
       "      <td>VINCENT</td>\n",
       "      <td>BELL</td>\n",
       "      <td>UNIFORM</td>\n",
       "      <td>1988-09-26</td>\n",
       "      <td>88,889.24</td>\n",
       "      <td>177,027.50</td>\n",
       "      <td>31,446.46</td>\n",
       "      <td>4,004.35</td>\n",
       "      <td>301,367.55</td>\n",
       "      <td>...</td>\n",
       "      <td>POLICE LIEUTENANT</td>\n",
       "      <td>1</td>\n",
       "      <td>WHITE (NON HISPANIC OR LATINO)</td>\n",
       "      <td>UNIFORM WITHDRAWN</td>\n",
       "      <td>2021-08-20</td>\n",
       "      <td>104,664.04</td>\n",
       "      <td>59,119.18</td>\n",
       "      <td>POLICE</td>\n",
       "      <td>34.72</td>\n",
       "      <td>SCOTT VINCENT BELL</td>\n",
       "    </tr>\n",
       "    <tr>\n",
       "      <th>3</th>\n",
       "      <td>TROY</td>\n",
       "      <td>RAY</td>\n",
       "      <td>TORRES</td>\n",
       "      <td>UNIFORM</td>\n",
       "      <td>1992-10-12</td>\n",
       "      <td>98,047.62</td>\n",
       "      <td>171,780.52</td>\n",
       "      <td>22,970.99</td>\n",
       "      <td>0.00</td>\n",
       "      <td>292,799.13</td>\n",
       "      <td>...</td>\n",
       "      <td>POLICE CAPTAIN</td>\n",
       "      <td>1</td>\n",
       "      <td>HISPANIC OR LATINO</td>\n",
       "      <td>UNIFORM WITHDRAWN</td>\n",
       "      <td>2021-08-20</td>\n",
       "      <td>117,744.12</td>\n",
       "      <td>59,070.37</td>\n",
       "      <td>POLICE</td>\n",
       "      <td>30.68</td>\n",
       "      <td>TROY RAY TORRES</td>\n",
       "    </tr>\n",
       "    <tr>\n",
       "      <th>4</th>\n",
       "      <td>MARK</td>\n",
       "      <td>STEVEN</td>\n",
       "      <td>TREVINO</td>\n",
       "      <td>UNIFORM</td>\n",
       "      <td>1993-11-27</td>\n",
       "      <td>94,099.41</td>\n",
       "      <td>5,267.07</td>\n",
       "      <td>29,166.55</td>\n",
       "      <td>147,909.38</td>\n",
       "      <td>276,442.41</td>\n",
       "      <td>...</td>\n",
       "      <td>DISTRICT FIRE CHIEF</td>\n",
       "      <td>1</td>\n",
       "      <td>HISPANIC OR LATINO</td>\n",
       "      <td>5A FIRE FULL-TIME</td>\n",
       "      <td>NaT</td>\n",
       "      <td>96,830.76</td>\n",
       "      <td>64,258.76</td>\n",
       "      <td>FIRE</td>\n",
       "      <td>29.55</td>\n",
       "      <td>MARK STEVEN TREVINO</td>\n",
       "    </tr>\n",
       "  </tbody>\n",
       "</table>\n",
       "<p>5 rows × 21 columns</p>\n",
       "</div>"
      ],
      "text/plain": [
       "  first_name middle_name last_name employee_category  hire_date   base_pay  \\\n",
       "0       ERIK           J     WALSH          CIVILIAN 1994-06-06 312,000.00   \n",
       "1     ANDREW         NaN   SEGOVIA          CIVILIAN 2016-08-29 299,625.82   \n",
       "2      SCOTT     VINCENT      BELL           UNIFORM 1988-09-26  88,889.24   \n",
       "3       TROY         RAY    TORRES           UNIFORM 1992-10-12  98,047.62   \n",
       "4       MARK      STEVEN   TREVINO           UNIFORM 1993-11-27  94,099.41   \n",
       "\n",
       "   leave_payout  other_pay   overtime  gross_earnings  ...  \\\n",
       "0     12,000.00  27,785.73       0.00      351,785.73  ...   \n",
       "1     19,446.75   6,396.56       0.00      325,469.13  ...   \n",
       "2    177,027.50  31,446.46   4,004.35      301,367.55  ...   \n",
       "3    171,780.52  22,970.99       0.00      292,799.13  ...   \n",
       "4      5,267.07  29,166.55 147,909.38      276,442.41  ...   \n",
       "\n",
       "             job_title gender                    ethnic_orgin  \\\n",
       "0         CITY MANAGER      1              HISPANIC OR LATINO   \n",
       "1        CITY ATTORNEY      1              HISPANIC OR LATINO   \n",
       "2    POLICE LIEUTENANT      1  WHITE (NON HISPANIC OR LATINO)   \n",
       "3       POLICE CAPTAIN      1              HISPANIC OR LATINO   \n",
       "4  DISTRICT FIRE CHIEF      1              HISPANIC OR LATINO   \n",
       "\n",
       "   employee_subgroup withdraw_date annual_salary  additional_benefits  \\\n",
       "0     2A CITY MGR FT           NaT    312,000.00            92,976.08   \n",
       "1     2B DEPT DIR FT           NaT    299,625.82            66,253.57   \n",
       "2  UNIFORM WITHDRAWN    2021-08-20    104,664.04            59,119.18   \n",
       "3  UNIFORM WITHDRAWN    2021-08-20    117,744.12            59,070.37   \n",
       "4  5A FIRE FULL-TIME           NaT     96,830.76            64,258.76   \n",
       "\n",
       "   business_area years_service            full_name  \n",
       "0   CITY MANAGER         29.03         ERIK J WALSH  \n",
       "1  CITY ATTORNEY          6.80       ANDREW SEGOVIA  \n",
       "2         POLICE         34.72   SCOTT VINCENT BELL  \n",
       "3         POLICE         30.68      TROY RAY TORRES  \n",
       "4           FIRE         29.55  MARK STEVEN TREVINO  \n",
       "\n",
       "[5 rows x 21 columns]"
      ]
     },
     "execution_count": 75,
     "metadata": {},
     "output_type": "execute_result"
    }
   ],
   "source": [
    "comp.head(5)"
   ]
  },
  {
   "cell_type": "code",
   "execution_count": 76,
   "metadata": {
    "hide_input": true
   },
   "outputs": [
    {
     "name": "stdout",
     "output_type": "stream",
     "text": [
      "<class 'pandas.core.frame.DataFrame'>\n",
      "Int64Index: 13419 entries, 0 to 13419\n",
      "Data columns (total 21 columns):\n",
      " #   Column               Non-Null Count  Dtype         \n",
      "---  ------               --------------  -----         \n",
      " 0   first_name           13419 non-null  object        \n",
      " 1   middle_name          5768 non-null   object        \n",
      " 2   last_name            13419 non-null  object        \n",
      " 3   employee_category    13419 non-null  object        \n",
      " 4   hire_date            13419 non-null  datetime64[ns]\n",
      " 5   base_pay             13419 non-null  float64       \n",
      " 6   leave_payout         13419 non-null  float64       \n",
      " 7   other_pay            13419 non-null  float64       \n",
      " 8   overtime             13419 non-null  float64       \n",
      " 9   gross_earnings       13419 non-null  float64       \n",
      " 10  total_compensation   13419 non-null  float64       \n",
      " 11  job_title            13419 non-null  object        \n",
      " 12  gender               13419 non-null  uint8         \n",
      " 13  ethnic_orgin         13419 non-null  object        \n",
      " 14  employee_subgroup    13419 non-null  object        \n",
      " 15  withdraw_date        1530 non-null   datetime64[ns]\n",
      " 16  annual_salary        13419 non-null  float64       \n",
      " 17  additional_benefits  13419 non-null  float64       \n",
      " 18  business_area        13419 non-null  object        \n",
      " 19  years_service        13419 non-null  float64       \n",
      " 20  full_name            13419 non-null  object        \n",
      "dtypes: datetime64[ns](2), float64(9), object(9), uint8(1)\n",
      "memory usage: 2.2+ MB\n"
     ]
    }
   ],
   "source": [
    "comp.info()"
   ]
  },
  {
   "cell_type": "markdown",
   "metadata": {},
   "source": [
    "# Exploratory Data Analysis"
   ]
  },
  {
   "cell_type": "markdown",
   "metadata": {},
   "source": [
    "#### City employees"
   ]
  },
  {
   "cell_type": "code",
   "execution_count": 77,
   "metadata": {
    "hide_input": true,
    "scrolled": false
   },
   "outputs": [],
   "source": [
    "# #lets visually looks for corelations. It'd make sense if we have lots of positive \n",
    "#     #corelations because most of our categories are types of compensation\n",
    "\n",
    "# #why do my gender rows and cols look weird?\n",
    "    \n",
    "# sns.pairplot(data=just_numbers)\n",
    "# plt.savefig('1.1_compPairPlot.png',dpi=1200)"
   ]
  },
  {
   "cell_type": "markdown",
   "metadata": {},
   "source": [
    "#### Library Employees"
   ]
  },
  {
   "cell_type": "code",
   "execution_count": 78,
   "metadata": {
    "hide_input": true
   },
   "outputs": [],
   "source": [
    "# #pairplot specific to the library\n",
    "# sns.pairplot(data=just_numbers_library)\n",
    "# plt.savefig('1.2_libraryCompPairPlot.png')"
   ]
  },
  {
   "cell_type": "markdown",
   "metadata": {
    "tags": []
   },
   "source": [
    "### How many employees are in each business area?"
   ]
  },
  {
   "cell_type": "code",
   "execution_count": 79,
   "metadata": {
    "hide_input": true
   },
   "outputs": [],
   "source": [
    "num_employees = comp['business_area'].value_counts()"
   ]
  },
  {
   "cell_type": "code",
   "execution_count": 80,
   "metadata": {
    "hide_input": true
   },
   "outputs": [
    {
     "data": {
      "text/plain": [
       "POLICE                                  3566\n",
       "FIRE                                    1923\n",
       "PARKS & RECREATION                      1198\n",
       "PUBLIC WORKS                             808\n",
       "SOLID WASTE MANAGEMENT                   792\n",
       "LIBRARY                                  520\n",
       "HEALTH                                   511\n",
       "AVIATION                                 465\n",
       "DEVELOPMENT SERVICES                     464\n",
       "PRE K 4 SA                               463\n",
       "HUMAN SERVICES                           390\n",
       "INFORMATION TECHNOLOGY SVCS              324\n",
       "CONVENTION & SPORTS FACILITIES           315\n",
       "HUMAN RESOURCES                          304\n",
       "BUILDING & EQUIPMENT SERVICES            192\n",
       "MUNICIPAL COURTS                         173\n",
       "ANIMAL CARE SERVICES                     156\n",
       "FINANCE                                  148\n",
       "CENTER CITY DEVELOPMENT & OPERATIONS     141\n",
       "CITY ATTORNEY                             86\n",
       "NEIGHBORHOOD & HOUSING SVCS               75\n",
       "311                                       75\n",
       "GOVERNMENT & PUBLIC AFFAIRS               39\n",
       "ECONOMIC DEVELOPMENT                      37\n",
       "CITY CLERK                                30\n",
       "CITY AUDITOR                              27\n",
       "RISK MANAGEMENT                           27\n",
       "PLANNING                                  23\n",
       "MAYOR & COUNCIL                           21\n",
       "ARTS & CULTURE                            20\n",
       "CITY MANAGER                              20\n",
       "MANAGEMENT & BUDGET                       18\n",
       "HISTORIC PRESERVATION                     18\n",
       "TRANSPORTATION                            12\n",
       "INNOVATION                                10\n",
       "SUSTAINABILITY                            10\n",
       "WORLD HERITAGE                             7\n",
       "READY TO WORK                              6\n",
       "EQUITY                                     5\n",
       "Name: business_area, dtype: int64"
      ]
     },
     "execution_count": 80,
     "metadata": {},
     "output_type": "execute_result"
    }
   ],
   "source": [
    "num_employees"
   ]
  },
  {
   "cell_type": "code",
   "execution_count": 81,
   "metadata": {
    "hide_input": true,
    "scrolled": false
   },
   "outputs": [
    {
     "data": {
      "image/png": "[encoded data removed]",
      "text/plain": [
       "<Figure size 864x720 with 1 Axes>"
      ]
     },
     "metadata": {
      "needs_background": "light"
     },
     "output_type": "display_data"
    }
   ],
   "source": [
    "#set up figure\n",
    "plt.figure(figsize=(12,10))\n",
    "\n",
    "#set up title and labels\n",
    "plt.title('Number of Employees Per Business Area')\n",
    "plt.xlabel('Number of Employees')\n",
    "plt.ylabel('Number of Employees')\n",
    "\n",
    "#plot the graph\n",
    "ax = sns.barplot(y=num_employees.index, x=num_employees.values)\n",
    "\n",
    "#make it look a little nicer\n",
    "plt.tight_layout()\n",
    "\n",
    "#add values to the right of each graph\n",
    "for i in ax.containers:\n",
    "    ax.bar_label(i,)\n",
    "    \n",
    "plt.savefig('1.3_Number of Employees Per Business Area.png')"
   ]
  },
  {
   "cell_type": "markdown",
   "metadata": {},
   "source": [
    "### How much does the city spend on total total-compensation?"
   ]
  },
  {
   "cell_type": "code",
   "execution_count": 82,
   "metadata": {
    "hide_input": true
   },
   "outputs": [],
   "source": [
    "ba_vs_as = comp.groupby(by='business_area')['total_compensation'].sum().sort_values(ascending=True)"
   ]
  },
  {
   "cell_type": "code",
   "execution_count": 83,
   "metadata": {
    "hide_input": true
   },
   "outputs": [
    {
     "data": {
      "text/plain": [
       "1206680842.68"
      ]
     },
     "execution_count": 83,
     "metadata": {},
     "output_type": "execute_result"
    }
   ],
   "source": [
    "ba_vs_as.sum()"
   ]
  },
  {
   "cell_type": "markdown",
   "metadata": {
    "tags": []
   },
   "source": [
    "### What business area spends the most on salaries?"
   ]
  },
  {
   "cell_type": "code",
   "execution_count": 84,
   "metadata": {
    "hide_input": true
   },
   "outputs": [
    {
     "data": {
      "image/png": "[encoded data removed]",
      "text/plain": [
       "<Figure size 864x720 with 1 Axes>"
      ]
     },
     "metadata": {
      "needs_background": "light"
     },
     "output_type": "display_data"
    },
    {
     "data": {
      "text/plain": [
       "<Figure size 432x288 with 0 Axes>"
      ]
     },
     "metadata": {},
     "output_type": "display_data"
    }
   ],
   "source": [
    "fig, ax = plt.subplots(1, 1, figsize=(12, 10))\n",
    "\n",
    "#set x and y\n",
    "x=ba_vs_as.values\n",
    "y=ba_vs_as.index\n",
    "\n",
    "#set label\n",
    "ylab=list(ba_vs_as.index)\n",
    "\n",
    "#set the color\n",
    "my_cmap = sns.color_palette(as_cmap=False)\n",
    "\n",
    "\n",
    "#plot the graph\n",
    "plt.barh(y,width=x,color=my_cmap)\n",
    "\n",
    "#set x and y labels and title\n",
    "plt.ylabel('Business Area')\n",
    "plt.xlabel('Total Employee Compensation USD')\n",
    "plt.title('Total Employee Compensation by Business Area')\n",
    "\n",
    "#redo y ticks\n",
    "plt.yticks(ticks=ylab)\n",
    "\n",
    "#make it look nice and use a thousands seperator\n",
    "plt.tight_layout\n",
    "ax.get_xaxis().set_major_formatter(\n",
    "mpl.ticker.FuncFormatter(lambda x, p: format(int(x), ',')))\n",
    "\n",
    "#show the word our plot\n",
    "plt.show()\n",
    "\n",
    "plt.savefig('1.4_Total Employee Compensation by Business Area.png')"
   ]
  },
  {
   "cell_type": "markdown",
   "metadata": {},
   "source": [
    "### What percentage of the cities money goes toward each business areas total compensation?"
   ]
  },
  {
   "cell_type": "code",
   "execution_count": 85,
   "metadata": {
    "hide_input": true,
    "scrolled": true
   },
   "outputs": [],
   "source": [
    "perc_per_ba = pd.DataFrame(ba_vs_as/ba_vs_as.sum()).sort_values(by='total_compensation',ascending=False)\n",
    "\n",
    "perc_per_ba = perc_per_ba.style.background_gradient() \n",
    "dfi.export(perc_per_ba,\"2_perc_per_ba.png\")"
   ]
  },
  {
   "cell_type": "code",
   "execution_count": 86,
   "metadata": {
    "hide_input": true
   },
   "outputs": [
    {
     "data": {
      "text/html": [
       "<style type=\"text/css\">\n",
       "#T_0b9ab_row0_col0 {\n",
       "  background-color: #023858;\n",
       "  color: #f1f1f1;\n",
       "}\n",
       "#T_0b9ab_row1_col0 {\n",
       "  background-color: #2182b9;\n",
       "  color: #f1f1f1;\n",
       "}\n",
       "#T_0b9ab_row2_col0 {\n",
       "  background-color: #eae6f1;\n",
       "  color: #000000;\n",
       "}\n",
       "#T_0b9ab_row3_col0 {\n",
       "  background-color: #ede7f2;\n",
       "  color: #000000;\n",
       "}\n",
       "#T_0b9ab_row4_col0 {\n",
       "  background-color: #f0eaf4;\n",
       "  color: #000000;\n",
       "}\n",
       "#T_0b9ab_row5_col0 {\n",
       "  background-color: #f2ecf5;\n",
       "  color: #000000;\n",
       "}\n",
       "#T_0b9ab_row6_col0, #T_0b9ab_row7_col0 {\n",
       "  background-color: #f4edf6;\n",
       "  color: #000000;\n",
       "}\n",
       "#T_0b9ab_row8_col0 {\n",
       "  background-color: #f5eef6;\n",
       "  color: #000000;\n",
       "}\n",
       "#T_0b9ab_row9_col0, #T_0b9ab_row10_col0, #T_0b9ab_row11_col0 {\n",
       "  background-color: #f7f0f7;\n",
       "  color: #000000;\n",
       "}\n",
       "#T_0b9ab_row12_col0 {\n",
       "  background-color: #faf2f8;\n",
       "  color: #000000;\n",
       "}\n",
       "#T_0b9ab_row13_col0 {\n",
       "  background-color: #fbf3f9;\n",
       "  color: #000000;\n",
       "}\n",
       "#T_0b9ab_row14_col0, #T_0b9ab_row15_col0, #T_0b9ab_row16_col0 {\n",
       "  background-color: #fbf4f9;\n",
       "  color: #000000;\n",
       "}\n",
       "#T_0b9ab_row17_col0, #T_0b9ab_row18_col0, #T_0b9ab_row19_col0 {\n",
       "  background-color: #fcf4fa;\n",
       "  color: #000000;\n",
       "}\n",
       "#T_0b9ab_row20_col0 {\n",
       "  background-color: #fdf5fa;\n",
       "  color: #000000;\n",
       "}\n",
       "#T_0b9ab_row21_col0 {\n",
       "  background-color: #fef6fa;\n",
       "  color: #000000;\n",
       "}\n",
       "#T_0b9ab_row22_col0, #T_0b9ab_row23_col0, #T_0b9ab_row24_col0, #T_0b9ab_row25_col0, #T_0b9ab_row26_col0, #T_0b9ab_row27_col0, #T_0b9ab_row28_col0 {\n",
       "  background-color: #fef6fb;\n",
       "  color: #000000;\n",
       "}\n",
       "#T_0b9ab_row29_col0, #T_0b9ab_row30_col0, #T_0b9ab_row31_col0, #T_0b9ab_row32_col0, #T_0b9ab_row33_col0, #T_0b9ab_row34_col0, #T_0b9ab_row35_col0, #T_0b9ab_row36_col0, #T_0b9ab_row37_col0, #T_0b9ab_row38_col0 {\n",
       "  background-color: #fff7fb;\n",
       "  color: #000000;\n",
       "}\n",
       "</style>\n",
       "<table id=\"T_0b9ab\">\n",
       "  <thead>\n",
       "    <tr>\n",
       "      <th class=\"blank level0\" >&nbsp;</th>\n",
       "      <th id=\"T_0b9ab_level0_col0\" class=\"col_heading level0 col0\" >total_compensation</th>\n",
       "    </tr>\n",
       "    <tr>\n",
       "      <th class=\"index_name level0\" >business_area</th>\n",
       "      <th class=\"blank col0\" >&nbsp;</th>\n",
       "    </tr>\n",
       "  </thead>\n",
       "  <tbody>\n",
       "    <tr>\n",
       "      <th id=\"T_0b9ab_level0_row0\" class=\"row_heading level0 row0\" >POLICE</th>\n",
       "      <td id=\"T_0b9ab_row0_col0\" class=\"data row0 col0\" >0.353710</td>\n",
       "    </tr>\n",
       "    <tr>\n",
       "      <th id=\"T_0b9ab_level0_row1\" class=\"row_heading level0 row1\" >FIRE</th>\n",
       "      <td id=\"T_0b9ab_row1_col0\" class=\"data row1 col0\" >0.240127</td>\n",
       "    </tr>\n",
       "    <tr>\n",
       "      <th id=\"T_0b9ab_level0_row2\" class=\"row_heading level0 row2\" >PUBLIC WORKS</th>\n",
       "      <td id=\"T_0b9ab_row2_col0\" class=\"data row2 col0\" >0.048277</td>\n",
       "    </tr>\n",
       "    <tr>\n",
       "      <th id=\"T_0b9ab_level0_row3\" class=\"row_heading level0 row3\" >SOLID WASTE MANAGEMENT</th>\n",
       "      <td id=\"T_0b9ab_row3_col0\" class=\"data row3 col0\" >0.044389</td>\n",
       "    </tr>\n",
       "    <tr>\n",
       "      <th id=\"T_0b9ab_level0_row4\" class=\"row_heading level0 row4\" >PARKS & RECREATION</th>\n",
       "      <td id=\"T_0b9ab_row4_col0\" class=\"data row4 col0\" >0.036785</td>\n",
       "    </tr>\n",
       "    <tr>\n",
       "      <th id=\"T_0b9ab_level0_row5\" class=\"row_heading level0 row5\" >AVIATION</th>\n",
       "      <td id=\"T_0b9ab_row5_col0\" class=\"data row5 col0\" >0.029692</td>\n",
       "    </tr>\n",
       "    <tr>\n",
       "      <th id=\"T_0b9ab_level0_row6\" class=\"row_heading level0 row6\" >INFORMATION TECHNOLOGY SVCS</th>\n",
       "      <td id=\"T_0b9ab_row6_col0\" class=\"data row6 col0\" >0.027304</td>\n",
       "    </tr>\n",
       "    <tr>\n",
       "      <th id=\"T_0b9ab_level0_row7\" class=\"row_heading level0 row7\" >DEVELOPMENT SERVICES</th>\n",
       "      <td id=\"T_0b9ab_row7_col0\" class=\"data row7 col0\" >0.027126</td>\n",
       "    </tr>\n",
       "    <tr>\n",
       "      <th id=\"T_0b9ab_level0_row8\" class=\"row_heading level0 row8\" >HEALTH</th>\n",
       "      <td id=\"T_0b9ab_row8_col0\" class=\"data row8 col0\" >0.024785</td>\n",
       "    </tr>\n",
       "    <tr>\n",
       "      <th id=\"T_0b9ab_level0_row9\" class=\"row_heading level0 row9\" >PRE K 4 SA</th>\n",
       "      <td id=\"T_0b9ab_row9_col0\" class=\"data row9 col0\" >0.020337</td>\n",
       "    </tr>\n",
       "    <tr>\n",
       "      <th id=\"T_0b9ab_level0_row10\" class=\"row_heading level0 row10\" >LIBRARY</th>\n",
       "      <td id=\"T_0b9ab_row10_col0\" class=\"data row10 col0\" >0.020156</td>\n",
       "    </tr>\n",
       "    <tr>\n",
       "      <th id=\"T_0b9ab_level0_row11\" class=\"row_heading level0 row11\" >HUMAN SERVICES</th>\n",
       "      <td id=\"T_0b9ab_row11_col0\" class=\"data row11 col0\" >0.019454</td>\n",
       "    </tr>\n",
       "    <tr>\n",
       "      <th id=\"T_0b9ab_level0_row12\" class=\"row_heading level0 row12\" >CONVENTION & SPORTS FACILITIES</th>\n",
       "      <td id=\"T_0b9ab_row12_col0\" class=\"data row12 col0\" >0.013638</td>\n",
       "    </tr>\n",
       "    <tr>\n",
       "      <th id=\"T_0b9ab_level0_row13\" class=\"row_heading level0 row13\" >FINANCE</th>\n",
       "      <td id=\"T_0b9ab_row13_col0\" class=\"data row13 col0\" >0.010732</td>\n",
       "    </tr>\n",
       "    <tr>\n",
       "      <th id=\"T_0b9ab_level0_row14\" class=\"row_heading level0 row14\" >MUNICIPAL COURTS</th>\n",
       "      <td id=\"T_0b9ab_row14_col0\" class=\"data row14 col0\" >0.009942</td>\n",
       "    </tr>\n",
       "    <tr>\n",
       "      <th id=\"T_0b9ab_level0_row15\" class=\"row_heading level0 row15\" >BUILDING & EQUIPMENT SERVICES</th>\n",
       "      <td id=\"T_0b9ab_row15_col0\" class=\"data row15 col0\" >0.009511</td>\n",
       "    </tr>\n",
       "    <tr>\n",
       "      <th id=\"T_0b9ab_level0_row16\" class=\"row_heading level0 row16\" >HUMAN RESOURCES</th>\n",
       "      <td id=\"T_0b9ab_row16_col0\" class=\"data row16 col0\" >0.008612</td>\n",
       "    </tr>\n",
       "    <tr>\n",
       "      <th id=\"T_0b9ab_level0_row17\" class=\"row_heading level0 row17\" >ANIMAL CARE SERVICES</th>\n",
       "      <td id=\"T_0b9ab_row17_col0\" class=\"data row17 col0\" >0.007587</td>\n",
       "    </tr>\n",
       "    <tr>\n",
       "      <th id=\"T_0b9ab_level0_row18\" class=\"row_heading level0 row18\" >CITY ATTORNEY</th>\n",
       "      <td id=\"T_0b9ab_row18_col0\" class=\"data row18 col0\" >0.007582</td>\n",
       "    </tr>\n",
       "    <tr>\n",
       "      <th id=\"T_0b9ab_level0_row19\" class=\"row_heading level0 row19\" >CENTER CITY DEVELOPMENT & OPERATIONS</th>\n",
       "      <td id=\"T_0b9ab_row19_col0\" class=\"data row19 col0\" >0.007563</td>\n",
       "    </tr>\n",
       "    <tr>\n",
       "      <th id=\"T_0b9ab_level0_row20\" class=\"row_heading level0 row20\" >NEIGHBORHOOD & HOUSING SVCS</th>\n",
       "      <td id=\"T_0b9ab_row20_col0\" class=\"data row20 col0\" >0.005120</td>\n",
       "    </tr>\n",
       "    <tr>\n",
       "      <th id=\"T_0b9ab_level0_row21\" class=\"row_heading level0 row21\" >CITY MANAGER</th>\n",
       "      <td id=\"T_0b9ab_row21_col0\" class=\"data row21 col0\" >0.003073</td>\n",
       "    </tr>\n",
       "    <tr>\n",
       "      <th id=\"T_0b9ab_level0_row22\" class=\"row_heading level0 row22\" >ECONOMIC DEVELOPMENT</th>\n",
       "      <td id=\"T_0b9ab_row22_col0\" class=\"data row22 col0\" >0.002690</td>\n",
       "    </tr>\n",
       "    <tr>\n",
       "      <th id=\"T_0b9ab_level0_row23\" class=\"row_heading level0 row23\" >GOVERNMENT & PUBLIC AFFAIRS</th>\n",
       "      <td id=\"T_0b9ab_row23_col0\" class=\"data row23 col0\" >0.002516</td>\n",
       "    </tr>\n",
       "    <tr>\n",
       "      <th id=\"T_0b9ab_level0_row24\" class=\"row_heading level0 row24\" >311</th>\n",
       "      <td id=\"T_0b9ab_row24_col0\" class=\"data row24 col0\" >0.002292</td>\n",
       "    </tr>\n",
       "    <tr>\n",
       "      <th id=\"T_0b9ab_level0_row25\" class=\"row_heading level0 row25\" >CITY AUDITOR</th>\n",
       "      <td id=\"T_0b9ab_row25_col0\" class=\"data row25 col0\" >0.002153</td>\n",
       "    </tr>\n",
       "    <tr>\n",
       "      <th id=\"T_0b9ab_level0_row26\" class=\"row_heading level0 row26\" >CITY CLERK</th>\n",
       "      <td id=\"T_0b9ab_row26_col0\" class=\"data row26 col0\" >0.001848</td>\n",
       "    </tr>\n",
       "    <tr>\n",
       "      <th id=\"T_0b9ab_level0_row27\" class=\"row_heading level0 row27\" >PLANNING</th>\n",
       "      <td id=\"T_0b9ab_row27_col0\" class=\"data row27 col0\" >0.001792</td>\n",
       "    </tr>\n",
       "    <tr>\n",
       "      <th id=\"T_0b9ab_level0_row28\" class=\"row_heading level0 row28\" >RISK MANAGEMENT</th>\n",
       "      <td id=\"T_0b9ab_row28_col0\" class=\"data row28 col0\" >0.001730</td>\n",
       "    </tr>\n",
       "    <tr>\n",
       "      <th id=\"T_0b9ab_level0_row29\" class=\"row_heading level0 row29\" >ARTS & CULTURE</th>\n",
       "      <td id=\"T_0b9ab_row29_col0\" class=\"data row29 col0\" >0.001476</td>\n",
       "    </tr>\n",
       "    <tr>\n",
       "      <th id=\"T_0b9ab_level0_row30\" class=\"row_heading level0 row30\" >MANAGEMENT & BUDGET</th>\n",
       "      <td id=\"T_0b9ab_row30_col0\" class=\"data row30 col0\" >0.001462</td>\n",
       "    </tr>\n",
       "    <tr>\n",
       "      <th id=\"T_0b9ab_level0_row31\" class=\"row_heading level0 row31\" >HISTORIC PRESERVATION</th>\n",
       "      <td id=\"T_0b9ab_row31_col0\" class=\"data row31 col0\" >0.001454</td>\n",
       "    </tr>\n",
       "    <tr>\n",
       "      <th id=\"T_0b9ab_level0_row32\" class=\"row_heading level0 row32\" >MAYOR & COUNCIL</th>\n",
       "      <td id=\"T_0b9ab_row32_col0\" class=\"data row32 col0\" >0.001236</td>\n",
       "    </tr>\n",
       "    <tr>\n",
       "      <th id=\"T_0b9ab_level0_row33\" class=\"row_heading level0 row33\" >INNOVATION</th>\n",
       "      <td id=\"T_0b9ab_row33_col0\" class=\"data row33 col0\" >0.000919</td>\n",
       "    </tr>\n",
       "    <tr>\n",
       "      <th id=\"T_0b9ab_level0_row34\" class=\"row_heading level0 row34\" >TRANSPORTATION</th>\n",
       "      <td id=\"T_0b9ab_row34_col0\" class=\"data row34 col0\" >0.000910</td>\n",
       "    </tr>\n",
       "    <tr>\n",
       "      <th id=\"T_0b9ab_level0_row35\" class=\"row_heading level0 row35\" >SUSTAINABILITY</th>\n",
       "      <td id=\"T_0b9ab_row35_col0\" class=\"data row35 col0\" >0.000839</td>\n",
       "    </tr>\n",
       "    <tr>\n",
       "      <th id=\"T_0b9ab_level0_row36\" class=\"row_heading level0 row36\" >EQUITY</th>\n",
       "      <td id=\"T_0b9ab_row36_col0\" class=\"data row36 col0\" >0.000460</td>\n",
       "    </tr>\n",
       "    <tr>\n",
       "      <th id=\"T_0b9ab_level0_row37\" class=\"row_heading level0 row37\" >WORLD HERITAGE</th>\n",
       "      <td id=\"T_0b9ab_row37_col0\" class=\"data row37 col0\" >0.000438</td>\n",
       "    </tr>\n",
       "    <tr>\n",
       "      <th id=\"T_0b9ab_level0_row38\" class=\"row_heading level0 row38\" >READY TO WORK</th>\n",
       "      <td id=\"T_0b9ab_row38_col0\" class=\"data row38 col0\" >0.000285</td>\n",
       "    </tr>\n",
       "  </tbody>\n",
       "</table>\n"
      ],
      "text/plain": [
       "<pandas.io.formats.style.Styler at 0x2211523f520>"
      ]
     },
     "execution_count": 86,
     "metadata": {},
     "output_type": "execute_result"
    }
   ],
   "source": [
    "perc_per_ba"
   ]
  },
  {
   "cell_type": "markdown",
   "metadata": {
    "tags": []
   },
   "source": [
    "## What are the 20 employees with the highest total compensation, and what is their job title?"
   ]
  },
  {
   "cell_type": "code",
   "execution_count": 87,
   "metadata": {
    "hide_input": true,
    "scrolled": false
   },
   "outputs": [],
   "source": [
    "top_twenty_employees = comp[['full_name','job_title','total_compensation']].sort_values(\n",
    "    'total_compensation',ascending=False).head(20)\n",
    "\n",
    "top_twenty_employees = top_twenty_employees.style.background_gradient() \n",
    "dfi.export(top_twenty_employees,\"3_top_twenty_employees.png\")"
   ]
  },
  {
   "cell_type": "code",
   "execution_count": 88,
   "metadata": {
    "hide_input": true
   },
   "outputs": [
    {
     "data": {
      "text/html": [
       "<style type=\"text/css\">\n",
       "#T_945ca_row0_col2 {\n",
       "  background-color: #023858;\n",
       "  color: #f1f1f1;\n",
       "}\n",
       "#T_945ca_row1_col2 {\n",
       "  background-color: #2f8bbe;\n",
       "  color: #f1f1f1;\n",
       "}\n",
       "#T_945ca_row2_col2 {\n",
       "  background-color: #8eb3d5;\n",
       "  color: #000000;\n",
       "}\n",
       "#T_945ca_row3_col2 {\n",
       "  background-color: #a5bddb;\n",
       "  color: #000000;\n",
       "}\n",
       "#T_945ca_row4_col2 {\n",
       "  background-color: #bfc9e1;\n",
       "  color: #000000;\n",
       "}\n",
       "#T_945ca_row5_col2 {\n",
       "  background-color: #c1cae2;\n",
       "  color: #000000;\n",
       "}\n",
       "#T_945ca_row6_col2 {\n",
       "  background-color: #c6cce3;\n",
       "  color: #000000;\n",
       "}\n",
       "#T_945ca_row7_col2 {\n",
       "  background-color: #e2dfee;\n",
       "  color: #000000;\n",
       "}\n",
       "#T_945ca_row8_col2 {\n",
       "  background-color: #e6e2ef;\n",
       "  color: #000000;\n",
       "}\n",
       "#T_945ca_row9_col2 {\n",
       "  background-color: #ebe6f2;\n",
       "  color: #000000;\n",
       "}\n",
       "#T_945ca_row10_col2 {\n",
       "  background-color: #f2ecf5;\n",
       "  color: #000000;\n",
       "}\n",
       "#T_945ca_row11_col2 {\n",
       "  background-color: #f5eff6;\n",
       "  color: #000000;\n",
       "}\n",
       "#T_945ca_row12_col2 {\n",
       "  background-color: #f6eff7;\n",
       "  color: #000000;\n",
       "}\n",
       "#T_945ca_row13_col2, #T_945ca_row14_col2, #T_945ca_row15_col2 {\n",
       "  background-color: #f7f0f7;\n",
       "  color: #000000;\n",
       "}\n",
       "#T_945ca_row16_col2 {\n",
       "  background-color: #fdf5fa;\n",
       "  color: #000000;\n",
       "}\n",
       "#T_945ca_row17_col2, #T_945ca_row18_col2, #T_945ca_row19_col2 {\n",
       "  background-color: #fff7fb;\n",
       "  color: #000000;\n",
       "}\n",
       "</style>\n",
       "<table id=\"T_945ca\">\n",
       "  <thead>\n",
       "    <tr>\n",
       "      <th class=\"blank level0\" >&nbsp;</th>\n",
       "      <th id=\"T_945ca_level0_col0\" class=\"col_heading level0 col0\" >full_name</th>\n",
       "      <th id=\"T_945ca_level0_col1\" class=\"col_heading level0 col1\" >job_title</th>\n",
       "      <th id=\"T_945ca_level0_col2\" class=\"col_heading level0 col2\" >total_compensation</th>\n",
       "    </tr>\n",
       "  </thead>\n",
       "  <tbody>\n",
       "    <tr>\n",
       "      <th id=\"T_945ca_level0_row0\" class=\"row_heading level0 row0\" >0</th>\n",
       "      <td id=\"T_945ca_row0_col0\" class=\"data row0 col0\" >ERIK J WALSH</td>\n",
       "      <td id=\"T_945ca_row0_col1\" class=\"data row0 col1\" >CITY MANAGER</td>\n",
       "      <td id=\"T_945ca_row0_col2\" class=\"data row0 col2\" >444761.810000</td>\n",
       "    </tr>\n",
       "    <tr>\n",
       "      <th id=\"T_945ca_level0_row1\" class=\"row_heading level0 row1\" >1</th>\n",
       "      <td id=\"T_945ca_row1_col0\" class=\"data row1 col0\" >ANDREW SEGOVIA</td>\n",
       "      <td id=\"T_945ca_row1_col1\" class=\"data row1 col1\" >CITY ATTORNEY</td>\n",
       "      <td id=\"T_945ca_row1_col2\" class=\"data row1 col2\" >391722.700000</td>\n",
       "    </tr>\n",
       "    <tr>\n",
       "      <th id=\"T_945ca_level0_row2\" class=\"row_heading level0 row2\" >2</th>\n",
       "      <td id=\"T_945ca_row2_col0\" class=\"data row2 col0\" >SCOTT VINCENT BELL</td>\n",
       "      <td id=\"T_945ca_row2_col1\" class=\"data row2 col1\" >POLICE LIEUTENANT</td>\n",
       "      <td id=\"T_945ca_row2_col2\" class=\"data row2 col2\" >360486.730000</td>\n",
       "    </tr>\n",
       "    <tr>\n",
       "      <th id=\"T_945ca_level0_row3\" class=\"row_heading level0 row3\" >3</th>\n",
       "      <td id=\"T_945ca_row3_col0\" class=\"data row3 col0\" >TROY RAY TORRES</td>\n",
       "      <td id=\"T_945ca_row3_col1\" class=\"data row3 col1\" >POLICE CAPTAIN</td>\n",
       "      <td id=\"T_945ca_row3_col2\" class=\"data row3 col2\" >351869.500000</td>\n",
       "    </tr>\n",
       "    <tr>\n",
       "      <th id=\"T_945ca_level0_row4\" class=\"row_heading level0 row4\" >4</th>\n",
       "      <td id=\"T_945ca_row4_col0\" class=\"data row4 col0\" >MARK STEVEN TREVINO</td>\n",
       "      <td id=\"T_945ca_row4_col1\" class=\"data row4 col1\" >DISTRICT FIRE CHIEF</td>\n",
       "      <td id=\"T_945ca_row4_col2\" class=\"data row4 col2\" >340701.170000</td>\n",
       "    </tr>\n",
       "    <tr>\n",
       "      <th id=\"T_945ca_level0_row5\" class=\"row_heading level0 row5\" >5</th>\n",
       "      <td id=\"T_945ca_row5_col0\" class=\"data row5 col0\" >STEVE S ALMANZA</td>\n",
       "      <td id=\"T_945ca_row5_col1\" class=\"data row5 col1\" >POLICE SERGEANT</td>\n",
       "      <td id=\"T_945ca_row5_col2\" class=\"data row5 col2\" >339582.830000</td>\n",
       "    </tr>\n",
       "    <tr>\n",
       "      <th id=\"T_945ca_level0_row6\" class=\"row_heading level0 row6\" >6</th>\n",
       "      <td id=\"T_945ca_row6_col0\" class=\"data row6 col0\" >MARIA D VILLAGOMEZ</td>\n",
       "      <td id=\"T_945ca_row6_col1\" class=\"data row6 col1\" >DEPUTY CITY MANAGER</td>\n",
       "      <td id=\"T_945ca_row6_col2\" class=\"data row6 col2\" >337116.450000</td>\n",
       "    </tr>\n",
       "    <tr>\n",
       "      <th id=\"T_945ca_level0_row7\" class=\"row_heading level0 row7\" >7</th>\n",
       "      <td id=\"T_945ca_row7_col0\" class=\"data row7 col0\" >ANTHONY R MURO</td>\n",
       "      <td id=\"T_945ca_row7_col1\" class=\"data row7 col1\" >DEPUTY CHIEF</td>\n",
       "      <td id=\"T_945ca_row7_col2\" class=\"data row7 col2\" >321372.080000</td>\n",
       "    </tr>\n",
       "    <tr>\n",
       "      <th id=\"T_945ca_level0_row8\" class=\"row_heading level0 row8\" >8</th>\n",
       "      <td id=\"T_945ca_row8_col0\" class=\"data row8 col0\" >RANDA GAYL CONNALLY BROWN</td>\n",
       "      <td id=\"T_945ca_row8_col1\" class=\"data row8 col1\" >FIRE ENGINEER</td>\n",
       "      <td id=\"T_945ca_row8_col2\" class=\"data row8 col2\" >318801.030000</td>\n",
       "    </tr>\n",
       "    <tr>\n",
       "      <th id=\"T_945ca_level0_row9\" class=\"row_heading level0 row9\" >9</th>\n",
       "      <td id=\"T_945ca_row9_col0\" class=\"data row9 col0\" >DEAN R REUTER</td>\n",
       "      <td id=\"T_945ca_row9_col1\" class=\"data row9 col1\" >POLICE SERGEANT</td>\n",
       "      <td id=\"T_945ca_row9_col2\" class=\"data row9 col2\" >315360.250000</td>\n",
       "    </tr>\n",
       "    <tr>\n",
       "      <th id=\"T_945ca_level0_row10\" class=\"row_heading level0 row10\" >10</th>\n",
       "      <td id=\"T_945ca_row10_col0\" class=\"data row10 col0\" >BEN GORZELL</td>\n",
       "      <td id=\"T_945ca_row10_col1\" class=\"data row10 col1\" >CHIEF FINANCIAL OFFICER</td>\n",
       "      <td id=\"T_945ca_row10_col2\" class=\"data row10 col2\" >308909.140000</td>\n",
       "    </tr>\n",
       "    <tr>\n",
       "      <th id=\"T_945ca_level0_row11\" class=\"row_heading level0 row11\" >11</th>\n",
       "      <td id=\"T_945ca_row11_col0\" class=\"data row11 col0\" >DAVID C CLARE</td>\n",
       "      <td id=\"T_945ca_row11_col1\" class=\"data row11 col1\" >POLICE OFFICER</td>\n",
       "      <td id=\"T_945ca_row11_col2\" class=\"data row11 col2\" >305606.440000</td>\n",
       "    </tr>\n",
       "    <tr>\n",
       "      <th id=\"T_945ca_level0_row12\" class=\"row_heading level0 row12\" >12</th>\n",
       "      <td id=\"T_945ca_row12_col0\" class=\"data row12 col0\" >WILLIAM PAUL MCMANUS</td>\n",
       "      <td id=\"T_945ca_row12_col1\" class=\"data row12 col1\" >POLICE CHIEF</td>\n",
       "      <td id=\"T_945ca_row12_col2\" class=\"data row12 col2\" >304591.010000</td>\n",
       "    </tr>\n",
       "    <tr>\n",
       "      <th id=\"T_945ca_level0_row13\" class=\"row_heading level0 row13\" >13</th>\n",
       "      <td id=\"T_945ca_row13_col0\" class=\"data row13 col0\" >MYRON L OBERHEU</td>\n",
       "      <td id=\"T_945ca_row13_col1\" class=\"data row13 col1\" >POLICE SERGEANT</td>\n",
       "      <td id=\"T_945ca_row13_col2\" class=\"data row13 col2\" >304132.740000</td>\n",
       "    </tr>\n",
       "    <tr>\n",
       "      <th id=\"T_945ca_level0_row14\" class=\"row_heading level0 row14\" >14</th>\n",
       "      <td id=\"T_945ca_row14_col0\" class=\"data row14 col0\" >RODERICK J SANCHEZ</td>\n",
       "      <td id=\"T_945ca_row14_col1\" class=\"data row14 col1\" >ASSISTANT CITY MANAGER</td>\n",
       "      <td id=\"T_945ca_row14_col2\" class=\"data row14 col2\" >304075.680000</td>\n",
       "    </tr>\n",
       "    <tr>\n",
       "      <th id=\"T_945ca_level0_row15\" class=\"row_heading level0 row15\" >15</th>\n",
       "      <td id=\"T_945ca_row15_col0\" class=\"data row15 col0\" >CHARLES N. HOOD</td>\n",
       "      <td id=\"T_945ca_row15_col1\" class=\"data row15 col1\" >FIRE CHIEF</td>\n",
       "      <td id=\"T_945ca_row15_col2\" class=\"data row15 col2\" >303631.430000</td>\n",
       "    </tr>\n",
       "    <tr>\n",
       "      <th id=\"T_945ca_level0_row16\" class=\"row_heading level0 row16\" >16</th>\n",
       "      <td id=\"T_945ca_row16_col0\" class=\"data row16 col0\" >DAVID WILLIAM MC CARY</td>\n",
       "      <td id=\"T_945ca_row16_col1\" class=\"data row16 col1\" >ASSISTANT CITY MANAGER</td>\n",
       "      <td id=\"T_945ca_row16_col2\" class=\"data row16 col2\" >298377.440000</td>\n",
       "    </tr>\n",
       "    <tr>\n",
       "      <th id=\"T_945ca_level0_row17\" class=\"row_heading level0 row17\" >17</th>\n",
       "      <td id=\"T_945ca_row17_col0\" class=\"data row17 col0\" >LORI ANNE HOUSTON</td>\n",
       "      <td id=\"T_945ca_row17_col1\" class=\"data row17 col1\" >ASSISTANT CITY MANAGER</td>\n",
       "      <td id=\"T_945ca_row17_col2\" class=\"data row17 col2\" >296146.160000</td>\n",
       "    </tr>\n",
       "    <tr>\n",
       "      <th id=\"T_945ca_level0_row18\" class=\"row_heading level0 row18\" >18</th>\n",
       "      <td id=\"T_945ca_row18_col0\" class=\"data row18 col0\" >ROBERT CRAIG HOPKINS</td>\n",
       "      <td id=\"T_945ca_row18_col1\" class=\"data row18 col1\" >CHIEF INFORMATION OFFICER</td>\n",
       "      <td id=\"T_945ca_row18_col2\" class=\"data row18 col2\" >296039.760000</td>\n",
       "    </tr>\n",
       "    <tr>\n",
       "      <th id=\"T_945ca_level0_row19\" class=\"row_heading level0 row19\" >19</th>\n",
       "      <td id=\"T_945ca_row19_col0\" class=\"data row19 col0\" >BRIAN T MCENERY</td>\n",
       "      <td id=\"T_945ca_row19_col1\" class=\"data row19 col1\" >DISTRICT FIRE CHIEF</td>\n",
       "      <td id=\"T_945ca_row19_col2\" class=\"data row19 col2\" >295772.280000</td>\n",
       "    </tr>\n",
       "  </tbody>\n",
       "</table>\n"
      ],
      "text/plain": [
       "<pandas.io.formats.style.Styler at 0x2211be79b50>"
      ]
     },
     "execution_count": 88,
     "metadata": {},
     "output_type": "execute_result"
    }
   ],
   "source": [
    "top_twenty_employees"
   ]
  },
  {
   "cell_type": "markdown",
   "metadata": {
    "tags": []
   },
   "source": [
    "## What business area has the average highest annual salary per employee?"
   ]
  },
  {
   "cell_type": "code",
   "execution_count": 89,
   "metadata": {
    "hide_input": true
   },
   "outputs": [],
   "source": [
    "# to do that we will need the info from the two questions above\n",
    "\n",
    "comp_per_empl = (comp.groupby(by='business_area')['annual_salary'].sum()/comp['business_area']\n",
    " .value_counts()).sort_values(ascending=False).round(2)"
   ]
  },
  {
   "cell_type": "code",
   "execution_count": 90,
   "metadata": {
    "hide_input": true,
    "scrolled": true
   },
   "outputs": [
    {
     "data": {
      "image/png": "[encoded data removed]",
      "text/plain": [
       "<Figure size 720x720 with 1 Axes>"
      ]
     },
     "metadata": {
      "needs_background": "light"
     },
     "output_type": "display_data"
    }
   ],
   "source": [
    "#set up figure\n",
    "plt.figure(figsize=(10,10))\n",
    "\n",
    "#set title and lables\n",
    "plt.title('Average Annual Salary Per Business Area')\n",
    "plt.xlabel('Average Annual Salary USD')\n",
    "plt.ylabel('Business Area')\n",
    "\n",
    "#plot\n",
    "sns.barplot(y=comp_per_empl.index, x=comp_per_empl.values)\n",
    "\n",
    "#make it look nice\n",
    "plt.tight_layout()\n",
    "\n",
    "plt.savefig('3.1_Average Annual Salary Per Business Area.png')"
   ]
  },
  {
   "cell_type": "markdown",
   "metadata": {
    "tags": []
   },
   "source": [
    "## What are the best and worst jobs by annual salary?"
   ]
  },
  {
   "cell_type": "markdown",
   "metadata": {},
   "source": [
    "#### How many unique jobs are there?"
   ]
  },
  {
   "cell_type": "code",
   "execution_count": 91,
   "metadata": {
    "hide_input": true
   },
   "outputs": [
    {
     "data": {
      "text/plain": [
       "847"
      ]
     },
     "execution_count": 91,
     "metadata": {},
     "output_type": "execute_result"
    }
   ],
   "source": [
    "comp['job_title'].nunique()"
   ]
  },
  {
   "cell_type": "code",
   "execution_count": 92,
   "metadata": {
    "hide_input": true
   },
   "outputs": [],
   "source": [
    "#what are the the top 50 jobs with the highest total compensation?\n",
    "best_jobs = pd.DataFrame(comp.groupby('job_title')['total_compensation'].mean().sort_values(ascending=False).head(50))\n",
    "best_jobs = best_jobs.style.background_gradient() \n",
    "dfi.export(best_jobs,\"4_best_jobs.png\")"
   ]
  },
  {
   "cell_type": "markdown",
   "metadata": {},
   "source": [
    "#### Best Paying Jobs"
   ]
  },
  {
   "cell_type": "code",
   "execution_count": 93,
   "metadata": {
    "hide_input": true
   },
   "outputs": [
    {
     "data": {
      "text/html": [
       "<style type=\"text/css\">\n",
       "#T_4aaac_row0_col0 {\n",
       "  background-color: #023858;\n",
       "  color: #f1f1f1;\n",
       "}\n",
       "#T_4aaac_row1_col0 {\n",
       "  background-color: #056aa6;\n",
       "  color: #f1f1f1;\n",
       "}\n",
       "#T_4aaac_row2_col0 {\n",
       "  background-color: #589ec8;\n",
       "  color: #f1f1f1;\n",
       "}\n",
       "#T_4aaac_row3_col0 {\n",
       "  background-color: #8cb3d5;\n",
       "  color: #000000;\n",
       "}\n",
       "#T_4aaac_row4_col0 {\n",
       "  background-color: #93b5d6;\n",
       "  color: #000000;\n",
       "}\n",
       "#T_4aaac_row5_col0 {\n",
       "  background-color: #94b6d7;\n",
       "  color: #000000;\n",
       "}\n",
       "#T_4aaac_row6_col0 {\n",
       "  background-color: #a1bbda;\n",
       "  color: #000000;\n",
       "}\n",
       "#T_4aaac_row7_col0 {\n",
       "  background-color: #adc1dd;\n",
       "  color: #000000;\n",
       "}\n",
       "#T_4aaac_row8_col0 {\n",
       "  background-color: #b8c6e0;\n",
       "  color: #000000;\n",
       "}\n",
       "#T_4aaac_row9_col0 {\n",
       "  background-color: #c0c9e2;\n",
       "  color: #000000;\n",
       "}\n",
       "#T_4aaac_row10_col0 {\n",
       "  background-color: #c8cde4;\n",
       "  color: #000000;\n",
       "}\n",
       "#T_4aaac_row11_col0 {\n",
       "  background-color: #d0d1e6;\n",
       "  color: #000000;\n",
       "}\n",
       "#T_4aaac_row12_col0 {\n",
       "  background-color: #d2d2e7;\n",
       "  color: #000000;\n",
       "}\n",
       "#T_4aaac_row13_col0, #T_4aaac_row14_col0, #T_4aaac_row15_col0 {\n",
       "  background-color: #d2d3e7;\n",
       "  color: #000000;\n",
       "}\n",
       "#T_4aaac_row16_col0, #T_4aaac_row17_col0 {\n",
       "  background-color: #d5d5e8;\n",
       "  color: #000000;\n",
       "}\n",
       "#T_4aaac_row18_col0 {\n",
       "  background-color: #d9d8ea;\n",
       "  color: #000000;\n",
       "}\n",
       "#T_4aaac_row19_col0 {\n",
       "  background-color: #dbdaeb;\n",
       "  color: #000000;\n",
       "}\n",
       "#T_4aaac_row20_col0 {\n",
       "  background-color: #e0deed;\n",
       "  color: #000000;\n",
       "}\n",
       "#T_4aaac_row21_col0 {\n",
       "  background-color: #e2dfee;\n",
       "  color: #000000;\n",
       "}\n",
       "#T_4aaac_row22_col0 {\n",
       "  background-color: #e3e0ee;\n",
       "  color: #000000;\n",
       "}\n",
       "#T_4aaac_row23_col0, #T_4aaac_row24_col0 {\n",
       "  background-color: #e8e4f0;\n",
       "  color: #000000;\n",
       "}\n",
       "#T_4aaac_row25_col0 {\n",
       "  background-color: #e9e5f1;\n",
       "  color: #000000;\n",
       "}\n",
       "#T_4aaac_row26_col0 {\n",
       "  background-color: #eae6f1;\n",
       "  color: #000000;\n",
       "}\n",
       "#T_4aaac_row27_col0, #T_4aaac_row28_col0 {\n",
       "  background-color: #ece7f2;\n",
       "  color: #000000;\n",
       "}\n",
       "#T_4aaac_row29_col0 {\n",
       "  background-color: #eee8f3;\n",
       "  color: #000000;\n",
       "}\n",
       "#T_4aaac_row30_col0, #T_4aaac_row31_col0 {\n",
       "  background-color: #eee9f3;\n",
       "  color: #000000;\n",
       "}\n",
       "#T_4aaac_row32_col0 {\n",
       "  background-color: #f0eaf4;\n",
       "  color: #000000;\n",
       "}\n",
       "#T_4aaac_row33_col0 {\n",
       "  background-color: #f1ebf4;\n",
       "  color: #000000;\n",
       "}\n",
       "#T_4aaac_row34_col0, #T_4aaac_row35_col0 {\n",
       "  background-color: #f2ecf5;\n",
       "  color: #000000;\n",
       "}\n",
       "#T_4aaac_row36_col0 {\n",
       "  background-color: #f4edf6;\n",
       "  color: #000000;\n",
       "}\n",
       "#T_4aaac_row37_col0, #T_4aaac_row38_col0 {\n",
       "  background-color: #f4eef6;\n",
       "  color: #000000;\n",
       "}\n",
       "#T_4aaac_row39_col0 {\n",
       "  background-color: #f5eef6;\n",
       "  color: #000000;\n",
       "}\n",
       "#T_4aaac_row40_col0 {\n",
       "  background-color: #f5eff6;\n",
       "  color: #000000;\n",
       "}\n",
       "#T_4aaac_row41_col0 {\n",
       "  background-color: #f7f0f7;\n",
       "  color: #000000;\n",
       "}\n",
       "#T_4aaac_row42_col0 {\n",
       "  background-color: #f8f1f8;\n",
       "  color: #000000;\n",
       "}\n",
       "#T_4aaac_row43_col0 {\n",
       "  background-color: #faf2f8;\n",
       "  color: #000000;\n",
       "}\n",
       "#T_4aaac_row44_col0 {\n",
       "  background-color: #faf3f9;\n",
       "  color: #000000;\n",
       "}\n",
       "#T_4aaac_row45_col0, #T_4aaac_row46_col0 {\n",
       "  background-color: #fcf4fa;\n",
       "  color: #000000;\n",
       "}\n",
       "#T_4aaac_row47_col0 {\n",
       "  background-color: #fef6fa;\n",
       "  color: #000000;\n",
       "}\n",
       "#T_4aaac_row48_col0 {\n",
       "  background-color: #fef6fb;\n",
       "  color: #000000;\n",
       "}\n",
       "#T_4aaac_row49_col0 {\n",
       "  background-color: #fff7fb;\n",
       "  color: #000000;\n",
       "}\n",
       "</style>\n",
       "<table id=\"T_4aaac\">\n",
       "  <thead>\n",
       "    <tr>\n",
       "      <th class=\"blank level0\" >&nbsp;</th>\n",
       "      <th id=\"T_4aaac_level0_col0\" class=\"col_heading level0 col0\" >total_compensation</th>\n",
       "    </tr>\n",
       "    <tr>\n",
       "      <th class=\"index_name level0\" >job_title</th>\n",
       "      <th class=\"blank col0\" >&nbsp;</th>\n",
       "    </tr>\n",
       "  </thead>\n",
       "  <tbody>\n",
       "    <tr>\n",
       "      <th id=\"T_4aaac_level0_row0\" class=\"row_heading level0 row0\" >CITY MANAGER</th>\n",
       "      <td id=\"T_4aaac_row0_col0\" class=\"data row0 col0\" >444761.810000</td>\n",
       "    </tr>\n",
       "    <tr>\n",
       "      <th id=\"T_4aaac_level0_row1\" class=\"row_heading level0 row1\" >CITY ATTORNEY</th>\n",
       "      <td id=\"T_4aaac_row1_col0\" class=\"data row1 col0\" >391722.700000</td>\n",
       "    </tr>\n",
       "    <tr>\n",
       "      <th id=\"T_4aaac_level0_row2\" class=\"row_heading level0 row2\" >DEPUTY CITY MANAGER</th>\n",
       "      <td id=\"T_4aaac_row2_col0\" class=\"data row2 col0\" >337116.450000</td>\n",
       "    </tr>\n",
       "    <tr>\n",
       "      <th id=\"T_4aaac_level0_row3\" class=\"row_heading level0 row3\" >CHIEF FINANCIAL OFFICER</th>\n",
       "      <td id=\"T_4aaac_row3_col0\" class=\"data row3 col0\" >308909.140000</td>\n",
       "    </tr>\n",
       "    <tr>\n",
       "      <th id=\"T_4aaac_level0_row4\" class=\"row_heading level0 row4\" >POLICE CHIEF</th>\n",
       "      <td id=\"T_4aaac_row4_col0\" class=\"data row4 col0\" >304591.010000</td>\n",
       "    </tr>\n",
       "    <tr>\n",
       "      <th id=\"T_4aaac_level0_row5\" class=\"row_heading level0 row5\" >FIRE CHIEF</th>\n",
       "      <td id=\"T_4aaac_row5_col0\" class=\"data row5 col0\" >303631.430000</td>\n",
       "    </tr>\n",
       "    <tr>\n",
       "      <th id=\"T_4aaac_level0_row6\" class=\"row_heading level0 row6\" >CHIEF INFORMATION OFFICER</th>\n",
       "      <td id=\"T_4aaac_row6_col0\" class=\"data row6 col0\" >296039.760000</td>\n",
       "    </tr>\n",
       "    <tr>\n",
       "      <th id=\"T_4aaac_level0_row7\" class=\"row_heading level0 row7\" >ASSISTANT CITY MANAGER</th>\n",
       "      <td id=\"T_4aaac_row7_col0\" class=\"data row7 col0\" >288128.188571</td>\n",
       "    </tr>\n",
       "    <tr>\n",
       "      <th id=\"T_4aaac_level0_row8\" class=\"row_heading level0 row8\" >FINANCE DIRECTOR</th>\n",
       "      <td id=\"T_4aaac_row8_col0\" class=\"data row8 col0\" >280239.370000</td>\n",
       "    </tr>\n",
       "    <tr>\n",
       "      <th id=\"T_4aaac_level0_row9\" class=\"row_heading level0 row9\" >AVIATION DIRECTOR</th>\n",
       "      <td id=\"T_4aaac_row9_col0\" class=\"data row9 col0\" >274990.570000</td>\n",
       "    </tr>\n",
       "    <tr>\n",
       "      <th id=\"T_4aaac_level0_row10\" class=\"row_heading level0 row10\" >ASSISTANT POLICE CHIEF</th>\n",
       "      <td id=\"T_4aaac_row10_col0\" class=\"data row10 col0\" >268727.250000</td>\n",
       "    </tr>\n",
       "    <tr>\n",
       "      <th id=\"T_4aaac_level0_row11\" class=\"row_heading level0 row11\" >BUILDING & EQUIPMENT SVCS DIRECTOR</th>\n",
       "      <td id=\"T_4aaac_row11_col0\" class=\"data row11 col0\" >263409.880000</td>\n",
       "    </tr>\n",
       "    <tr>\n",
       "      <th id=\"T_4aaac_level0_row12\" class=\"row_heading level0 row12\" >PUBLIC WORKS DIRECTOR</th>\n",
       "      <td id=\"T_4aaac_row12_col0\" class=\"data row12 col0\" >261411.610000</td>\n",
       "    </tr>\n",
       "    <tr>\n",
       "      <th id=\"T_4aaac_level0_row13\" class=\"row_heading level0 row13\" >CHIEF EXECUTIVE OFFICER</th>\n",
       "      <td id=\"T_4aaac_row13_col0\" class=\"data row13 col0\" >260749.360000</td>\n",
       "    </tr>\n",
       "    <tr>\n",
       "      <th id=\"T_4aaac_level0_row14\" class=\"row_heading level0 row14\" >FIRST ASSISTANT CITY ATTORNEY</th>\n",
       "      <td id=\"T_4aaac_row14_col0\" class=\"data row14 col0\" >260728.130000</td>\n",
       "    </tr>\n",
       "    <tr>\n",
       "      <th id=\"T_4aaac_level0_row15\" class=\"row_heading level0 row15\" >CITY INTERNAL AUDITOR</th>\n",
       "      <td id=\"T_4aaac_row15_col0\" class=\"data row15 col0\" >260594.000000</td>\n",
       "    </tr>\n",
       "    <tr>\n",
       "      <th id=\"T_4aaac_level0_row16\" class=\"row_heading level0 row16\" >DEPUTY CHIEF</th>\n",
       "      <td id=\"T_4aaac_row16_col0\" class=\"data row16 col0\" >257487.741429</td>\n",
       "    </tr>\n",
       "    <tr>\n",
       "      <th id=\"T_4aaac_level0_row17\" class=\"row_heading level0 row17\" >DEVELOPMENT SERVICES DIRECTOR</th>\n",
       "      <td id=\"T_4aaac_row17_col0\" class=\"data row17 col0\" >257467.680000</td>\n",
       "    </tr>\n",
       "    <tr>\n",
       "      <th id=\"T_4aaac_level0_row18\" class=\"row_heading level0 row18\" >LIBRARY DIRECTOR</th>\n",
       "      <td id=\"T_4aaac_row18_col0\" class=\"data row18 col0\" >254105.090000</td>\n",
       "    </tr>\n",
       "    <tr>\n",
       "      <th id=\"T_4aaac_level0_row19\" class=\"row_heading level0 row19\" >DEPUTY INFORMATION SERVICES DIR</th>\n",
       "      <td id=\"T_4aaac_row19_col0\" class=\"data row19 col0\" >250490.500000</td>\n",
       "    </tr>\n",
       "    <tr>\n",
       "      <th id=\"T_4aaac_level0_row20\" class=\"row_heading level0 row20\" >DEPUTY FIRE CHIEF</th>\n",
       "      <td id=\"T_4aaac_row20_col0\" class=\"data row20 col0\" >244724.890000</td>\n",
       "    </tr>\n",
       "    <tr>\n",
       "      <th id=\"T_4aaac_level0_row21\" class=\"row_heading level0 row21\" >CSF DIRECTOR</th>\n",
       "      <td id=\"T_4aaac_row21_col0\" class=\"data row21 col0\" >243264.440000</td>\n",
       "    </tr>\n",
       "    <tr>\n",
       "      <th id=\"T_4aaac_level0_row22\" class=\"row_heading level0 row22\" >DEPUTY PUBLIC WORKS DIRECTOR</th>\n",
       "      <td id=\"T_4aaac_row22_col0\" class=\"data row22 col0\" >242557.280000</td>\n",
       "    </tr>\n",
       "    <tr>\n",
       "      <th id=\"T_4aaac_level0_row23\" class=\"row_heading level0 row23\" >DISTRICT FIRE CHIEF</th>\n",
       "      <td id=\"T_4aaac_row23_col0\" class=\"data row23 col0\" >236597.072222</td>\n",
       "    </tr>\n",
       "    <tr>\n",
       "      <th id=\"T_4aaac_level0_row24\" class=\"row_heading level0 row24\" >HUMAN SERVICES DIRECTOR</th>\n",
       "      <td id=\"T_4aaac_row24_col0\" class=\"data row24 col0\" >236358.460000</td>\n",
       "    </tr>\n",
       "    <tr>\n",
       "      <th id=\"T_4aaac_level0_row25\" class=\"row_heading level0 row25\" >PLANNING & COMMUNITY DEV DIRECTOR</th>\n",
       "      <td id=\"T_4aaac_row25_col0\" class=\"data row25 col0\" >236046.870000</td>\n",
       "    </tr>\n",
       "    <tr>\n",
       "      <th id=\"T_4aaac_level0_row26\" class=\"row_heading level0 row26\" >SOLID WASTE MANAGEMENT DIRECTOR</th>\n",
       "      <td id=\"T_4aaac_row26_col0\" class=\"data row26 col0\" >235136.050000</td>\n",
       "    </tr>\n",
       "    <tr>\n",
       "      <th id=\"T_4aaac_level0_row27\" class=\"row_heading level0 row27\" >NEIGHBORHOOD & HOUSING SVCS DIR</th>\n",
       "      <td id=\"T_4aaac_row27_col0\" class=\"data row27 col0\" >232937.870000</td>\n",
       "    </tr>\n",
       "    <tr>\n",
       "      <th id=\"T_4aaac_level0_row28\" class=\"row_heading level0 row28\" >CHIEF INFORMATION SECURITY OFFICER</th>\n",
       "      <td id=\"T_4aaac_row28_col0\" class=\"data row28 col0\" >232612.940000</td>\n",
       "    </tr>\n",
       "    <tr>\n",
       "      <th id=\"T_4aaac_level0_row29\" class=\"row_heading level0 row29\" >MANAGEMENT & BUDGET DIRECTOR</th>\n",
       "      <td id=\"T_4aaac_row29_col0\" class=\"data row29 col0\" >230205.900000</td>\n",
       "    </tr>\n",
       "    <tr>\n",
       "      <th id=\"T_4aaac_level0_row30\" class=\"row_heading level0 row30\" >POLICE CAPTAIN</th>\n",
       "      <td id=\"T_4aaac_row30_col0\" class=\"data row30 col0\" >228819.670000</td>\n",
       "    </tr>\n",
       "    <tr>\n",
       "      <th id=\"T_4aaac_level0_row31\" class=\"row_heading level0 row31\" >ASSISTANT FIRE CHIEF</th>\n",
       "      <td id=\"T_4aaac_row31_col0\" class=\"data row31 col0\" >228635.370000</td>\n",
       "    </tr>\n",
       "    <tr>\n",
       "      <th id=\"T_4aaac_level0_row32\" class=\"row_heading level0 row32\" >HUMAN RESOURCES DIRECTOR</th>\n",
       "      <td id=\"T_4aaac_row32_col0\" class=\"data row32 col0\" >226745.680000</td>\n",
       "    </tr>\n",
       "    <tr>\n",
       "      <th id=\"T_4aaac_level0_row33\" class=\"row_heading level0 row33\" >PARKS & RECREATION DIRECTOR</th>\n",
       "      <td id=\"T_4aaac_row33_col0\" class=\"data row33 col0\" >225414.000000</td>\n",
       "    </tr>\n",
       "    <tr>\n",
       "      <th id=\"T_4aaac_level0_row34\" class=\"row_heading level0 row34\" >DEPUTY DEVELOPMENT SVCS DIRECTOR</th>\n",
       "      <td id=\"T_4aaac_row34_col0\" class=\"data row34 col0\" >222879.760000</td>\n",
       "    </tr>\n",
       "    <tr>\n",
       "      <th id=\"T_4aaac_level0_row35\" class=\"row_heading level0 row35\" >ASST DIRECTOR</th>\n",
       "      <td id=\"T_4aaac_row35_col0\" class=\"data row35 col0\" >222404.420000</td>\n",
       "    </tr>\n",
       "    <tr>\n",
       "      <th id=\"T_4aaac_level0_row36\" class=\"row_heading level0 row36\" >ASST INFORMATION SERVICES DIRECTOR</th>\n",
       "      <td id=\"T_4aaac_row36_col0\" class=\"data row36 col0\" >220708.260000</td>\n",
       "    </tr>\n",
       "    <tr>\n",
       "      <th id=\"T_4aaac_level0_row37\" class=\"row_heading level0 row37\" >RISK MANAGEMENT DIRECTOR</th>\n",
       "      <td id=\"T_4aaac_row37_col0\" class=\"data row37 col0\" >219897.170000</td>\n",
       "    </tr>\n",
       "    <tr>\n",
       "      <th id=\"T_4aaac_level0_row38\" class=\"row_heading level0 row38\" >ASSISTANT PUBLIC HEALTH DIRECTOR</th>\n",
       "      <td id=\"T_4aaac_row38_col0\" class=\"data row38 col0\" >219848.560000</td>\n",
       "    </tr>\n",
       "    <tr>\n",
       "      <th id=\"T_4aaac_level0_row39\" class=\"row_heading level0 row39\" >CULTURAL AFFAIRS DIRECTOR</th>\n",
       "      <td id=\"T_4aaac_row39_col0\" class=\"data row39 col0\" >218484.520000</td>\n",
       "    </tr>\n",
       "    <tr>\n",
       "      <th id=\"T_4aaac_level0_row40\" class=\"row_heading level0 row40\" >ASSISTANT PUBLIC UTILITIES DIRECTOR</th>\n",
       "      <td id=\"T_4aaac_row40_col0\" class=\"data row40 col0\" >218116.820000</td>\n",
       "    </tr>\n",
       "    <tr>\n",
       "      <th id=\"T_4aaac_level0_row41\" class=\"row_heading level0 row41\" >AVIATION DEPUTY DIRECTOR</th>\n",
       "      <td id=\"T_4aaac_row41_col0\" class=\"data row41 col0\" >215535.800000</td>\n",
       "    </tr>\n",
       "    <tr>\n",
       "      <th id=\"T_4aaac_level0_row42\" class=\"row_heading level0 row42\" >POLICE LIEUTENANT</th>\n",
       "      <td id=\"T_4aaac_row42_col0\" class=\"data row42 col0\" >214252.237037</td>\n",
       "    </tr>\n",
       "    <tr>\n",
       "      <th id=\"T_4aaac_level0_row43\" class=\"row_heading level0 row43\" >ASSISTANT FINANCE DIRECTOR</th>\n",
       "      <td id=\"T_4aaac_row43_col0\" class=\"data row43 col0\" >210990.420000</td>\n",
       "    </tr>\n",
       "    <tr>\n",
       "      <th id=\"T_4aaac_level0_row44\" class=\"row_heading level0 row44\" >ASSISTANT PW DIRECTOR </th>\n",
       "      <td id=\"T_4aaac_row44_col0\" class=\"data row44 col0\" >210460.620000</td>\n",
       "    </tr>\n",
       "    <tr>\n",
       "      <th id=\"T_4aaac_level0_row45\" class=\"row_heading level0 row45\" >DIRECTOR OF HISTORIC PRESERVATION</th>\n",
       "      <td id=\"T_4aaac_row45_col0\" class=\"data row45 col0\" >207506.160000</td>\n",
       "    </tr>\n",
       "    <tr>\n",
       "      <th id=\"T_4aaac_level0_row46\" class=\"row_heading level0 row46\" >CENTER CITY DEVELOPMENT DIRECTOR</th>\n",
       "      <td id=\"T_4aaac_row46_col0\" class=\"data row46 col0\" >207289.000000</td>\n",
       "    </tr>\n",
       "    <tr>\n",
       "      <th id=\"T_4aaac_level0_row47\" class=\"row_heading level0 row47\" >ASST CENTER CITY DEV DIRECTOR</th>\n",
       "      <td id=\"T_4aaac_row47_col0\" class=\"data row47 col0\" >204427.810000</td>\n",
       "    </tr>\n",
       "    <tr>\n",
       "      <th id=\"T_4aaac_level0_row48\" class=\"row_heading level0 row48\" >MILITARY AFFAIRS DIRECTOR</th>\n",
       "      <td id=\"T_4aaac_row48_col0\" class=\"data row48 col0\" >203654.150000</td>\n",
       "    </tr>\n",
       "    <tr>\n",
       "      <th id=\"T_4aaac_level0_row49\" class=\"row_heading level0 row49\" >CITY CLERK</th>\n",
       "      <td id=\"T_4aaac_row49_col0\" class=\"data row49 col0\" >202033.830000</td>\n",
       "    </tr>\n",
       "  </tbody>\n",
       "</table>\n"
      ],
      "text/plain": [
       "<pandas.io.formats.style.Styler at 0x2211b55bb50>"
      ]
     },
     "execution_count": 93,
     "metadata": {},
     "output_type": "execute_result"
    }
   ],
   "source": [
    "best_jobs"
   ]
  },
  {
   "cell_type": "code",
   "execution_count": 94,
   "metadata": {
    "hide_input": true
   },
   "outputs": [],
   "source": [
    "#what are the the lowest 20 jobs with the lowest average salary? \n",
    "worst_jobs = pd.DataFrame(comp.groupby('job_title')['total_compensation'].mean().sort_values().head(50))\n",
    "worst_jobs = worst_jobs.style.background_gradient() \n",
    "dfi.export(worst_jobs,\"5_worst_jobs.png\")"
   ]
  },
  {
   "cell_type": "markdown",
   "metadata": {},
   "source": [
    "#### Worst Paying Jobs"
   ]
  },
  {
   "cell_type": "code",
   "execution_count": 95,
   "metadata": {
    "hide_input": true,
    "scrolled": true
   },
   "outputs": [
    {
     "data": {
      "text/html": [
       "<style type=\"text/css\">\n",
       "#T_74f7a_row0_col0 {\n",
       "  background-color: #fff7fb;\n",
       "  color: #000000;\n",
       "}\n",
       "#T_74f7a_row1_col0 {\n",
       "  background-color: #faf3f9;\n",
       "  color: #000000;\n",
       "}\n",
       "#T_74f7a_row2_col0, #T_74f7a_row3_col0 {\n",
       "  background-color: #f5eff6;\n",
       "  color: #000000;\n",
       "}\n",
       "#T_74f7a_row4_col0 {\n",
       "  background-color: #f4edf6;\n",
       "  color: #000000;\n",
       "}\n",
       "#T_74f7a_row5_col0 {\n",
       "  background-color: #f3edf5;\n",
       "  color: #000000;\n",
       "}\n",
       "#T_74f7a_row6_col0 {\n",
       "  background-color: #efe9f3;\n",
       "  color: #000000;\n",
       "}\n",
       "#T_74f7a_row7_col0 {\n",
       "  background-color: #e8e4f0;\n",
       "  color: #000000;\n",
       "}\n",
       "#T_74f7a_row8_col0 {\n",
       "  background-color: #e6e2ef;\n",
       "  color: #000000;\n",
       "}\n",
       "#T_74f7a_row9_col0 {\n",
       "  background-color: #dfddec;\n",
       "  color: #000000;\n",
       "}\n",
       "#T_74f7a_row10_col0 {\n",
       "  background-color: #dedcec;\n",
       "  color: #000000;\n",
       "}\n",
       "#T_74f7a_row11_col0, #T_74f7a_row12_col0 {\n",
       "  background-color: #dcdaeb;\n",
       "  color: #000000;\n",
       "}\n",
       "#T_74f7a_row13_col0 {\n",
       "  background-color: #d9d8ea;\n",
       "  color: #000000;\n",
       "}\n",
       "#T_74f7a_row14_col0 {\n",
       "  background-color: #d7d6e9;\n",
       "  color: #000000;\n",
       "}\n",
       "#T_74f7a_row15_col0 {\n",
       "  background-color: #ced0e6;\n",
       "  color: #000000;\n",
       "}\n",
       "#T_74f7a_row16_col0 {\n",
       "  background-color: #bdc8e1;\n",
       "  color: #000000;\n",
       "}\n",
       "#T_74f7a_row17_col0 {\n",
       "  background-color: #bcc7e1;\n",
       "  color: #000000;\n",
       "}\n",
       "#T_74f7a_row18_col0 {\n",
       "  background-color: #b4c4df;\n",
       "  color: #000000;\n",
       "}\n",
       "#T_74f7a_row19_col0 {\n",
       "  background-color: #acc0dd;\n",
       "  color: #000000;\n",
       "}\n",
       "#T_74f7a_row20_col0 {\n",
       "  background-color: #a1bbda;\n",
       "  color: #000000;\n",
       "}\n",
       "#T_74f7a_row21_col0 {\n",
       "  background-color: #9ebad9;\n",
       "  color: #000000;\n",
       "}\n",
       "#T_74f7a_row22_col0 {\n",
       "  background-color: #9cb9d9;\n",
       "  color: #000000;\n",
       "}\n",
       "#T_74f7a_row23_col0 {\n",
       "  background-color: #94b6d7;\n",
       "  color: #000000;\n",
       "}\n",
       "#T_74f7a_row24_col0 {\n",
       "  background-color: #8fb4d6;\n",
       "  color: #000000;\n",
       "}\n",
       "#T_74f7a_row25_col0 {\n",
       "  background-color: #76aad0;\n",
       "  color: #f1f1f1;\n",
       "}\n",
       "#T_74f7a_row26_col0 {\n",
       "  background-color: #6ba5cd;\n",
       "  color: #f1f1f1;\n",
       "}\n",
       "#T_74f7a_row27_col0 {\n",
       "  background-color: #4697c4;\n",
       "  color: #f1f1f1;\n",
       "}\n",
       "#T_74f7a_row28_col0 {\n",
       "  background-color: #2383ba;\n",
       "  color: #f1f1f1;\n",
       "}\n",
       "#T_74f7a_row29_col0 {\n",
       "  background-color: #2182b9;\n",
       "  color: #f1f1f1;\n",
       "}\n",
       "#T_74f7a_row30_col0 {\n",
       "  background-color: #1278b4;\n",
       "  color: #f1f1f1;\n",
       "}\n",
       "#T_74f7a_row31_col0 {\n",
       "  background-color: #0a73b2;\n",
       "  color: #f1f1f1;\n",
       "}\n",
       "#T_74f7a_row32_col0 {\n",
       "  background-color: #056ba9;\n",
       "  color: #f1f1f1;\n",
       "}\n",
       "#T_74f7a_row33_col0 {\n",
       "  background-color: #04649e;\n",
       "  color: #f1f1f1;\n",
       "}\n",
       "#T_74f7a_row34_col0 {\n",
       "  background-color: #046299;\n",
       "  color: #f1f1f1;\n",
       "}\n",
       "#T_74f7a_row35_col0 {\n",
       "  background-color: #045e94;\n",
       "  color: #f1f1f1;\n",
       "}\n",
       "#T_74f7a_row36_col0 {\n",
       "  background-color: #045b8e;\n",
       "  color: #f1f1f1;\n",
       "}\n",
       "#T_74f7a_row37_col0 {\n",
       "  background-color: #045382;\n",
       "  color: #f1f1f1;\n",
       "}\n",
       "#T_74f7a_row38_col0 {\n",
       "  background-color: #045280;\n",
       "  color: #f1f1f1;\n",
       "}\n",
       "#T_74f7a_row39_col0 {\n",
       "  background-color: #034f7d;\n",
       "  color: #f1f1f1;\n",
       "}\n",
       "#T_74f7a_row40_col0 {\n",
       "  background-color: #03456c;\n",
       "  color: #f1f1f1;\n",
       "}\n",
       "#T_74f7a_row41_col0 {\n",
       "  background-color: #034369;\n",
       "  color: #f1f1f1;\n",
       "}\n",
       "#T_74f7a_row42_col0 {\n",
       "  background-color: #034165;\n",
       "  color: #f1f1f1;\n",
       "}\n",
       "#T_74f7a_row43_col0 {\n",
       "  background-color: #023e62;\n",
       "  color: #f1f1f1;\n",
       "}\n",
       "#T_74f7a_row44_col0 {\n",
       "  background-color: #023d60;\n",
       "  color: #f1f1f1;\n",
       "}\n",
       "#T_74f7a_row45_col0 {\n",
       "  background-color: #023c5f;\n",
       "  color: #f1f1f1;\n",
       "}\n",
       "#T_74f7a_row46_col0, #T_74f7a_row47_col0 {\n",
       "  background-color: #02395a;\n",
       "  color: #f1f1f1;\n",
       "}\n",
       "#T_74f7a_row48_col0, #T_74f7a_row49_col0 {\n",
       "  background-color: #023858;\n",
       "  color: #f1f1f1;\n",
       "}\n",
       "</style>\n",
       "<table id=\"T_74f7a\">\n",
       "  <thead>\n",
       "    <tr>\n",
       "      <th class=\"blank level0\" >&nbsp;</th>\n",
       "      <th id=\"T_74f7a_level0_col0\" class=\"col_heading level0 col0\" >total_compensation</th>\n",
       "    </tr>\n",
       "    <tr>\n",
       "      <th class=\"index_name level0\" >job_title</th>\n",
       "      <th class=\"blank col0\" >&nbsp;</th>\n",
       "    </tr>\n",
       "  </thead>\n",
       "  <tbody>\n",
       "    <tr>\n",
       "      <th id=\"T_74f7a_level0_row0\" class=\"row_heading level0 row0\" >FIREFIGHTER TRAINEE</th>\n",
       "      <td id=\"T_74f7a_row0_col0\" class=\"data row0 col0\" >171.910000</td>\n",
       "    </tr>\n",
       "    <tr>\n",
       "      <th id=\"T_74f7a_level0_row1\" class=\"row_heading level0 row1\" >STUDENT INTERN III</th>\n",
       "      <td id=\"T_74f7a_row1_col0\" class=\"data row1 col0\" >1376.570000</td>\n",
       "    </tr>\n",
       "    <tr>\n",
       "      <th id=\"T_74f7a_level0_row2\" class=\"row_heading level0 row2\" >TEMPORARY SUMMER EMPLOYEE</th>\n",
       "      <td id=\"T_74f7a_row2_col0\" class=\"data row2 col0\" >2327.212857</td>\n",
       "    </tr>\n",
       "    <tr>\n",
       "      <th id=\"T_74f7a_level0_row3\" class=\"row_heading level0 row3\" >PLUMBER ASSISTANT</th>\n",
       "      <td id=\"T_74f7a_row3_col0\" class=\"data row3 col0\" >2446.430000</td>\n",
       "    </tr>\n",
       "    <tr>\n",
       "      <th id=\"T_74f7a_level0_row4\" class=\"row_heading level0 row4\" >PUBLIC SERVICE ATTENDANT</th>\n",
       "      <td id=\"T_74f7a_row4_col0\" class=\"data row4 col0\" >2743.325479</td>\n",
       "    </tr>\n",
       "    <tr>\n",
       "      <th id=\"T_74f7a_level0_row5\" class=\"row_heading level0 row5\" >RECREATION ASSISTANT</th>\n",
       "      <td id=\"T_74f7a_row5_col0\" class=\"data row5 col0\" >2967.320807</td>\n",
       "    </tr>\n",
       "    <tr>\n",
       "      <th id=\"T_74f7a_level0_row6\" class=\"row_heading level0 row6\" >LIFEGUARD</th>\n",
       "      <td id=\"T_74f7a_row6_col0\" class=\"data row6 col0\" >3870.556947</td>\n",
       "    </tr>\n",
       "    <tr>\n",
       "      <th id=\"T_74f7a_level0_row7\" class=\"row_heading level0 row7\" >SWIMMING POOL SUPERVISOR</th>\n",
       "      <td id=\"T_74f7a_row7_col0\" class=\"data row7 col0\" >5113.051500</td>\n",
       "    </tr>\n",
       "    <tr>\n",
       "      <th id=\"T_74f7a_level0_row8\" class=\"row_heading level0 row8\" >PUBLIC HEALTH DENTIST</th>\n",
       "      <td id=\"T_74f7a_row8_col0\" class=\"data row8 col0\" >5471.380000</td>\n",
       "    </tr>\n",
       "    <tr>\n",
       "      <th id=\"T_74f7a_level0_row9\" class=\"row_heading level0 row9\" >SCHOOL CROSSING GUARD</th>\n",
       "      <td id=\"T_74f7a_row9_col0\" class=\"data row9 col0\" >6553.242603</td>\n",
       "    </tr>\n",
       "    <tr>\n",
       "      <th id=\"T_74f7a_level0_row10\" class=\"row_heading level0 row10\" >APPRENTICE I</th>\n",
       "      <td id=\"T_74f7a_row10_col0\" class=\"data row10 col0\" >6657.656875</td>\n",
       "    </tr>\n",
       "    <tr>\n",
       "      <th id=\"T_74f7a_level0_row11\" class=\"row_heading level0 row11\" >PUBLIC AFFAIRS COORDINATOR</th>\n",
       "      <td id=\"T_74f7a_row11_col0\" class=\"data row11 col0\" >6904.210000</td>\n",
       "    </tr>\n",
       "    <tr>\n",
       "      <th id=\"T_74f7a_level0_row12\" class=\"row_heading level0 row12\" >STUDENT INTERN II</th>\n",
       "      <td id=\"T_74f7a_row12_col0\" class=\"data row12 col0\" >6936.640000</td>\n",
       "    </tr>\n",
       "    <tr>\n",
       "      <th id=\"T_74f7a_level0_row13\" class=\"row_heading level0 row13\" >AUDIO VISUAL TECHNICIAN</th>\n",
       "      <td id=\"T_74f7a_row13_col0\" class=\"data row13 col0\" >7535.197500</td>\n",
       "    </tr>\n",
       "    <tr>\n",
       "      <th id=\"T_74f7a_level0_row14\" class=\"row_heading level0 row14\" >SUBSTITUTE TEACHER</th>\n",
       "      <td id=\"T_74f7a_row14_col0\" class=\"data row14 col0\" >7812.090385</td>\n",
       "    </tr>\n",
       "    <tr>\n",
       "      <th id=\"T_74f7a_level0_row15\" class=\"row_heading level0 row15\" >FUEL SPECIALIST</th>\n",
       "      <td id=\"T_74f7a_row15_col0\" class=\"data row15 col0\" >8936.880000</td>\n",
       "    </tr>\n",
       "    <tr>\n",
       "      <th id=\"T_74f7a_level0_row16\" class=\"row_heading level0 row16\" >MULTI</th>\n",
       "      <td id=\"T_74f7a_row16_col0\" class=\"data row16 col0\" >10770.350000</td>\n",
       "    </tr>\n",
       "    <tr>\n",
       "      <th id=\"T_74f7a_level0_row17\" class=\"row_heading level0 row17\" >SECURITY GUARD SUPERVISOR</th>\n",
       "      <td id=\"T_74f7a_row17_col0\" class=\"data row17 col0\" >10829.990000</td>\n",
       "    </tr>\n",
       "    <tr>\n",
       "      <th id=\"T_74f7a_level0_row18\" class=\"row_heading level0 row18\" >PARK COMMUNITY SERVICE LIAISON</th>\n",
       "      <td id=\"T_74f7a_row18_col0\" class=\"data row18 col0\" >11653.430000</td>\n",
       "    </tr>\n",
       "    <tr>\n",
       "      <th id=\"T_74f7a_level0_row19\" class=\"row_heading level0 row19\" >APPRENTICE II</th>\n",
       "      <td id=\"T_74f7a_row19_col0\" class=\"data row19 col0\" >12439.750000</td>\n",
       "    </tr>\n",
       "    <tr>\n",
       "      <th id=\"T_74f7a_level0_row20\" class=\"row_heading level0 row20\" >VITAL RECORDS SUPERVISOR</th>\n",
       "      <td id=\"T_74f7a_row20_col0\" class=\"data row20 col0\" >13569.360000</td>\n",
       "    </tr>\n",
       "    <tr>\n",
       "      <th id=\"T_74f7a_level0_row21\" class=\"row_heading level0 row21\" >LIBRARY AIDE</th>\n",
       "      <td id=\"T_74f7a_row21_col0\" class=\"data row21 col0\" >13770.726364</td>\n",
       "    </tr>\n",
       "    <tr>\n",
       "      <th id=\"T_74f7a_level0_row22\" class=\"row_heading level0 row22\" >RECREATION INSTRUCTOR</th>\n",
       "      <td id=\"T_74f7a_row22_col0\" class=\"data row22 col0\" >13904.915625</td>\n",
       "    </tr>\n",
       "    <tr>\n",
       "      <th id=\"T_74f7a_level0_row23\" class=\"row_heading level0 row23\" >PARKING ATTENDANT</th>\n",
       "      <td id=\"T_74f7a_row23_col0\" class=\"data row23 col0\" >14692.105122</td>\n",
       "    </tr>\n",
       "    <tr>\n",
       "      <th id=\"T_74f7a_level0_row24\" class=\"row_heading level0 row24\" >FIRE SERVICES OFFICER</th>\n",
       "      <td id=\"T_74f7a_row24_col0\" class=\"data row24 col0\" >15041.960000</td>\n",
       "    </tr>\n",
       "    <tr>\n",
       "      <th id=\"T_74f7a_level0_row25\" class=\"row_heading level0 row25\" >WORKFORCE DEVELOPMENT DIRECTOR</th>\n",
       "      <td id=\"T_74f7a_row25_col0\" class=\"data row25 col0\" >17144.220000</td>\n",
       "    </tr>\n",
       "    <tr>\n",
       "      <th id=\"T_74f7a_level0_row26\" class=\"row_heading level0 row26\" >RECREATION SPECIALIST</th>\n",
       "      <td id=\"T_74f7a_row26_col0\" class=\"data row26 col0\" >18051.428431</td>\n",
       "    </tr>\n",
       "    <tr>\n",
       "      <th id=\"T_74f7a_level0_row27\" class=\"row_heading level0 row27\" >FLEET ACQUISITION SPECIALIST</th>\n",
       "      <td id=\"T_74f7a_row27_col0\" class=\"data row27 col0\" >20614.000000</td>\n",
       "    </tr>\n",
       "    <tr>\n",
       "      <th id=\"T_74f7a_level0_row28\" class=\"row_heading level0 row28\" >POLICE CADET</th>\n",
       "      <td id=\"T_74f7a_row28_col0\" class=\"data row28 col0\" >23330.741007</td>\n",
       "    </tr>\n",
       "    <tr>\n",
       "      <th id=\"T_74f7a_level0_row29\" class=\"row_heading level0 row29\" >SERVICES MANAGER</th>\n",
       "      <td id=\"T_74f7a_row29_col0\" class=\"data row29 col0\" >23582.030000</td>\n",
       "    </tr>\n",
       "    <tr>\n",
       "      <th id=\"T_74f7a_level0_row30\" class=\"row_heading level0 row30\" >PARKING SUPERVISOR</th>\n",
       "      <td id=\"T_74f7a_row30_col0\" class=\"data row30 col0\" >24831.356061</td>\n",
       "    </tr>\n",
       "    <tr>\n",
       "      <th id=\"T_74f7a_level0_row31\" class=\"row_heading level0 row31\" >TEACHER'S AIDE</th>\n",
       "      <td id=\"T_74f7a_row31_col0\" class=\"data row31 col0\" >25484.140693</td>\n",
       "    </tr>\n",
       "    <tr>\n",
       "      <th id=\"T_74f7a_level0_row32\" class=\"row_heading level0 row32\" >EPIDEMIOLOGIST</th>\n",
       "      <td id=\"T_74f7a_row32_col0\" class=\"data row32 col0\" >26833.879412</td>\n",
       "    </tr>\n",
       "    <tr>\n",
       "      <th id=\"T_74f7a_level0_row33\" class=\"row_heading level0 row33\" >ASSOCIATE VIDEO PRODUCER</th>\n",
       "      <td id=\"T_74f7a_row33_col0\" class=\"data row33 col0\" >28297.832500</td>\n",
       "    </tr>\n",
       "    <tr>\n",
       "      <th id=\"T_74f7a_level0_row34\" class=\"row_heading level0 row34\" >AUDITOR I</th>\n",
       "      <td id=\"T_74f7a_row34_col0\" class=\"data row34 col0\" >28837.270000</td>\n",
       "    </tr>\n",
       "    <tr>\n",
       "      <th id=\"T_74f7a_level0_row35\" class=\"row_heading level0 row35\" >311 SERVICE REPRESENTATIVE</th>\n",
       "      <td id=\"T_74f7a_row35_col0\" class=\"data row35 col0\" >29450.987424</td>\n",
       "    </tr>\n",
       "    <tr>\n",
       "      <th id=\"T_74f7a_level0_row36\" class=\"row_heading level0 row36\" >BUDGET & MANAGEMENT ANALYST I</th>\n",
       "      <td id=\"T_74f7a_row36_col0\" class=\"data row36 col0\" >30078.776667</td>\n",
       "    </tr>\n",
       "    <tr>\n",
       "      <th id=\"T_74f7a_level0_row37\" class=\"row_heading level0 row37\" >FLEET MAINTENANCE TECHNICIAN I</th>\n",
       "      <td id=\"T_74f7a_row37_col0\" class=\"data row37 col0\" >31200.033333</td>\n",
       "    </tr>\n",
       "    <tr>\n",
       "      <th id=\"T_74f7a_level0_row38\" class=\"row_heading level0 row38\" >ADMINISTRATIVE ASSOCIATE</th>\n",
       "      <td id=\"T_74f7a_row38_col0\" class=\"data row38 col0\" >31339.439895</td>\n",
       "    </tr>\n",
       "    <tr>\n",
       "      <th id=\"T_74f7a_level0_row39\" class=\"row_heading level0 row39\" >CODE ENFORCEMENT INVESTIGATOR</th>\n",
       "      <td id=\"T_74f7a_row39_col0\" class=\"data row39 col0\" >31565.982308</td>\n",
       "    </tr>\n",
       "    <tr>\n",
       "      <th id=\"T_74f7a_level0_row40\" class=\"row_heading level0 row40\" >ANIMAL CARE ATTENDANT</th>\n",
       "      <td id=\"T_74f7a_row40_col0\" class=\"data row40 col0\" >32982.978500</td>\n",
       "    </tr>\n",
       "    <tr>\n",
       "      <th id=\"T_74f7a_level0_row41\" class=\"row_heading level0 row41\" >NUTRITION SITE COORDINATOR</th>\n",
       "      <td id=\"T_74f7a_row41_col0\" class=\"data row41 col0\" >33256.492105</td>\n",
       "    </tr>\n",
       "    <tr>\n",
       "      <th id=\"T_74f7a_level0_row42\" class=\"row_heading level0 row42\" >PUBLIC ENGAGEMENT OFFICER</th>\n",
       "      <td id=\"T_74f7a_row42_col0\" class=\"data row42 col0\" >33496.814000</td>\n",
       "    </tr>\n",
       "    <tr>\n",
       "      <th id=\"T_74f7a_level0_row43\" class=\"row_heading level0 row43\" >LIBRARY CIRCULATION ATTENDANT</th>\n",
       "      <td id=\"T_74f7a_row43_col0\" class=\"data row43 col0\" >33751.538091</td>\n",
       "    </tr>\n",
       "    <tr>\n",
       "      <th id=\"T_74f7a_level0_row44\" class=\"row_heading level0 row44\" >DENTAL HYGIENIST</th>\n",
       "      <td id=\"T_74f7a_row44_col0\" class=\"data row44 col0\" >33892.470000</td>\n",
       "    </tr>\n",
       "    <tr>\n",
       "      <th id=\"T_74f7a_level0_row45\" class=\"row_heading level0 row45\" >SECURITY GUARD I</th>\n",
       "      <td id=\"T_74f7a_row45_col0\" class=\"data row45 col0\" >34053.818182</td>\n",
       "    </tr>\n",
       "    <tr>\n",
       "      <th id=\"T_74f7a_level0_row46\" class=\"row_heading level0 row46\" >TRANSPORTATION INSPECTOR II</th>\n",
       "      <td id=\"T_74f7a_row46_col0\" class=\"data row46 col0\" >34388.616667</td>\n",
       "    </tr>\n",
       "    <tr>\n",
       "      <th id=\"T_74f7a_level0_row47\" class=\"row_heading level0 row47\" >SURVEYOR</th>\n",
       "      <td id=\"T_74f7a_row47_col0\" class=\"data row47 col0\" >34440.536667</td>\n",
       "    </tr>\n",
       "    <tr>\n",
       "      <th id=\"T_74f7a_level0_row48\" class=\"row_heading level0 row48\" >POLICE SERVICES OFFICER</th>\n",
       "      <td id=\"T_74f7a_row48_col0\" class=\"data row48 col0\" >34582.314167</td>\n",
       "    </tr>\n",
       "    <tr>\n",
       "      <th id=\"T_74f7a_level0_row49\" class=\"row_heading level0 row49\" >ASSISTANT PROGRAM COORDINATOR</th>\n",
       "      <td id=\"T_74f7a_row49_col0\" class=\"data row49 col0\" >34637.740000</td>\n",
       "    </tr>\n",
       "  </tbody>\n",
       "</table>\n"
      ],
      "text/plain": [
       "<pandas.io.formats.style.Styler at 0x2211bdf8340>"
      ]
     },
     "execution_count": 95,
     "metadata": {},
     "output_type": "execute_result"
    }
   ],
   "source": [
    "worst_jobs"
   ]
  },
  {
   "cell_type": "markdown",
   "metadata": {
    "tags": []
   },
   "source": [
    "## Are there any trends in hire date or termination date?"
   ]
  },
  {
   "cell_type": "code",
   "execution_count": 96,
   "metadata": {
    "hide_input": true
   },
   "outputs": [],
   "source": [
    "comp['withdraw_month'] = comp['withdraw_date'].apply(lambda x: x.month)"
   ]
  },
  {
   "cell_type": "code",
   "execution_count": 97,
   "metadata": {
    "hide_input": true
   },
   "outputs": [],
   "source": [
    "#lets make a sub data base of the employees who were let go, that way we don't have to deal with NaNs"
   ]
  },
  {
   "cell_type": "code",
   "execution_count": 98,
   "metadata": {
    "hide_input": true
   },
   "outputs": [],
   "source": [
    "let_go = comp[~comp['withdraw_month'].isna()]"
   ]
  },
  {
   "cell_type": "code",
   "execution_count": 99,
   "metadata": {
    "hide_input": true,
    "tags": []
   },
   "outputs": [
    {
     "name": "stderr",
     "output_type": "stream",
     "text": [
      "C:\\Users\\dansc\\AppData\\Local\\Temp\\ipykernel_9936\\2398343627.py:1: SettingWithCopyWarning: \n",
      "A value is trying to be set on a copy of a slice from a DataFrame.\n",
      "Try using .loc[row_indexer,col_indexer] = value instead\n",
      "\n",
      "See the caveats in the documentation: https://pandas.pydata.org/pandas-docs/stable/user_guide/indexing.html#returning-a-view-versus-a-copy\n",
      "  let_go['withdraw_month'] = let_go['withdraw_month'].apply(lambda x:str(int(x)))\n"
     ]
    }
   ],
   "source": [
    "let_go['withdraw_month'] = let_go['withdraw_month'].apply(lambda x:str(int(x)))"
   ]
  },
  {
   "cell_type": "code",
   "execution_count": 100,
   "metadata": {
    "hide_input": true
   },
   "outputs": [],
   "source": [
    "month = {\t'1':'January',\n",
    "\t\t'2':'February',\n",
    "\t\t'3':'March',\n",
    "\t\t'4':'April',\n",
    "\t\t'5':'May',\n",
    "\t\t'6':'June',\n",
    "\t\t'7':'July',\n",
    "\t\t'8':'August',\n",
    "\t\t'9':'September',\n",
    "\t\t'10':'October',\n",
    "\t\t'11':'November',\n",
    "\t\t'12':'December'\t\t}"
   ]
  },
  {
   "cell_type": "code",
   "execution_count": 101,
   "metadata": {
    "hide_input": true
   },
   "outputs": [
    {
     "name": "stderr",
     "output_type": "stream",
     "text": [
      "C:\\Users\\dansc\\AppData\\Local\\Temp\\ipykernel_9936\\396516167.py:1: SettingWithCopyWarning: \n",
      "A value is trying to be set on a copy of a slice from a DataFrame.\n",
      "Try using .loc[row_indexer,col_indexer] = value instead\n",
      "\n",
      "See the caveats in the documentation: https://pandas.pydata.org/pandas-docs/stable/user_guide/indexing.html#returning-a-view-versus-a-copy\n",
      "  let_go['withdraw_month'] = let_go['withdraw_month'].map(month)\n"
     ]
    }
   ],
   "source": [
    "let_go['withdraw_month'] = let_go['withdraw_month'].map(month)"
   ]
  },
  {
   "cell_type": "code",
   "execution_count": 102,
   "metadata": {
    "hide_input": true
   },
   "outputs": [],
   "source": [
    "month_order = ['January','February','March','April','May','June','July','August','September','October','November','December']"
   ]
  },
  {
   "cell_type": "code",
   "execution_count": 103,
   "metadata": {
    "hide_input": true
   },
   "outputs": [
    {
     "data": {
      "image/png": "[encoded data removed]",
      "text/plain": [
       "<Figure size 864x432 with 1 Axes>"
      ]
     },
     "metadata": {
      "needs_background": "light"
     },
     "output_type": "display_data"
    },
    {
     "data": {
      "text/plain": [
       "<Figure size 432x288 with 0 Axes>"
      ]
     },
     "metadata": {},
     "output_type": "display_data"
    }
   ],
   "source": [
    "#set up the figure\n",
    "plt.figure(figsize=(12,6))\n",
    "plt.setp(ax.get_xticklabels(), rotation=30, horizontalalignment='right')\n",
    "\n",
    "#plot\n",
    "sns.countplot(data=let_go,x='withdraw_month',order=month_order)\n",
    "\n",
    "#labels and title\n",
    "plt.ylabel('Employees Withdrawn')\n",
    "plt.xlabel('Month')\n",
    "plt.title('Number of Employees Withdrawn by Month')\n",
    "\n",
    "#show\n",
    "plt.show()\n",
    "\n",
    "plt.savefig('5.1_Number of Employees Withdrawn by Month.png')"
   ]
  },
  {
   "cell_type": "markdown",
   "metadata": {
    "tags": []
   },
   "source": [
    "## What were the ethnic orgins of the employees let go? And how does that compare to the percentage of that ethnic group in the city? "
   ]
  },
  {
   "cell_type": "markdown",
   "metadata": {},
   "source": [
    "#### Total employees let go"
   ]
  },
  {
   "cell_type": "code",
   "execution_count": 104,
   "metadata": {
    "hide_input": false
   },
   "outputs": [
    {
     "data": {
      "text/plain": [
       "1530"
      ]
     },
     "execution_count": 104,
     "metadata": {},
     "output_type": "execute_result"
    }
   ],
   "source": [
    "#total employees let go\n",
    "let_go['first_name'].count()"
   ]
  },
  {
   "cell_type": "code",
   "execution_count": 105,
   "metadata": {
    "hide_input": true
   },
   "outputs": [],
   "source": [
    "#employees let go count by ethnicity\n",
    "empLetGo_ByEthnicity = pd.DataFrame(let_go.groupby('ethnic_orgin').count()['first_name'])\n",
    "\n",
    "empLetGo_ByEthnicity = empLetGo_ByEthnicity.style.background_gradient() \n",
    "dfi.export(empLetGo_ByEthnicity,\"6_empLetGo_ByEthnicity.png\")\n"
   ]
  },
  {
   "cell_type": "code",
   "execution_count": 106,
   "metadata": {},
   "outputs": [],
   "source": [
    "#### Total employ"
   ]
  },
  {
   "cell_type": "code",
   "execution_count": 107,
   "metadata": {
    "hide_input": true,
    "scrolled": true
   },
   "outputs": [
    {
     "data": {
      "text/html": [
       "<style type=\"text/css\">\n",
       "#T_d3e49_row0_col0 {\n",
       "  background-color: #fef6fb;\n",
       "  color: #000000;\n",
       "}\n",
       "#T_d3e49_row1_col0 {\n",
       "  background-color: #fdf5fa;\n",
       "  color: #000000;\n",
       "}\n",
       "#T_d3e49_row2_col0 {\n",
       "  background-color: #ede7f2;\n",
       "  color: #000000;\n",
       "}\n",
       "#T_d3e49_row3_col0 {\n",
       "  background-color: #023858;\n",
       "  color: #f1f1f1;\n",
       "}\n",
       "#T_d3e49_row4_col0, #T_d3e49_row5_col0 {\n",
       "  background-color: #fff7fb;\n",
       "  color: #000000;\n",
       "}\n",
       "#T_d3e49_row6_col0 {\n",
       "  background-color: #f7f0f7;\n",
       "  color: #000000;\n",
       "}\n",
       "#T_d3e49_row7_col0 {\n",
       "  background-color: #b1c2de;\n",
       "  color: #000000;\n",
       "}\n",
       "</style>\n",
       "<table id=\"T_d3e49\">\n",
       "  <thead>\n",
       "    <tr>\n",
       "      <th class=\"blank level0\" >&nbsp;</th>\n",
       "      <th id=\"T_d3e49_level0_col0\" class=\"col_heading level0 col0\" >first_name</th>\n",
       "    </tr>\n",
       "    <tr>\n",
       "      <th class=\"index_name level0\" >ethnic_orgin</th>\n",
       "      <th class=\"blank col0\" >&nbsp;</th>\n",
       "    </tr>\n",
       "  </thead>\n",
       "  <tbody>\n",
       "    <tr>\n",
       "      <th id=\"T_d3e49_level0_row0\" class=\"row_heading level0 row0\" >AMERICAN INDIAN OR ALASKA NATIVE (NONHISPANIC/LAT)</th>\n",
       "      <td id=\"T_d3e49_row0_col0\" class=\"data row0 col0\" >6</td>\n",
       "    </tr>\n",
       "    <tr>\n",
       "      <th id=\"T_d3e49_level0_row1\" class=\"row_heading level0 row1\" >ASIAN (NON HISPANIC OR LATINO)</th>\n",
       "      <td id=\"T_d3e49_row1_col0\" class=\"data row1 col0\" >19</td>\n",
       "    </tr>\n",
       "    <tr>\n",
       "      <th id=\"T_d3e49_level0_row2\" class=\"row_heading level0 row2\" >BLACK OR AFRICAN AMERICAN (NON HISPANIC OR LATINO)</th>\n",
       "      <td id=\"T_d3e49_row2_col0\" class=\"data row2 col0\" >123</td>\n",
       "    </tr>\n",
       "    <tr>\n",
       "      <th id=\"T_d3e49_level0_row3\" class=\"row_heading level0 row3\" >HISPANIC OR LATINO</th>\n",
       "      <td id=\"T_d3e49_row3_col0\" class=\"data row3 col0\" >987</td>\n",
       "    </tr>\n",
       "    <tr>\n",
       "      <th id=\"T_d3e49_level0_row4\" class=\"row_heading level0 row4\" >NATIVE HAWAIIAN/OTHER PACIFIC ISLANDER (NON HIS)</th>\n",
       "      <td id=\"T_d3e49_row4_col0\" class=\"data row4 col0\" >3</td>\n",
       "    </tr>\n",
       "    <tr>\n",
       "      <th id=\"T_d3e49_level0_row5\" class=\"row_heading level0 row5\" >OTHER</th>\n",
       "      <td id=\"T_d3e49_row5_col0\" class=\"data row5 col0\" >1</td>\n",
       "    </tr>\n",
       "    <tr>\n",
       "      <th id=\"T_d3e49_level0_row6\" class=\"row_heading level0 row6\" >TWO OR MORE RACES (NON HISPANIC OR LATINO)</th>\n",
       "      <td id=\"T_d3e49_row6_col0\" class=\"data row6 col0\" >54</td>\n",
       "    </tr>\n",
       "    <tr>\n",
       "      <th id=\"T_d3e49_level0_row7\" class=\"row_heading level0 row7\" >WHITE (NON HISPANIC OR LATINO)</th>\n",
       "      <td id=\"T_d3e49_row7_col0\" class=\"data row7 col0\" >337</td>\n",
       "    </tr>\n",
       "  </tbody>\n",
       "</table>\n"
      ],
      "text/plain": [
       "<pandas.io.formats.style.Styler at 0x2211cb2e6a0>"
      ]
     },
     "execution_count": 107,
     "metadata": {},
     "output_type": "execute_result"
    }
   ],
   "source": [
    "empLetGo_ByEthnicity"
   ]
  },
  {
   "cell_type": "code",
   "execution_count": 108,
   "metadata": {
    "hide_input": true
   },
   "outputs": [],
   "source": [
    "#Total employees count by ethnicity\n",
    "totalEmp_byEthnicity = pd.DataFrame(comp.groupby('ethnic_orgin').count()['first_name'])\n",
    "\n",
    "totalEmp_byEthnicity = totalEmp_byEthnicity.style.background_gradient() \n",
    "dfi.export(totalEmp_byEthnicity,\"7_totalEmp_byEthnicity.png\")\n"
   ]
  },
  {
   "cell_type": "code",
   "execution_count": 109,
   "metadata": {
    "hide_input": true
   },
   "outputs": [
    {
     "data": {
      "text/html": [
       "<style type=\"text/css\">\n",
       "#T_cd4a7_row0_col0 {\n",
       "  background-color: #fef6fb;\n",
       "  color: #000000;\n",
       "}\n",
       "#T_cd4a7_row1_col0 {\n",
       "  background-color: #fdf5fa;\n",
       "  color: #000000;\n",
       "}\n",
       "#T_cd4a7_row2_col0 {\n",
       "  background-color: #f1ebf5;\n",
       "  color: #000000;\n",
       "}\n",
       "#T_cd4a7_row3_col0 {\n",
       "  background-color: #023858;\n",
       "  color: #f1f1f1;\n",
       "}\n",
       "#T_cd4a7_row4_col0, #T_cd4a7_row5_col0 {\n",
       "  background-color: #fff7fb;\n",
       "  color: #000000;\n",
       "}\n",
       "#T_cd4a7_row6_col0 {\n",
       "  background-color: #faf3f9;\n",
       "  color: #000000;\n",
       "}\n",
       "#T_cd4a7_row7_col0 {\n",
       "  background-color: #93b5d6;\n",
       "  color: #000000;\n",
       "}\n",
       "</style>\n",
       "<table id=\"T_cd4a7\">\n",
       "  <thead>\n",
       "    <tr>\n",
       "      <th class=\"blank level0\" >&nbsp;</th>\n",
       "      <th id=\"T_cd4a7_level0_col0\" class=\"col_heading level0 col0\" >first_name</th>\n",
       "    </tr>\n",
       "    <tr>\n",
       "      <th class=\"index_name level0\" >ethnic_orgin</th>\n",
       "      <th class=\"blank col0\" >&nbsp;</th>\n",
       "    </tr>\n",
       "  </thead>\n",
       "  <tbody>\n",
       "    <tr>\n",
       "      <th id=\"T_cd4a7_level0_row0\" class=\"row_heading level0 row0\" >AMERICAN INDIAN OR ALASKA NATIVE (NONHISPANIC/LAT)</th>\n",
       "      <td id=\"T_cd4a7_row0_col0\" class=\"data row0 col0\" >55</td>\n",
       "    </tr>\n",
       "    <tr>\n",
       "      <th id=\"T_cd4a7_level0_row1\" class=\"row_heading level0 row1\" >ASIAN (NON HISPANIC OR LATINO)</th>\n",
       "      <td id=\"T_cd4a7_row1_col0\" class=\"data row1 col0\" >157</td>\n",
       "    </tr>\n",
       "    <tr>\n",
       "      <th id=\"T_cd4a7_level0_row2\" class=\"row_heading level0 row2\" >BLACK OR AFRICAN AMERICAN (NON HISPANIC OR LATINO)</th>\n",
       "      <td id=\"T_cd4a7_row2_col0\" class=\"data row2 col0\" >776</td>\n",
       "    </tr>\n",
       "    <tr>\n",
       "      <th id=\"T_cd4a7_level0_row3\" class=\"row_heading level0 row3\" >HISPANIC OR LATINO</th>\n",
       "      <td id=\"T_cd4a7_row3_col0\" class=\"data row3 col0\" >8502</td>\n",
       "    </tr>\n",
       "    <tr>\n",
       "      <th id=\"T_cd4a7_level0_row4\" class=\"row_heading level0 row4\" >NATIVE HAWAIIAN/OTHER PACIFIC ISLANDER (NON HIS)</th>\n",
       "      <td id=\"T_cd4a7_row4_col0\" class=\"data row4 col0\" >34</td>\n",
       "    </tr>\n",
       "    <tr>\n",
       "      <th id=\"T_cd4a7_level0_row5\" class=\"row_heading level0 row5\" >OTHER</th>\n",
       "      <td id=\"T_cd4a7_row5_col0\" class=\"data row5 col0\" >12</td>\n",
       "    </tr>\n",
       "    <tr>\n",
       "      <th id=\"T_cd4a7_level0_row6\" class=\"row_heading level0 row6\" >TWO OR MORE RACES (NON HISPANIC OR LATINO)</th>\n",
       "      <td id=\"T_cd4a7_row6_col0\" class=\"data row6 col0\" >286</td>\n",
       "    </tr>\n",
       "    <tr>\n",
       "      <th id=\"T_cd4a7_level0_row7\" class=\"row_heading level0 row7\" >WHITE (NON HISPANIC OR LATINO)</th>\n",
       "      <td id=\"T_cd4a7_row7_col0\" class=\"data row7 col0\" >3597</td>\n",
       "    </tr>\n",
       "  </tbody>\n",
       "</table>\n"
      ],
      "text/plain": [
       "<pandas.io.formats.style.Styler at 0x2211cadba30>"
      ]
     },
     "execution_count": 109,
     "metadata": {},
     "output_type": "execute_result"
    }
   ],
   "source": [
    "totalEmp_byEthnicity"
   ]
  },
  {
   "cell_type": "code",
   "execution_count": 110,
   "metadata": {},
   "outputs": [],
   "source": [
    "#Percentage of employees let go by ethnicity\n",
    "p_letgo_be = let_go.groupby('ethnic_orgin').count()['first_name']/let_go['first_name'].count()"
   ]
  },
  {
   "cell_type": "code",
   "execution_count": 111,
   "metadata": {},
   "outputs": [
    {
     "data": {
      "text/plain": [
       "ethnic_orgin\n",
       "AMERICAN INDIAN OR ALASKA NATIVE (NONHISPANIC/LAT)   0.00\n",
       "ASIAN (NON HISPANIC OR LATINO)                       0.01\n",
       "BLACK OR AFRICAN AMERICAN (NON HISPANIC OR LATINO)   0.08\n",
       "HISPANIC OR LATINO                                   0.65\n",
       "NATIVE HAWAIIAN/OTHER PACIFIC ISLANDER (NON HIS)     0.00\n",
       "OTHER                                                0.00\n",
       "TWO OR MORE RACES (NON HISPANIC OR LATINO)           0.04\n",
       "WHITE (NON HISPANIC OR LATINO)                       0.22\n",
       "Name: first_name, dtype: float64"
      ]
     },
     "execution_count": 111,
     "metadata": {},
     "output_type": "execute_result"
    }
   ],
   "source": [
    "p_letgo_be"
   ]
  },
  {
   "cell_type": "code",
   "execution_count": 112,
   "metadata": {},
   "outputs": [
    {
     "data": {
      "text/plain": [
       "13419"
      ]
     },
     "execution_count": 112,
     "metadata": {},
     "output_type": "execute_result"
    }
   ],
   "source": [
    "#total employees\n",
    "comp['first_name'].count()"
   ]
  },
  {
   "cell_type": "code",
   "execution_count": 113,
   "metadata": {},
   "outputs": [],
   "source": [
    "#employee count by ethnicity\n",
    "emp_ByEthnicity = pd.DataFrame(comp.groupby('ethnic_orgin').count()['first_name'])\n",
    "emp_ByEthnicity = emp_ByEthnicity.style.background_gradient() \n",
    "dfi.export(emp_ByEthnicity,\"8_emp_ByEthnicity.png\")"
   ]
  },
  {
   "cell_type": "code",
   "execution_count": 114,
   "metadata": {},
   "outputs": [
    {
     "data": {
      "text/html": [
       "<style type=\"text/css\">\n",
       "#T_c862b_row0_col0 {\n",
       "  background-color: #fef6fb;\n",
       "  color: #000000;\n",
       "}\n",
       "#T_c862b_row1_col0 {\n",
       "  background-color: #fdf5fa;\n",
       "  color: #000000;\n",
       "}\n",
       "#T_c862b_row2_col0 {\n",
       "  background-color: #f1ebf5;\n",
       "  color: #000000;\n",
       "}\n",
       "#T_c862b_row3_col0 {\n",
       "  background-color: #023858;\n",
       "  color: #f1f1f1;\n",
       "}\n",
       "#T_c862b_row4_col0, #T_c862b_row5_col0 {\n",
       "  background-color: #fff7fb;\n",
       "  color: #000000;\n",
       "}\n",
       "#T_c862b_row6_col0 {\n",
       "  background-color: #faf3f9;\n",
       "  color: #000000;\n",
       "}\n",
       "#T_c862b_row7_col0 {\n",
       "  background-color: #93b5d6;\n",
       "  color: #000000;\n",
       "}\n",
       "</style>\n",
       "<table id=\"T_c862b\">\n",
       "  <thead>\n",
       "    <tr>\n",
       "      <th class=\"blank level0\" >&nbsp;</th>\n",
       "      <th id=\"T_c862b_level0_col0\" class=\"col_heading level0 col0\" >first_name</th>\n",
       "    </tr>\n",
       "    <tr>\n",
       "      <th class=\"index_name level0\" >ethnic_orgin</th>\n",
       "      <th class=\"blank col0\" >&nbsp;</th>\n",
       "    </tr>\n",
       "  </thead>\n",
       "  <tbody>\n",
       "    <tr>\n",
       "      <th id=\"T_c862b_level0_row0\" class=\"row_heading level0 row0\" >AMERICAN INDIAN OR ALASKA NATIVE (NONHISPANIC/LAT)</th>\n",
       "      <td id=\"T_c862b_row0_col0\" class=\"data row0 col0\" >55</td>\n",
       "    </tr>\n",
       "    <tr>\n",
       "      <th id=\"T_c862b_level0_row1\" class=\"row_heading level0 row1\" >ASIAN (NON HISPANIC OR LATINO)</th>\n",
       "      <td id=\"T_c862b_row1_col0\" class=\"data row1 col0\" >157</td>\n",
       "    </tr>\n",
       "    <tr>\n",
       "      <th id=\"T_c862b_level0_row2\" class=\"row_heading level0 row2\" >BLACK OR AFRICAN AMERICAN (NON HISPANIC OR LATINO)</th>\n",
       "      <td id=\"T_c862b_row2_col0\" class=\"data row2 col0\" >776</td>\n",
       "    </tr>\n",
       "    <tr>\n",
       "      <th id=\"T_c862b_level0_row3\" class=\"row_heading level0 row3\" >HISPANIC OR LATINO</th>\n",
       "      <td id=\"T_c862b_row3_col0\" class=\"data row3 col0\" >8502</td>\n",
       "    </tr>\n",
       "    <tr>\n",
       "      <th id=\"T_c862b_level0_row4\" class=\"row_heading level0 row4\" >NATIVE HAWAIIAN/OTHER PACIFIC ISLANDER (NON HIS)</th>\n",
       "      <td id=\"T_c862b_row4_col0\" class=\"data row4 col0\" >34</td>\n",
       "    </tr>\n",
       "    <tr>\n",
       "      <th id=\"T_c862b_level0_row5\" class=\"row_heading level0 row5\" >OTHER</th>\n",
       "      <td id=\"T_c862b_row5_col0\" class=\"data row5 col0\" >12</td>\n",
       "    </tr>\n",
       "    <tr>\n",
       "      <th id=\"T_c862b_level0_row6\" class=\"row_heading level0 row6\" >TWO OR MORE RACES (NON HISPANIC OR LATINO)</th>\n",
       "      <td id=\"T_c862b_row6_col0\" class=\"data row6 col0\" >286</td>\n",
       "    </tr>\n",
       "    <tr>\n",
       "      <th id=\"T_c862b_level0_row7\" class=\"row_heading level0 row7\" >WHITE (NON HISPANIC OR LATINO)</th>\n",
       "      <td id=\"T_c862b_row7_col0\" class=\"data row7 col0\" >3597</td>\n",
       "    </tr>\n",
       "  </tbody>\n",
       "</table>\n"
      ],
      "text/plain": [
       "<pandas.io.formats.style.Styler at 0x2211cb2ecd0>"
      ]
     },
     "execution_count": 114,
     "metadata": {},
     "output_type": "execute_result"
    }
   ],
   "source": [
    "emp_ByEthnicity"
   ]
  },
  {
   "cell_type": "code",
   "execution_count": 115,
   "metadata": {},
   "outputs": [],
   "source": [
    "#percentage of employees total by ethnicity\n",
    "p_total_be = comp.groupby('ethnic_orgin').count()['first_name']/comp['first_name'].count()"
   ]
  },
  {
   "cell_type": "code",
   "execution_count": 116,
   "metadata": {},
   "outputs": [
    {
     "data": {
      "text/plain": [
       "ethnic_orgin\n",
       "AMERICAN INDIAN OR ALASKA NATIVE (NONHISPANIC/LAT)   0.00\n",
       "ASIAN (NON HISPANIC OR LATINO)                       0.01\n",
       "BLACK OR AFRICAN AMERICAN (NON HISPANIC OR LATINO)   0.06\n",
       "HISPANIC OR LATINO                                   0.63\n",
       "NATIVE HAWAIIAN/OTHER PACIFIC ISLANDER (NON HIS)     0.00\n",
       "OTHER                                                0.00\n",
       "TWO OR MORE RACES (NON HISPANIC OR LATINO)           0.02\n",
       "WHITE (NON HISPANIC OR LATINO)                       0.27\n",
       "Name: first_name, dtype: float64"
      ]
     },
     "execution_count": 116,
     "metadata": {},
     "output_type": "execute_result"
    }
   ],
   "source": [
    "p_total_be"
   ]
  },
  {
   "cell_type": "code",
   "execution_count": 117,
   "metadata": {},
   "outputs": [
    {
     "data": {
      "text/plain": [
       "8"
      ]
     },
     "execution_count": 117,
     "metadata": {},
     "output_type": "execute_result"
    }
   ],
   "source": [
    "len(p_total_be)"
   ]
  },
  {
   "cell_type": "code",
   "execution_count": 118,
   "metadata": {},
   "outputs": [
    {
     "data": {
      "text/plain": [
       "8"
      ]
     },
     "execution_count": 118,
     "metadata": {},
     "output_type": "execute_result"
    }
   ],
   "source": [
    "len(p_total_be.index)"
   ]
  },
  {
   "cell_type": "code",
   "execution_count": 119,
   "metadata": {},
   "outputs": [
    {
     "data": {
      "text/plain": [
       "['AMERICAN INDIAN OR ALASKA NATIVE (NONHISPANIC/LAT)',\n",
       " 'ASIAN (NON HISPANIC OR LATINO)',\n",
       " 'BLACK OR AFRICAN AMERICAN (NON HISPANIC OR LATINO)',\n",
       " 'HISPANIC OR LATINO',\n",
       " 'NATIVE HAWAIIAN/OTHER PACIFIC ISLANDER (NON HIS)',\n",
       " 'OTHER',\n",
       " 'TWO OR MORE RACES (NON HISPANIC OR LATINO)',\n",
       " 'WHITE (NON HISPANIC OR LATINO)']"
      ]
     },
     "execution_count": 119,
     "metadata": {},
     "output_type": "execute_result"
    }
   ],
   "source": [
    "list(p_total_be.index)"
   ]
  },
  {
   "cell_type": "code",
   "execution_count": 120,
   "metadata": {},
   "outputs": [
    {
     "data": {
      "image/png": "[encoded data removed]",
      "text/plain": [
       "<Figure size 1440x1440 with 2 Axes>"
      ]
     },
     "metadata": {},
     "output_type": "display_data"
    }
   ],
   "source": [
    "#ax1,ax2 set up 2 two pies\n",
    "fig, (ax1,ax2) = plt.subplots(1,2,figsize=(20,20)) #ax1,ax2 refer to your two pies\n",
    "\n",
    "#set colors and explode\n",
    "colors = sns.color_palette('Spectral')[0:8]\n",
    "explode = [0.1, 0.2, 0.1, 0.1, 0.1,0.2,0.2]\n",
    "\n",
    "#--------------------------------------WITHDRAWN PIE #1-----------------------------\n",
    "#set variables and title\n",
    "x = p_letgo_be.drop('OTHER')\n",
    "labels = list(p_letgo_be.drop('OTHER').index)\n",
    "ax1.title.set_text('Percentage of WITHDRAWN employees by ethnic orgin')\n",
    "\n",
    "#plot\n",
    "ax1.pie(x,labels=labels,explode=explode,colors=colors,autopct='%.0f%%')\n",
    "\n",
    "#make look nice\n",
    "fig.autofmt_xdate()\n",
    "plt.tight_layout()\n",
    "\n",
    "#---------------------------------------TOTAL PIE #2----------------------------------\n",
    "#set variables and title\n",
    "x = p_total_be.drop('OTHER')\n",
    "labels = list(p_total_be.drop('OTHER').index)\n",
    "ax2.title.set_text('Percentage of TOTAL employees by ethnic orgin')\n",
    "\n",
    "#plot\n",
    "ax2.pie(x,labels=labels,colors=colors,autopct='%.0f%%',explode=explode)\n",
    "\n",
    "#make look nice\n",
    "fig.autofmt_xdate()\n",
    "plt.tight_layout()\n",
    "\n",
    "plt.savefig('8.1_Total vs Withdrawn by ethntic orgin PIE.png')"
   ]
  },
  {
   "cell_type": "markdown",
   "metadata": {
    "tags": []
   },
   "source": [
    "## Who are the top 20 earners in the library Business Area"
   ]
  },
  {
   "cell_type": "code",
   "execution_count": 121,
   "metadata": {},
   "outputs": [],
   "source": [
    "#To avoid duplicate names (there is a patricia perez also in parks and rec and as a enforcement officer)\n",
    "#let's make a splice of the database that is just library workers.\n",
    "\n",
    "library_comp = comp[comp['business_area'] == 'LIBRARY']"
   ]
  },
  {
   "cell_type": "code",
   "execution_count": 122,
   "metadata": {
    "scrolled": true
   },
   "outputs": [],
   "source": [
    "top_20_library = library_comp[['full_name','job_title','annual_salary']].sort_values(\n",
    "    'annual_salary', ascending=False).head(20)\n",
    "top_20_library = top_20_library.style.background_gradient() \n",
    "dfi.export(top_20_library,\"9_top_20_library.png\")"
   ]
  },
  {
   "cell_type": "code",
   "execution_count": 123,
   "metadata": {
    "scrolled": false
   },
   "outputs": [
    {
     "data": {
      "text/html": [
       "<style type=\"text/css\">\n",
       "#T_ee6b0_row0_col2 {\n",
       "  background-color: #023858;\n",
       "  color: #f1f1f1;\n",
       "}\n",
       "#T_ee6b0_row1_col2 {\n",
       "  background-color: #589ec8;\n",
       "  color: #f1f1f1;\n",
       "}\n",
       "#T_ee6b0_row2_col2 {\n",
       "  background-color: #5c9fc9;\n",
       "  color: #f1f1f1;\n",
       "}\n",
       "#T_ee6b0_row3_col2 {\n",
       "  background-color: #c8cde4;\n",
       "  color: #000000;\n",
       "}\n",
       "#T_ee6b0_row4_col2 {\n",
       "  background-color: #d5d5e8;\n",
       "  color: #000000;\n",
       "}\n",
       "#T_ee6b0_row5_col2 {\n",
       "  background-color: #e3e0ee;\n",
       "  color: #000000;\n",
       "}\n",
       "#T_ee6b0_row6_col2 {\n",
       "  background-color: #e7e3f0;\n",
       "  color: #000000;\n",
       "}\n",
       "#T_ee6b0_row7_col2, #T_ee6b0_row8_col2 {\n",
       "  background-color: #e8e4f0;\n",
       "  color: #000000;\n",
       "}\n",
       "#T_ee6b0_row9_col2 {\n",
       "  background-color: #ebe6f2;\n",
       "  color: #000000;\n",
       "}\n",
       "#T_ee6b0_row10_col2 {\n",
       "  background-color: #ece7f2;\n",
       "  color: #000000;\n",
       "}\n",
       "#T_ee6b0_row11_col2 {\n",
       "  background-color: #f1ebf4;\n",
       "  color: #000000;\n",
       "}\n",
       "#T_ee6b0_row12_col2 {\n",
       "  background-color: #f1ebf5;\n",
       "  color: #000000;\n",
       "}\n",
       "#T_ee6b0_row13_col2, #T_ee6b0_row14_col2 {\n",
       "  background-color: #f5eff6;\n",
       "  color: #000000;\n",
       "}\n",
       "#T_ee6b0_row15_col2 {\n",
       "  background-color: #fbf3f9;\n",
       "  color: #000000;\n",
       "}\n",
       "#T_ee6b0_row16_col2, #T_ee6b0_row17_col2 {\n",
       "  background-color: #fcf4fa;\n",
       "  color: #000000;\n",
       "}\n",
       "#T_ee6b0_row18_col2 {\n",
       "  background-color: #fef6fa;\n",
       "  color: #000000;\n",
       "}\n",
       "#T_ee6b0_row19_col2 {\n",
       "  background-color: #fff7fb;\n",
       "  color: #000000;\n",
       "}\n",
       "</style>\n",
       "<table id=\"T_ee6b0\">\n",
       "  <thead>\n",
       "    <tr>\n",
       "      <th class=\"blank level0\" >&nbsp;</th>\n",
       "      <th id=\"T_ee6b0_level0_col0\" class=\"col_heading level0 col0\" >full_name</th>\n",
       "      <th id=\"T_ee6b0_level0_col1\" class=\"col_heading level0 col1\" >job_title</th>\n",
       "      <th id=\"T_ee6b0_level0_col2\" class=\"col_heading level0 col2\" >annual_salary</th>\n",
       "    </tr>\n",
       "  </thead>\n",
       "  <tbody>\n",
       "    <tr>\n",
       "      <th id=\"T_ee6b0_level0_row0\" class=\"row_heading level0 row0\" >68</th>\n",
       "      <td id=\"T_ee6b0_row0_col0\" class=\"data row0 col0\" >RAMIRO S. SALAZAR</td>\n",
       "      <td id=\"T_ee6b0_row0_col1\" class=\"data row0 col1\" >LIBRARY DIRECTOR</td>\n",
       "      <td id=\"T_ee6b0_row0_col2\" class=\"data row0 col2\" >188549.140000</td>\n",
       "    </tr>\n",
       "    <tr>\n",
       "      <th id=\"T_ee6b0_level0_row1\" class=\"row_heading level0 row1\" >636</th>\n",
       "      <td id=\"T_ee6b0_row1_col0\" class=\"data row1 col0\" >KATHLEEN ELAINE DONELLAN</td>\n",
       "      <td id=\"T_ee6b0_row1_col1\" class=\"data row1 col1\" >ASSISTANT LIBRARY DIRECTOR</td>\n",
       "      <td id=\"T_ee6b0_row1_col2\" class=\"data row1 col2\" >138084.180000</td>\n",
       "    </tr>\n",
       "    <tr>\n",
       "      <th id=\"T_ee6b0_level0_row2\" class=\"row_heading level0 row2\" >618</th>\n",
       "      <td id=\"T_ee6b0_row2_col0\" class=\"data row2 col0\" >DALE MCNEILL</td>\n",
       "      <td id=\"T_ee6b0_row2_col1\" class=\"data row2 col1\" >ASST LIBRARY DIRECTOR</td>\n",
       "      <td id=\"T_ee6b0_row2_col2\" class=\"data row2 col2\" >137397.000000</td>\n",
       "    </tr>\n",
       "    <tr>\n",
       "      <th id=\"T_ee6b0_level0_row3\" class=\"row_heading level0 row3\" >3323</th>\n",
       "      <td id=\"T_ee6b0_row3_col0\" class=\"data row3 col0\" >RICH WALKER</td>\n",
       "      <td id=\"T_ee6b0_row3_col1\" class=\"data row3 col1\" >PROJECT CONTROL MANAGER</td>\n",
       "      <td id=\"T_ee6b0_row3_col2\" class=\"data row3 col2\" >106247.960000</td>\n",
       "    </tr>\n",
       "    <tr>\n",
       "      <th id=\"T_ee6b0_level0_row4\" class=\"row_heading level0 row4\" >3511</th>\n",
       "      <td id=\"T_ee6b0_row4_col0\" class=\"data row4 col0\" >RAYMOND FRAGA</td>\n",
       "      <td id=\"T_ee6b0_row4_col1\" class=\"data row4 col1\" >SPECIAL PROJECTS MANAGER</td>\n",
       "      <td id=\"T_ee6b0_row4_col2\" class=\"data row4 col2\" >100756.240000</td>\n",
       "    </tr>\n",
       "    <tr>\n",
       "      <th id=\"T_ee6b0_level0_row5\" class=\"row_heading level0 row5\" >4018</th>\n",
       "      <td id=\"T_ee6b0_row5_col0\" class=\"data row5 col0\" >CHERYL LYNN SHEEHAN</td>\n",
       "      <td id=\"T_ee6b0_row5_col1\" class=\"data row5 col1\" >PUBLIC SERVICES ADMINISTRATOR</td>\n",
       "      <td id=\"T_ee6b0_row5_col2\" class=\"data row5 col2\" >94043.820000</td>\n",
       "    </tr>\n",
       "    <tr>\n",
       "      <th id=\"T_ee6b0_level0_row6\" class=\"row_heading level0 row6\" >4298</th>\n",
       "      <td id=\"T_ee6b0_row6_col0\" class=\"data row6 col0\" >GABRIELLA RAUSCHUBER</td>\n",
       "      <td id=\"T_ee6b0_row6_col1\" class=\"data row6 col1\" >DEPARTMENT FISCAL ADMINISTRATOR</td>\n",
       "      <td id=\"T_ee6b0_row6_col2\" class=\"data row6 col2\" >91571.220000</td>\n",
       "    </tr>\n",
       "    <tr>\n",
       "      <th id=\"T_ee6b0_level0_row7\" class=\"row_heading level0 row7\" >4294</th>\n",
       "      <td id=\"T_ee6b0_row7_col0\" class=\"data row7 col0\" >JENNIFER JOAN VELASQUEZ</td>\n",
       "      <td id=\"T_ee6b0_row7_col1\" class=\"data row7 col1\" >LIBRARY SERVICES MANAGER</td>\n",
       "      <td id=\"T_ee6b0_row7_col2\" class=\"data row7 col2\" >91098.540000</td>\n",
       "    </tr>\n",
       "    <tr>\n",
       "      <th id=\"T_ee6b0_level0_row8\" class=\"row_heading level0 row8\" >4771</th>\n",
       "      <td id=\"T_ee6b0_row8_col0\" class=\"data row8 col0\" >KATHRYN W STURTZ</td>\n",
       "      <td id=\"T_ee6b0_row8_col1\" class=\"data row8 col1\" >LIBRARY SERVICES MANAGER</td>\n",
       "      <td id=\"T_ee6b0_row8_col2\" class=\"data row8 col2\" >91098.540000</td>\n",
       "    </tr>\n",
       "    <tr>\n",
       "      <th id=\"T_ee6b0_level0_row9\" class=\"row_heading level0 row9\" >4333</th>\n",
       "      <td id=\"T_ee6b0_row9_col0\" class=\"data row9 col0\" >JESSICA ELIZABETH ZURITA</td>\n",
       "      <td id=\"T_ee6b0_row9_col1\" class=\"data row9 col1\" >EXECUTIVE ASSISTANT</td>\n",
       "      <td id=\"T_ee6b0_row9_col2\" class=\"data row9 col2\" >89739.260000</td>\n",
       "    </tr>\n",
       "    <tr>\n",
       "      <th id=\"T_ee6b0_level0_row10\" class=\"row_heading level0 row10\" >4335</th>\n",
       "      <td id=\"T_ee6b0_row10_col0\" class=\"data row10 col0\" >HALEY K HOLMES</td>\n",
       "      <td id=\"T_ee6b0_row10_col1\" class=\"data row10 col1\" >PUBLIC SERVICES ADMINISTRATOR</td>\n",
       "      <td id=\"T_ee6b0_row10_col2\" class=\"data row10 col2\" >89440.000000</td>\n",
       "    </tr>\n",
       "    <tr>\n",
       "      <th id=\"T_ee6b0_level0_row11\" class=\"row_heading level0 row11\" >4666</th>\n",
       "      <td id=\"T_ee6b0_row11_col0\" class=\"data row11 col0\" >ROBERTA A SPARKS</td>\n",
       "      <td id=\"T_ee6b0_row11_col1\" class=\"data row11 col1\" >SPECIAL PROJECTS MANAGER</td>\n",
       "      <td id=\"T_ee6b0_row11_col2\" class=\"data row11 col2\" >85844.980000</td>\n",
       "    </tr>\n",
       "    <tr>\n",
       "      <th id=\"T_ee6b0_level0_row12\" class=\"row_heading level0 row12\" >4655</th>\n",
       "      <td id=\"T_ee6b0_row12_col0\" class=\"data row12 col0\" >RON SUSZEK</td>\n",
       "      <td id=\"T_ee6b0_row12_col1\" class=\"data row12 col1\" >LIBRARY SERVICES ADMINISTRATOR</td>\n",
       "      <td id=\"T_ee6b0_row12_col2\" class=\"data row12 col2\" >85242.820000</td>\n",
       "    </tr>\n",
       "    <tr>\n",
       "      <th id=\"T_ee6b0_level0_row13\" class=\"row_heading level0 row13\" >4610</th>\n",
       "      <td id=\"T_ee6b0_row13_col0\" class=\"data row13 col0\" >ELMA NIETO-RODRIGUEZ</td>\n",
       "      <td id=\"T_ee6b0_row13_col1\" class=\"data row13 col1\" >PUBLIC SERVICES ADMINISTRATOR</td>\n",
       "      <td id=\"T_ee6b0_row13_col2\" class=\"data row13 col2\" >82464.720000</td>\n",
       "    </tr>\n",
       "    <tr>\n",
       "      <th id=\"T_ee6b0_level0_row14\" class=\"row_heading level0 row14\" >4645</th>\n",
       "      <td id=\"T_ee6b0_row14_col0\" class=\"data row14 col0\" >CRESENCIA S HUFF</td>\n",
       "      <td id=\"T_ee6b0_row14_col1\" class=\"data row14 col1\" >LIBRARY SERVICES MANAGER</td>\n",
       "      <td id=\"T_ee6b0_row14_col2\" class=\"data row14 col2\" >82185.220000</td>\n",
       "    </tr>\n",
       "    <tr>\n",
       "      <th id=\"T_ee6b0_level0_row15\" class=\"row_heading level0 row15\" >10686</th>\n",
       "      <td id=\"T_ee6b0_row15_col0\" class=\"data row15 col0\" >DAVID L COOKSEY</td>\n",
       "      <td id=\"T_ee6b0_row15_col1\" class=\"data row15 col1\" >SENIOR MANAGEMENT ANALYST</td>\n",
       "      <td id=\"T_ee6b0_row15_col2\" class=\"data row15 col2\" >78128.440000</td>\n",
       "    </tr>\n",
       "    <tr>\n",
       "      <th id=\"T_ee6b0_level0_row16\" class=\"row_heading level0 row16\" >4896</th>\n",
       "      <td id=\"T_ee6b0_row16_col0\" class=\"data row16 col0\" >TROY CORWIN HOYLES</td>\n",
       "      <td id=\"T_ee6b0_row16_col1\" class=\"data row16 col1\" >LIBRARY SERVICES MANAGER</td>\n",
       "      <td id=\"T_ee6b0_row16_col2\" class=\"data row16 col2\" >77250.160000</td>\n",
       "    </tr>\n",
       "    <tr>\n",
       "      <th id=\"T_ee6b0_level0_row17\" class=\"row_heading level0 row17\" >4901</th>\n",
       "      <td id=\"T_ee6b0_row17_col0\" class=\"data row17 col0\" >ADAM MATTHEW SPANA</td>\n",
       "      <td id=\"T_ee6b0_row17_col1\" class=\"data row17 col1\" >LIBRARY SERVICES MANAGER</td>\n",
       "      <td id=\"T_ee6b0_row17_col2\" class=\"data row17 col2\" >77250.160000</td>\n",
       "    </tr>\n",
       "    <tr>\n",
       "      <th id=\"T_ee6b0_level0_row18\" class=\"row_heading level0 row18\" >4922</th>\n",
       "      <td id=\"T_ee6b0_row18_col0\" class=\"data row18 col0\" >MARK LEWIS JENKINS</td>\n",
       "      <td id=\"T_ee6b0_row18_col1\" class=\"data row18 col1\" >FACILITIES MANAGER</td>\n",
       "      <td id=\"T_ee6b0_row18_col2\" class=\"data row18 col2\" >75944.960000</td>\n",
       "    </tr>\n",
       "    <tr>\n",
       "      <th id=\"T_ee6b0_level0_row19\" class=\"row_heading level0 row19\" >5029</th>\n",
       "      <td id=\"T_ee6b0_row19_col0\" class=\"data row19 col0\" >MORGAN YOSHIMURA</td>\n",
       "      <td id=\"T_ee6b0_row19_col1\" class=\"data row19 col1\" >LIBRARY SERVICES MANAGER</td>\n",
       "      <td id=\"T_ee6b0_row19_col2\" class=\"data row19 col2\" >75000.120000</td>\n",
       "    </tr>\n",
       "  </tbody>\n",
       "</table>\n"
      ],
      "text/plain": [
       "<pandas.io.formats.style.Styler at 0x2211cb5c040>"
      ]
     },
     "execution_count": 123,
     "metadata": {},
     "output_type": "execute_result"
    }
   ],
   "source": [
    "top_20_library"
   ]
  },
  {
   "cell_type": "markdown",
   "metadata": {},
   "source": [
    "### What employees in the refernce department worked for SAPL in 2021 and what was their total compensation?"
   ]
  },
  {
   "cell_type": "code",
   "execution_count": 124,
   "metadata": {},
   "outputs": [],
   "source": [
    "#To avoid duplicate names (there is a patricia perez also in parks and rec and as a enforcement officer)\n",
    "#let's make a splice of the database that is just library workers.\n",
    "\n",
    "library_comp = comp[comp['business_area'] == 'LIBRARY']"
   ]
  },
  {
   "cell_type": "code",
   "execution_count": 125,
   "metadata": {
    "scrolled": false
   },
   "outputs": [
    {
     "name": "stderr",
     "output_type": "stream",
     "text": [
      "C:\\Users\\dansc\\AppData\\Local\\Temp\\ipykernel_9936\\2910186126.py:3: SettingWithCopyWarning: \n",
      "A value is trying to be set on a copy of a slice from a DataFrame.\n",
      "Try using .loc[row_indexer,col_indexer] = value instead\n",
      "\n",
      "See the caveats in the documentation: https://pandas.pydata.org/pandas-docs/stable/user_guide/indexing.html#returning-a-view-versus-a-copy\n",
      "  library_comp['first_last'] = library_comp['first_name'] + ' ' + library_comp['last_name']\n"
     ]
    }
   ],
   "source": [
    "#since I don't know all my co workers middle names...\n",
    "#first step would be to make a first_last variable combigning employees first and last name\n",
    "library_comp['first_last'] = library_comp['first_name'] + ' ' + library_comp['last_name']"
   ]
  },
  {
   "cell_type": "code",
   "execution_count": 126,
   "metadata": {},
   "outputs": [],
   "source": [
    "#list of employees I work with\n",
    "reference_employees = ['ARLAND SCHNACKER','BETTINA HERNANDEZ','CHRISTINA MONTERO',\n",
    "                       'CYNTHIA DELION',' DAN SCHUMACHER','DAVID GALLIN-PARISI',\n",
    "                       'EMERSON STANLEY','J.D. ELIZONDO','JORDAN TORRES',\n",
    "                       'JOSHUA YURCHESHEN','JULIA SELWYN','LETICIA GUERRA',\n",
    "                       'MELISSA GOMEZ','MICHELLE VILLARREAL','PANNAGA PRASAD',\n",
    "                       'PATRICIA PEREZ','RAQUEL REYES','SALLY BAUER',\n",
    "                       'SARA DE LA ROSA','STACEY MARTINEZ','VALERIE SAUCEDA',\n",
    "                       'BRIANNA GLASS','ANGELINA CORTES'\n",
    "                      ]"
   ]
  },
  {
   "cell_type": "code",
   "execution_count": 127,
   "metadata": {},
   "outputs": [
    {
     "data": {
      "text/plain": [
       "23"
      ]
     },
     "execution_count": 127,
     "metadata": {},
     "output_type": "execute_result"
    }
   ],
   "source": [
    "#There are 21 employees\n",
    "len(reference_employees)"
   ]
  },
  {
   "cell_type": "code",
   "execution_count": 128,
   "metadata": {},
   "outputs": [
    {
     "data": {
      "text/plain": [
       "False    504\n",
       "True      16\n",
       "Name: first_last, dtype: int64"
      ]
     },
     "execution_count": 128,
     "metadata": {},
     "output_type": "execute_result"
    }
   ],
   "source": [
    "#11 of them were found in the database\n",
    "library_comp['first_last'].isin(values=reference_employees).value_counts()"
   ]
  },
  {
   "cell_type": "code",
   "execution_count": 129,
   "metadata": {
    "tags": []
   },
   "outputs": [],
   "source": [
    "reference_dep = library_comp.loc[library_comp['first_last'].isin(reference_employees)]"
   ]
  },
  {
   "cell_type": "code",
   "execution_count": 130,
   "metadata": {},
   "outputs": [
    {
     "data": {
      "text/plain": [
       "12778   2021-07-10\n",
       "Name: hire_date, dtype: datetime64[ns]"
      ]
     },
     "execution_count": 130,
     "metadata": {},
     "output_type": "execute_result"
    }
   ],
   "source": [
    "#Why did Leticia get paid so little?\n",
    "\n",
    "#it's not her hire date she was hired in july? I'll ask her.\n",
    "library_comp[(library_comp['first_last']=='LETICIA GUERRA')]['hire_date']"
   ]
  },
  {
   "cell_type": "code",
   "execution_count": 131,
   "metadata": {
    "scrolled": false
   },
   "outputs": [
    {
     "data": {
      "image/png": "[encoded data removed]",
      "text/plain": [
       "<Figure size 1080x1080 with 1 Axes>"
      ]
     },
     "metadata": {
      "needs_background": "light"
     },
     "output_type": "display_data"
    }
   ],
   "source": [
    "#set up the figure\n",
    "plt.figure(figsize=(15,15))\n",
    "\n",
    "#plot\n",
    "sns.barplot(data = reference_dep[['first_name','total_compensation']],x='first_name',y='total_compensation')\n",
    "\n",
    "#set labels and title\n",
    "plt.xlabel('Employee')\n",
    "plt.ylabel('Total Compensation')\n",
    "plt.title(\"Reference Employees' Total Compensation\")\n",
    "\n",
    "#make look nice\n",
    "plt.tight_layout()\n",
    "plt.savefig('9.1_Reference Employees Total Compensation.png')"
   ]
  },
  {
   "cell_type": "markdown",
   "metadata": {},
   "source": [
    "### How does this graph compare to year's worked?"
   ]
  },
  {
   "cell_type": "code",
   "execution_count": 132,
   "metadata": {},
   "outputs": [
    {
     "data": {
      "image/png": "[encoded data removed]",
      "text/plain": [
       "<Figure size 1080x1080 with 1 Axes>"
      ]
     },
     "metadata": {
      "needs_background": "light"
     },
     "output_type": "display_data"
    }
   ],
   "source": [
    "#set up the figure\n",
    "plt.figure(figsize=(15,15))\n",
    "\n",
    "#plot\n",
    "sns.barplot(data = reference_dep[['first_name','years_service']],x='first_name',y='years_service')\n",
    "\n",
    "#set labels and title\n",
    "plt.xlabel('Employee')\n",
    "plt.ylabel('Total Compensation')\n",
    "plt.title(\"Reference Employees' Total Years of Service\")\n",
    "\n",
    "#make look nice\n",
    "plt.tight_layout()\n",
    "plt.savefig('9.2_Reference Employees Total Years of Service.png')"
   ]
  },
  {
   "cell_type": "markdown",
   "metadata": {},
   "source": [
    "### what is the average annual salary of a librarian I? And how does each l1 compare to that average?\n"
   ]
  },
  {
   "cell_type": "code",
   "execution_count": 133,
   "metadata": {},
   "outputs": [
    {
     "data": {
      "text/html": [
       "<div>\n",
       "<style scoped>\n",
       "    .dataframe tbody tr th:only-of-type {\n",
       "        vertical-align: middle;\n",
       "    }\n",
       "\n",
       "    .dataframe tbody tr th {\n",
       "        vertical-align: top;\n",
       "    }\n",
       "\n",
       "    .dataframe thead th {\n",
       "        text-align: right;\n",
       "    }\n",
       "</style>\n",
       "<table border=\"1\" class=\"dataframe\">\n",
       "  <thead>\n",
       "    <tr style=\"text-align: right;\">\n",
       "      <th></th>\n",
       "      <th>first_name</th>\n",
       "      <th>middle_name</th>\n",
       "      <th>last_name</th>\n",
       "      <th>employee_category</th>\n",
       "      <th>hire_date</th>\n",
       "      <th>base_pay</th>\n",
       "      <th>leave_payout</th>\n",
       "      <th>other_pay</th>\n",
       "      <th>overtime</th>\n",
       "      <th>gross_earnings</th>\n",
       "      <th>...</th>\n",
       "      <th>gender</th>\n",
       "      <th>ethnic_orgin</th>\n",
       "      <th>employee_subgroup</th>\n",
       "      <th>withdraw_date</th>\n",
       "      <th>annual_salary</th>\n",
       "      <th>additional_benefits</th>\n",
       "      <th>business_area</th>\n",
       "      <th>years_service</th>\n",
       "      <th>withdraw_month</th>\n",
       "      <th>first_last</th>\n",
       "    </tr>\n",
       "    <tr>\n",
       "      <th>full_name</th>\n",
       "      <th></th>\n",
       "      <th></th>\n",
       "      <th></th>\n",
       "      <th></th>\n",
       "      <th></th>\n",
       "      <th></th>\n",
       "      <th></th>\n",
       "      <th></th>\n",
       "      <th></th>\n",
       "      <th></th>\n",
       "      <th></th>\n",
       "      <th></th>\n",
       "      <th></th>\n",
       "      <th></th>\n",
       "      <th></th>\n",
       "      <th></th>\n",
       "      <th></th>\n",
       "      <th></th>\n",
       "      <th></th>\n",
       "      <th></th>\n",
       "      <th></th>\n",
       "    </tr>\n",
       "  </thead>\n",
       "  <tbody>\n",
       "    <tr>\n",
       "      <th>DEXTER NIXON KATZMAN</th>\n",
       "      <td>DEXTER</td>\n",
       "      <td>NIXON</td>\n",
       "      <td>KATZMAN</td>\n",
       "      <td>CIVILIAN</td>\n",
       "      <td>2009-02-02</td>\n",
       "      <td>59,371.78</td>\n",
       "      <td>734.91</td>\n",
       "      <td>600.00</td>\n",
       "      <td>0.00</td>\n",
       "      <td>60,706.69</td>\n",
       "      <td>...</td>\n",
       "      <td>1</td>\n",
       "      <td>WHITE (NON HISPANIC OR LATINO)</td>\n",
       "      <td>4A FULL-TIME</td>\n",
       "      <td>NaT</td>\n",
       "      <td>59,371.78</td>\n",
       "      <td>21,185.81</td>\n",
       "      <td>LIBRARY</td>\n",
       "      <td>14.37</td>\n",
       "      <td>NaN</td>\n",
       "      <td>DEXTER KATZMAN</td>\n",
       "    </tr>\n",
       "    <tr>\n",
       "      <th>SYLVIA REYNA</th>\n",
       "      <td>SYLVIA</td>\n",
       "      <td>NaN</td>\n",
       "      <td>REYNA</td>\n",
       "      <td>CIVILIAN</td>\n",
       "      <td>2005-11-05</td>\n",
       "      <td>53,271.40</td>\n",
       "      <td>2,048.80</td>\n",
       "      <td>1,056.82</td>\n",
       "      <td>0.00</td>\n",
       "      <td>56,377.02</td>\n",
       "      <td>...</td>\n",
       "      <td>0</td>\n",
       "      <td>HISPANIC OR LATINO</td>\n",
       "      <td>4A FULL-TIME</td>\n",
       "      <td>NaT</td>\n",
       "      <td>53,271.40</td>\n",
       "      <td>20,756.57</td>\n",
       "      <td>LIBRARY</td>\n",
       "      <td>17.61</td>\n",
       "      <td>NaN</td>\n",
       "      <td>SYLVIA REYNA</td>\n",
       "    </tr>\n",
       "  </tbody>\n",
       "</table>\n",
       "<p>2 rows × 22 columns</p>\n",
       "</div>"
      ],
      "text/plain": [
       "                     first_name middle_name last_name employee_category  \\\n",
       "full_name                                                                 \n",
       "DEXTER NIXON KATZMAN     DEXTER       NIXON   KATZMAN          CIVILIAN   \n",
       "SYLVIA REYNA             SYLVIA         NaN     REYNA          CIVILIAN   \n",
       "\n",
       "                      hire_date  base_pay  leave_payout  other_pay  overtime  \\\n",
       "full_name                                                                      \n",
       "DEXTER NIXON KATZMAN 2009-02-02 59,371.78        734.91     600.00      0.00   \n",
       "SYLVIA REYNA         2005-11-05 53,271.40      2,048.80   1,056.82      0.00   \n",
       "\n",
       "                      gross_earnings  ...  gender  \\\n",
       "full_name                             ...           \n",
       "DEXTER NIXON KATZMAN       60,706.69  ...       1   \n",
       "SYLVIA REYNA               56,377.02  ...       0   \n",
       "\n",
       "                                        ethnic_orgin  employee_subgroup  \\\n",
       "full_name                                                                 \n",
       "DEXTER NIXON KATZMAN  WHITE (NON HISPANIC OR LATINO)       4A FULL-TIME   \n",
       "SYLVIA REYNA                      HISPANIC OR LATINO       4A FULL-TIME   \n",
       "\n",
       "                     withdraw_date annual_salary additional_benefits  \\\n",
       "full_name                                                              \n",
       "DEXTER NIXON KATZMAN           NaT     59,371.78           21,185.81   \n",
       "SYLVIA REYNA                   NaT     53,271.40           20,756.57   \n",
       "\n",
       "                      business_area  years_service withdraw_month  \\\n",
       "full_name                                                           \n",
       "DEXTER NIXON KATZMAN        LIBRARY          14.37            NaN   \n",
       "SYLVIA REYNA                LIBRARY          17.61            NaN   \n",
       "\n",
       "                          first_last  \n",
       "full_name                             \n",
       "DEXTER NIXON KATZMAN  DEXTER KATZMAN  \n",
       "SYLVIA REYNA            SYLVIA REYNA  \n",
       "\n",
       "[2 rows x 22 columns]"
      ]
     },
     "execution_count": 133,
     "metadata": {},
     "output_type": "execute_result"
    }
   ],
   "source": [
    "l1s = library_comp[library_comp['job_title']=='LIBRARIAN I']\n",
    "l1s = pd.DataFrame(l1s).set_index('full_name')\n",
    "l1s.head(2)"
   ]
  },
  {
   "cell_type": "code",
   "execution_count": 134,
   "metadata": {},
   "outputs": [
    {
     "data": {
      "text/plain": [
       "base_pay              41,709.21\n",
       "leave_payout             823.57\n",
       "other_pay                515.81\n",
       "overtime                   0.43\n",
       "gross_earnings        43,049.03\n",
       "total_compensation    59,593.86\n",
       "annual_salary         45,505.53\n",
       "additional_benefits   16,544.83\n",
       "dtype: float64"
      ]
     },
     "execution_count": 134,
     "metadata": {},
     "output_type": "execute_result"
    }
   ],
   "source": [
    "l1s[['base_pay', 'leave_payout', 'other_pay', 'overtime', 'gross_earnings',\n",
    "       'total_compensation', 'annual_salary', 'additional_benefits']].mean()"
   ]
  },
  {
   "cell_type": "code",
   "execution_count": 135,
   "metadata": {},
   "outputs": [],
   "source": [
    "l1s['dif_from_mean'] = l1s['annual_salary'] - l1s['annual_salary'].mean()"
   ]
  },
  {
   "cell_type": "code",
   "execution_count": 136,
   "metadata": {},
   "outputs": [
    {
     "data": {
      "text/plain": [
       "full_name\n",
       "DEXTER NIXON KATZMAN    13,866.25\n",
       "SYLVIA REYNA             7,765.87\n",
       "MARCO DE LEON            6,215.23\n",
       "DIANA LYNN STARRETT      5,106.85\n",
       "CYNTHIA M DE LEON        5,267.27\n",
       "STEPHEN PAUL JACKSON     1,334.25\n",
       "CONNIE HEJL              3,809.97\n",
       "MARISA ANN DEBOW         2,474.35\n",
       "PANNAGA PRASAD           1,334.25\n",
       "PATRICIA KING            1,793.67\n",
       "SALLY A BAUER            1,661.33\n",
       "CYNTHIA CRUZ               825.17\n",
       "ANDREW DOYLE CREWS       2,787.65\n",
       "DEEDEE HAI-DUONG LU      1,306.69\n",
       "LORIN FLORES               358.99\n",
       "CHRISTOPHER CASTILLO    -2,758.22\n",
       "KIMBERLY L KING         -4,325.43\n",
       "HEATHER SWINDELL        -3,907.12\n",
       "MICHAEL DUNBAR-RODNEY   -5,132.99\n",
       "AMY WEAVER              -4,325.43\n",
       "DACARI LAMBERT          -4,934.53\n",
       "REBEKAH CORLEY          -3,845.53\n",
       "VALERIE CARROLL         -5,924.69\n",
       "ASHLEY MARIE STUBBS     -5,924.69\n",
       "KARAH GARCIA               358.99\n",
       "LORI EDDY               -4,737.27\n",
       "JENNIFER MEAD BORRERO   -2,362.53\n",
       "TEAGUE SHOSH            -4,934.53\n",
       "KATHERINE DILLARD       -3,153.87\n",
       "Name: dif_from_mean, dtype: float64"
      ]
     },
     "execution_count": 136,
     "metadata": {},
     "output_type": "execute_result"
    }
   ],
   "source": [
    "l1s['dif_from_mean']"
   ]
  },
  {
   "cell_type": "code",
   "execution_count": 137,
   "metadata": {},
   "outputs": [
    {
     "data": {
      "image/png": "[encoded data removed]",
      "text/plain": [
       "<Figure size 1440x864 with 2 Axes>"
      ]
     },
     "metadata": {
      "needs_background": "light"
     },
     "output_type": "display_data"
    },
    {
     "data": {
      "text/plain": [
       "<Figure size 432x288 with 0 Axes>"
      ]
     },
     "metadata": {},
     "output_type": "display_data"
    }
   ],
   "source": [
    "#let's plot the l1s avg\n",
    "\n",
    "#set up figure\n",
    "plt.figure(figsize=(20,12))\n",
    "\n",
    "#-----------------------------------set up left chart -------------------------------------------------------------------\n",
    "ax1 = plt.subplot(1,2,1)\n",
    "\n",
    "\n",
    "#plot\n",
    "\n",
    "sns.barplot(data=l1s,\n",
    "            y=l1s.index,\n",
    "            x=l1s['dif_from_mean'].sort_values(ascending=False).values,\n",
    "           )\n",
    "\n",
    "#set up labels and title\n",
    "plt.xlabel('Distance From Average Librarian I Salary')\n",
    "plt.ylabel('Name')\n",
    "plt.title('Librarian I Comparison to Average Annual Salary')\n",
    "\n",
    "\n",
    "#-----------------------------------set up Right chart -------------------------------------------------------------------\n",
    "ax2 = plt.subplot(1,2,2)\n",
    "\n",
    "#plot\n",
    "sns.barplot(data=l1s,\n",
    "            y=l1s.index,\n",
    "            x=l1s['years_service'].sort_values(ascending=False).values,\n",
    "          )\n",
    "\n",
    "#set up labels and title\n",
    "plt.xlabel('Years at SAPL')\n",
    "\n",
    "#remove names from Right table bc they match up\n",
    "plt.yticks([])\n",
    "\n",
    "#remove y label\n",
    "plt.ylabel('')\n",
    "plt.title('Librarian I, Years of Service')\n",
    "\n",
    "\n",
    "#make look nice\n",
    "plt.tight_layout()\n",
    "plt.subplots_adjust(hspace = 0.5)\n",
    "\n",
    "#show\n",
    "plt.show()\n",
    "plt.savefig('9.3_l1YearsVsSal.png')"
   ]
  },
  {
   "cell_type": "code",
   "execution_count": 138,
   "metadata": {},
   "outputs": [],
   "source": [
    "#let's try to get both side by side"
   ]
  },
  {
   "cell_type": "markdown",
   "metadata": {},
   "source": [
    "### What about l2s? "
   ]
  },
  {
   "cell_type": "code",
   "execution_count": 139,
   "metadata": {},
   "outputs": [
    {
     "data": {
      "text/html": [
       "<div>\n",
       "<style scoped>\n",
       "    .dataframe tbody tr th:only-of-type {\n",
       "        vertical-align: middle;\n",
       "    }\n",
       "\n",
       "    .dataframe tbody tr th {\n",
       "        vertical-align: top;\n",
       "    }\n",
       "\n",
       "    .dataframe thead th {\n",
       "        text-align: right;\n",
       "    }\n",
       "</style>\n",
       "<table border=\"1\" class=\"dataframe\">\n",
       "  <thead>\n",
       "    <tr style=\"text-align: right;\">\n",
       "      <th></th>\n",
       "      <th>first_name</th>\n",
       "      <th>middle_name</th>\n",
       "      <th>last_name</th>\n",
       "      <th>employee_category</th>\n",
       "      <th>hire_date</th>\n",
       "      <th>base_pay</th>\n",
       "      <th>leave_payout</th>\n",
       "      <th>other_pay</th>\n",
       "      <th>overtime</th>\n",
       "      <th>gross_earnings</th>\n",
       "      <th>...</th>\n",
       "      <th>gender</th>\n",
       "      <th>ethnic_orgin</th>\n",
       "      <th>employee_subgroup</th>\n",
       "      <th>withdraw_date</th>\n",
       "      <th>annual_salary</th>\n",
       "      <th>additional_benefits</th>\n",
       "      <th>business_area</th>\n",
       "      <th>years_service</th>\n",
       "      <th>withdraw_month</th>\n",
       "      <th>first_last</th>\n",
       "    </tr>\n",
       "    <tr>\n",
       "      <th>full_name</th>\n",
       "      <th></th>\n",
       "      <th></th>\n",
       "      <th></th>\n",
       "      <th></th>\n",
       "      <th></th>\n",
       "      <th></th>\n",
       "      <th></th>\n",
       "      <th></th>\n",
       "      <th></th>\n",
       "      <th></th>\n",
       "      <th></th>\n",
       "      <th></th>\n",
       "      <th></th>\n",
       "      <th></th>\n",
       "      <th></th>\n",
       "      <th></th>\n",
       "      <th></th>\n",
       "      <th></th>\n",
       "      <th></th>\n",
       "      <th></th>\n",
       "      <th></th>\n",
       "    </tr>\n",
       "  </thead>\n",
       "  <tbody>\n",
       "    <tr>\n",
       "      <th>CARI RENEE RALEY</th>\n",
       "      <td>CARI</td>\n",
       "      <td>RENEE</td>\n",
       "      <td>RALEY</td>\n",
       "      <td>CIVILIAN</td>\n",
       "      <td>2002-05-28</td>\n",
       "      <td>65,309.66</td>\n",
       "      <td>2,512.00</td>\n",
       "      <td>456.82</td>\n",
       "      <td>0.00</td>\n",
       "      <td>68,278.48</td>\n",
       "      <td>...</td>\n",
       "      <td>0</td>\n",
       "      <td>WHITE (NON HISPANIC OR LATINO)</td>\n",
       "      <td>4A FULL-TIME</td>\n",
       "      <td>NaT</td>\n",
       "      <td>65,309.66</td>\n",
       "      <td>23,087.25</td>\n",
       "      <td>LIBRARY</td>\n",
       "      <td>21.06</td>\n",
       "      <td>NaN</td>\n",
       "      <td>CARI RALEY</td>\n",
       "    </tr>\n",
       "    <tr>\n",
       "      <th>GINA MARIE BRUDI</th>\n",
       "      <td>GINA</td>\n",
       "      <td>MARIE</td>\n",
       "      <td>BRUDI</td>\n",
       "      <td>CIVILIAN</td>\n",
       "      <td>1991-06-24</td>\n",
       "      <td>65,309.67</td>\n",
       "      <td>2,512.00</td>\n",
       "      <td>456.82</td>\n",
       "      <td>0.00</td>\n",
       "      <td>68,278.49</td>\n",
       "      <td>...</td>\n",
       "      <td>0</td>\n",
       "      <td>WHITE (NON HISPANIC OR LATINO)</td>\n",
       "      <td>4A FULL-TIME</td>\n",
       "      <td>NaT</td>\n",
       "      <td>65,309.66</td>\n",
       "      <td>22,699.94</td>\n",
       "      <td>LIBRARY</td>\n",
       "      <td>31.98</td>\n",
       "      <td>NaN</td>\n",
       "      <td>GINA BRUDI</td>\n",
       "    </tr>\n",
       "  </tbody>\n",
       "</table>\n",
       "<p>2 rows × 22 columns</p>\n",
       "</div>"
      ],
      "text/plain": [
       "                 first_name middle_name last_name employee_category  \\\n",
       "full_name                                                             \n",
       "CARI RENEE RALEY       CARI       RENEE     RALEY          CIVILIAN   \n",
       "GINA MARIE BRUDI       GINA       MARIE     BRUDI          CIVILIAN   \n",
       "\n",
       "                  hire_date  base_pay  leave_payout  other_pay  overtime  \\\n",
       "full_name                                                                  \n",
       "CARI RENEE RALEY 2002-05-28 65,309.66      2,512.00     456.82      0.00   \n",
       "GINA MARIE BRUDI 1991-06-24 65,309.67      2,512.00     456.82      0.00   \n",
       "\n",
       "                  gross_earnings  ...  gender                    ethnic_orgin  \\\n",
       "full_name                         ...                                           \n",
       "CARI RENEE RALEY       68,278.48  ...       0  WHITE (NON HISPANIC OR LATINO)   \n",
       "GINA MARIE BRUDI       68,278.49  ...       0  WHITE (NON HISPANIC OR LATINO)   \n",
       "\n",
       "                  employee_subgroup withdraw_date annual_salary  \\\n",
       "full_name                                                         \n",
       "CARI RENEE RALEY       4A FULL-TIME           NaT     65,309.66   \n",
       "GINA MARIE BRUDI       4A FULL-TIME           NaT     65,309.66   \n",
       "\n",
       "                 additional_benefits  business_area  years_service  \\\n",
       "full_name                                                            \n",
       "CARI RENEE RALEY           23,087.25        LIBRARY          21.06   \n",
       "GINA MARIE BRUDI           22,699.94        LIBRARY          31.98   \n",
       "\n",
       "                 withdraw_month  first_last  \n",
       "full_name                                    \n",
       "CARI RENEE RALEY            NaN  CARI RALEY  \n",
       "GINA MARIE BRUDI            NaN  GINA BRUDI  \n",
       "\n",
       "[2 rows x 22 columns]"
      ]
     },
     "execution_count": 139,
     "metadata": {},
     "output_type": "execute_result"
    }
   ],
   "source": [
    "l2s = library_comp[library_comp['job_title']=='LIBRARIAN II']\n",
    "l2s = pd.DataFrame(l2s).set_index('full_name')\n",
    "l2s.head(2)"
   ]
  },
  {
   "cell_type": "code",
   "execution_count": 140,
   "metadata": {},
   "outputs": [
    {
     "data": {
      "text/plain": [
       "base_pay              49,713.16\n",
       "leave_payout           1,224.27\n",
       "other_pay                514.18\n",
       "overtime                   0.00\n",
       "gross_earnings        51,451.60\n",
       "total_compensation    70,577.55\n",
       "annual_salary         52,139.86\n",
       "additional_benefits   19,125.95\n",
       "dtype: float64"
      ]
     },
     "execution_count": 140,
     "metadata": {},
     "output_type": "execute_result"
    }
   ],
   "source": [
    "l2s[['base_pay', 'leave_payout', 'other_pay', 'overtime', 'gross_earnings',\n",
    "       'total_compensation', 'annual_salary', 'additional_benefits']].mean()"
   ]
  },
  {
   "cell_type": "code",
   "execution_count": 141,
   "metadata": {},
   "outputs": [],
   "source": [
    "l2s['dif_from_mean'] = (l2s['annual_salary'].sort_values() - l2s['annual_salary'].mean())"
   ]
  },
  {
   "cell_type": "code",
   "execution_count": 142,
   "metadata": {},
   "outputs": [
    {
     "data": {
      "text/plain": [
       "full_name\n",
       "CARI RENEE RALEY              13,169.80\n",
       "JULIA ANN SELWYN              13,169.80\n",
       "AMY BETH ROBERTS              13,169.80\n",
       "RANDI EILEEN JONES            13,169.80\n",
       "IMELDA DIANE MERINO           13,169.80\n",
       "GINA MARIE BRUDI              13,169.80\n",
       "DEBORAH M COUNTESS            10,919.50\n",
       "MARTHA LOEWEN                  8,583.14\n",
       "CARRIE ANN VANCE               7,728.52\n",
       "THOMAS MATTHEW DEWAELSCHE      6,779.78\n",
       "RHONDA ROBERTA WOOLHOUSE       6,600.90\n",
       "BENJAMIN LONGORIA              5,192.74\n",
       "LILIA OLINDA PEREZ             4,903.41\n",
       "KAREN JEANETTE SEBESTA         4,204.22\n",
       "JANE DIANE MILLER              3,802.52\n",
       "CINDY LUND MORENO              3,674.34\n",
       "LESLIE A ELSASSER              3,397.70\n",
       "STEPHANIE VAZQUEZ              3,385.22\n",
       "MARIA LUCIA ADAMS              2,520.46\n",
       "SHANNON SEGLIN                 2,233.94\n",
       "JASMIN SALINAS                 2,187.66\n",
       "ESPERANZA CONSUELO SONNEN      1,790.64\n",
       "SETH GAMINI HALUWANA           1,672.86\n",
       "CRISTIANE YAMADA-LOKENSGARD      543.37\n",
       "MONTY LYNN HOLCOMB              -602.40\n",
       "ANN LAIRD                       -816.38\n",
       "VALERIE SHELLEY               -1,178.82\n",
       "MATTHEW LOAIZA                -1,843.38\n",
       "KAREN BRAEULER                -2,455.94\n",
       "MONICA HUERTA                 -3,157.55\n",
       "ROBIN ALCORTA                 -3,611.38\n",
       "ADRIAN LEAL                   -3,625.68\n",
       "MARCELLA MCGOWAN              -3,865.66\n",
       "KRISTIN YOURDON               -4,100.70\n",
       "FREDDY HUDSON                 -4,176.36\n",
       "JULIA POULIOT                 -4,956.62\n",
       "BROOKE MJOLSNESS              -4,984.44\n",
       "ANA MENCHACA                  -5,024.74\n",
       "BARBARAELLA FRAZIER           -5,029.16\n",
       "ANGELINA CORTES               -5,051.52\n",
       "TIFFANY DURHAM                -5,064.52\n",
       "OLIVIA ESCOVEDO               -5,065.69\n",
       "LAURA HERMAN                  -5,500.70\n",
       "CHRISTINE DEFFENDALL          -5,935.00\n",
       "GEORGINA GARCIA               -5,948.26\n",
       "VICTORIA VILLALOBOS           -6,348.96\n",
       "KASSANDRA VELA-LAOSA          -6,397.02\n",
       "LISA TAYLOR                   -6,423.05\n",
       "DANIELLA TOLL                 -6,789.36\n",
       "MARK HALL                     -6,841.10\n",
       "NICOLE CUBILLAS               -6,841.88\n",
       "BRAULIA CARRILLO              -6,858.52\n",
       "KENNETH STEWART               -7,293.80\n",
       "SHANNAN PRUKOP                -7,511.76\n",
       "LEA MCDONALD                  -7,729.26\n",
       "JACQUELINE GONZALES           -8,110.13\n",
       "Name: dif_from_mean, dtype: float64"
      ]
     },
     "execution_count": 142,
     "metadata": {},
     "output_type": "execute_result"
    }
   ],
   "source": [
    "l2s['dif_from_mean'].sort_values(ascending=False)"
   ]
  },
  {
   "cell_type": "code",
   "execution_count": 143,
   "metadata": {},
   "outputs": [
    {
     "data": {
      "image/png": "[encoded data removed]",
      "text/plain": [
       "<Figure size 1440x864 with 2 Axes>"
      ]
     },
     "metadata": {
      "needs_background": "light"
     },
     "output_type": "display_data"
    },
    {
     "data": {
      "text/plain": [
       "<Figure size 432x288 with 0 Axes>"
      ]
     },
     "metadata": {},
     "output_type": "display_data"
    }
   ],
   "source": [
    "#let's plot \n",
    "\n",
    "#set up figure\n",
    "plt.figure(figsize=(20,12))\n",
    "\n",
    "#-----------------------------------set up left chart -------------------------------------------------------------------\n",
    "ax1 = plt.subplot(1,2,1)\n",
    "\n",
    "\n",
    "#plot the l2s avg\n",
    "\n",
    "sns.barplot(data=l1s,\n",
    "            y=l2s.index,\n",
    "            x=l2s['dif_from_mean'].sort_values(ascending=False).values,\n",
    "           )\n",
    "\n",
    "#set up labels and title\n",
    "plt.xlabel('Distance From Average Librarian II Salary')\n",
    "plt.ylabel('Name')\n",
    "plt.title('Librarian II Comparison to Average Annual Salary')\n",
    "\n",
    "\n",
    "#-----------------------------------set up Right chart -------------------------------------------------------------------\n",
    "ax2 = plt.subplot(1,2,2)\n",
    "\n",
    "#plot\n",
    "sns.barplot(data=l1s,\n",
    "            y=l2s.index,\n",
    "            x=l2s['years_service'].sort_values(ascending=False).values,\n",
    "          )\n",
    "\n",
    "#set up labels and title\n",
    "plt.xlabel('Years at SAPL')\n",
    "\n",
    "#remove names from Right table bc they match up\n",
    "plt.yticks([])\n",
    "\n",
    "#remove y label\n",
    "plt.ylabel('')\n",
    "plt.title('Librarian II, Years of Service')\n",
    "\n",
    "\n",
    "#make look nice\n",
    "plt.tight_layout()\n",
    "plt.subplots_adjust(hspace = 0.5)\n",
    "\n",
    "#show\n",
    "plt.show()\n",
    "plt.savefig('9.4_l2YearsVsSal.png')"
   ]
  },
  {
   "cell_type": "markdown",
   "metadata": {},
   "source": [
    "### What about l3s?"
   ]
  },
  {
   "cell_type": "code",
   "execution_count": 144,
   "metadata": {},
   "outputs": [
    {
     "data": {
      "text/html": [
       "<div>\n",
       "<style scoped>\n",
       "    .dataframe tbody tr th:only-of-type {\n",
       "        vertical-align: middle;\n",
       "    }\n",
       "\n",
       "    .dataframe tbody tr th {\n",
       "        vertical-align: top;\n",
       "    }\n",
       "\n",
       "    .dataframe thead th {\n",
       "        text-align: right;\n",
       "    }\n",
       "</style>\n",
       "<table border=\"1\" class=\"dataframe\">\n",
       "  <thead>\n",
       "    <tr style=\"text-align: right;\">\n",
       "      <th></th>\n",
       "      <th>first_name</th>\n",
       "      <th>middle_name</th>\n",
       "      <th>last_name</th>\n",
       "      <th>employee_category</th>\n",
       "      <th>hire_date</th>\n",
       "      <th>base_pay</th>\n",
       "      <th>leave_payout</th>\n",
       "      <th>other_pay</th>\n",
       "      <th>overtime</th>\n",
       "      <th>gross_earnings</th>\n",
       "      <th>...</th>\n",
       "      <th>gender</th>\n",
       "      <th>ethnic_orgin</th>\n",
       "      <th>employee_subgroup</th>\n",
       "      <th>withdraw_date</th>\n",
       "      <th>annual_salary</th>\n",
       "      <th>additional_benefits</th>\n",
       "      <th>business_area</th>\n",
       "      <th>years_service</th>\n",
       "      <th>withdraw_month</th>\n",
       "      <th>first_last</th>\n",
       "    </tr>\n",
       "    <tr>\n",
       "      <th>full_name</th>\n",
       "      <th></th>\n",
       "      <th></th>\n",
       "      <th></th>\n",
       "      <th></th>\n",
       "      <th></th>\n",
       "      <th></th>\n",
       "      <th></th>\n",
       "      <th></th>\n",
       "      <th></th>\n",
       "      <th></th>\n",
       "      <th></th>\n",
       "      <th></th>\n",
       "      <th></th>\n",
       "      <th></th>\n",
       "      <th></th>\n",
       "      <th></th>\n",
       "      <th></th>\n",
       "      <th></th>\n",
       "      <th></th>\n",
       "      <th></th>\n",
       "      <th></th>\n",
       "    </tr>\n",
       "  </thead>\n",
       "  <tbody>\n",
       "    <tr>\n",
       "      <th>KATHLEEN VIVIAN FORDYCE</th>\n",
       "      <td>KATHLEEN</td>\n",
       "      <td>VIVIAN</td>\n",
       "      <td>FORDYCE</td>\n",
       "      <td>CIVILIAN</td>\n",
       "      <td>2001-06-18</td>\n",
       "      <td>70,566.60</td>\n",
       "      <td>2,714.40</td>\n",
       "      <td>456.82</td>\n",
       "      <td>0.00</td>\n",
       "      <td>73,737.82</td>\n",
       "      <td>...</td>\n",
       "      <td>0</td>\n",
       "      <td>WHITE (NON HISPANIC OR LATINO)</td>\n",
       "      <td>4A FULL-TIME</td>\n",
       "      <td>NaT</td>\n",
       "      <td>70,566.60</td>\n",
       "      <td>23,665.07</td>\n",
       "      <td>LIBRARY</td>\n",
       "      <td>22.00</td>\n",
       "      <td>NaN</td>\n",
       "      <td>KATHLEEN FORDYCE</td>\n",
       "    </tr>\n",
       "    <tr>\n",
       "      <th>JIMMY JIMENEZ</th>\n",
       "      <td>JIMMY</td>\n",
       "      <td>NaN</td>\n",
       "      <td>JIMENEZ</td>\n",
       "      <td>CIVILIAN</td>\n",
       "      <td>1997-03-29</td>\n",
       "      <td>70,285.80</td>\n",
       "      <td>2,703.20</td>\n",
       "      <td>1,059.56</td>\n",
       "      <td>0.00</td>\n",
       "      <td>74,048.56</td>\n",
       "      <td>...</td>\n",
       "      <td>1</td>\n",
       "      <td>HISPANIC OR LATINO</td>\n",
       "      <td>4A FULL-TIME</td>\n",
       "      <td>NaT</td>\n",
       "      <td>70,285.80</td>\n",
       "      <td>23,175.43</td>\n",
       "      <td>LIBRARY</td>\n",
       "      <td>26.22</td>\n",
       "      <td>NaN</td>\n",
       "      <td>JIMMY JIMENEZ</td>\n",
       "    </tr>\n",
       "  </tbody>\n",
       "</table>\n",
       "<p>2 rows × 22 columns</p>\n",
       "</div>"
      ],
      "text/plain": [
       "                        first_name middle_name last_name employee_category  \\\n",
       "full_name                                                                    \n",
       "KATHLEEN VIVIAN FORDYCE   KATHLEEN      VIVIAN   FORDYCE          CIVILIAN   \n",
       "JIMMY JIMENEZ                JIMMY         NaN   JIMENEZ          CIVILIAN   \n",
       "\n",
       "                         hire_date  base_pay  leave_payout  other_pay  \\\n",
       "full_name                                                               \n",
       "KATHLEEN VIVIAN FORDYCE 2001-06-18 70,566.60      2,714.40     456.82   \n",
       "JIMMY JIMENEZ           1997-03-29 70,285.80      2,703.20   1,059.56   \n",
       "\n",
       "                         overtime  gross_earnings  ...  gender  \\\n",
       "full_name                                          ...           \n",
       "KATHLEEN VIVIAN FORDYCE      0.00       73,737.82  ...       0   \n",
       "JIMMY JIMENEZ                0.00       74,048.56  ...       1   \n",
       "\n",
       "                                           ethnic_orgin  employee_subgroup  \\\n",
       "full_name                                                                    \n",
       "KATHLEEN VIVIAN FORDYCE  WHITE (NON HISPANIC OR LATINO)       4A FULL-TIME   \n",
       "JIMMY JIMENEZ                        HISPANIC OR LATINO       4A FULL-TIME   \n",
       "\n",
       "                        withdraw_date annual_salary additional_benefits  \\\n",
       "full_name                                                                 \n",
       "KATHLEEN VIVIAN FORDYCE           NaT     70,566.60           23,665.07   \n",
       "JIMMY JIMENEZ                     NaT     70,285.80           23,175.43   \n",
       "\n",
       "                         business_area  years_service withdraw_month  \\\n",
       "full_name                                                              \n",
       "KATHLEEN VIVIAN FORDYCE        LIBRARY          22.00            NaN   \n",
       "JIMMY JIMENEZ                  LIBRARY          26.22            NaN   \n",
       "\n",
       "                               first_last  \n",
       "full_name                                  \n",
       "KATHLEEN VIVIAN FORDYCE  KATHLEEN FORDYCE  \n",
       "JIMMY JIMENEZ               JIMMY JIMENEZ  \n",
       "\n",
       "[2 rows x 22 columns]"
      ]
     },
     "execution_count": 144,
     "metadata": {},
     "output_type": "execute_result"
    }
   ],
   "source": [
    "l3s = library_comp[library_comp['job_title']=='LIBRARIAN III']\n",
    "l3s = pd.DataFrame(l3s).set_index('full_name')\n",
    "l3s.head(2)"
   ]
  },
  {
   "cell_type": "code",
   "execution_count": 145,
   "metadata": {},
   "outputs": [
    {
     "data": {
      "text/plain": [
       "base_pay              57,855.16\n",
       "leave_payout           1,938.25\n",
       "other_pay                770.93\n",
       "overtime                   0.00\n",
       "gross_earnings        60,564.34\n",
       "total_compensation    81,742.13\n",
       "annual_salary         60,740.74\n",
       "additional_benefits   21,177.80\n",
       "dtype: float64"
      ]
     },
     "execution_count": 145,
     "metadata": {},
     "output_type": "execute_result"
    }
   ],
   "source": [
    "l3s[['base_pay', 'leave_payout', 'other_pay', 'overtime', 'gross_earnings',\n",
    "       'total_compensation', 'annual_salary', 'additional_benefits']].mean()"
   ]
  },
  {
   "cell_type": "code",
   "execution_count": 146,
   "metadata": {},
   "outputs": [],
   "source": [
    "l3s['dif_from_mean'] = l3s['annual_salary'] - l3s['annual_salary'].mean()"
   ]
  },
  {
   "cell_type": "code",
   "execution_count": 147,
   "metadata": {},
   "outputs": [
    {
     "data": {
      "text/plain": [
       "full_name\n",
       "KATHLEEN VIVIAN FORDYCE    9,825.86\n",
       "JIMMY JIMENEZ              9,545.06\n",
       "JEFFRY L MARTIN            8,322.54\n",
       "JAMIE FLOWERS              7,209.22\n",
       "JORGE CHAVEZ               5,357.50\n",
       "DEBORAH LYNNE BRANTLEY     5,640.12\n",
       "TRACEY LOUISE KNOUSE       4,578.54\n",
       "D L TILFORD GRANT          3,639.42\n",
       "CATHERINE PRAZAK           3,321.18\n",
       "OSCAR ROMAN GONZALEZ         287.76\n",
       "HEIDI LYNN NOVOTNY           416.72\n",
       "THERESA LYNN GARZA           214.18\n",
       "FRANCES M RICONDO             62.86\n",
       "CRISTINE F MITCHAMORE      1,616.52\n",
       "NATHANIEL LAUBNER         -1,494.80\n",
       "MONICA GARZA BUSTILLO     -1,875.18\n",
       "JERNELL WILLIAMS            -403.00\n",
       "KATE GARRETT SIMPSON      -2,588.88\n",
       "MARY SMITH NAYLOR         -1,461.78\n",
       "MARIA GONZALES            -1,229.86\n",
       "ARLENE JANE RICHARDSON       866.78\n",
       "KIYANNA STEPHENS          -2,049.90\n",
       "TIMOTHY FRANCIS JOHNSON   -3,299.20\n",
       "JOSE RUIZ-ALVAREZ         -4,134.32\n",
       "JEANNETTE DAVIES          -3,196.76\n",
       "BARBARA E KWIATKOWSKI     -5,333.44\n",
       "EMERSON STANLEY           -8,405.60\n",
       "STEVEN BARRERA            -8,899.08\n",
       "ANGELA K MORROW           -9,255.24\n",
       "SAMANTHA GORDANO          -5,784.02\n",
       "TROY LAWRENCE             -1,493.24\n",
       "Name: dif_from_mean, dtype: float64"
      ]
     },
     "execution_count": 147,
     "metadata": {},
     "output_type": "execute_result"
    }
   ],
   "source": [
    "l3s['dif_from_mean']"
   ]
  },
  {
   "cell_type": "code",
   "execution_count": 162,
   "metadata": {},
   "outputs": [
    {
     "data": {
      "image/png": "[encoded data removed]",
      "text/plain": [
       "<Figure size 1440x864 with 2 Axes>"
      ]
     },
     "metadata": {
      "needs_background": "light"
     },
     "output_type": "display_data"
    },
    {
     "data": {
      "text/plain": [
       "<Figure size 432x288 with 0 Axes>"
      ]
     },
     "metadata": {},
     "output_type": "display_data"
    }
   ],
   "source": [
    "#let's plot \n",
    "\n",
    "#set up figure\n",
    "plt.figure(figsize=(20,12))\n",
    "\n",
    "#-----------------------------------set up left chart -------------------------------------------------------------------\n",
    "ax1 = plt.subplot(1,2,1)\n",
    "\n",
    "\n",
    "#plot the l2s avg\n",
    "\n",
    "sns.barplot(data=l1s,\n",
    "            y=l3s.index,\n",
    "            x=l3s['dif_from_mean'].sort_values(ascending=False).values,\n",
    "           )\n",
    "\n",
    "#set up labels and title\n",
    "plt.xlabel('Distance From Average Librarian III Salary')\n",
    "plt.ylabel('Name')\n",
    "plt.title('Librarian III Comparison to Average Annual Salary')\n",
    "\n",
    "\n",
    "#-----------------------------------set up Right chart -------------------------------------------------------------------\n",
    "ax2 = plt.subplot(1,2,2)\n",
    "\n",
    "#plot\n",
    "sns.barplot(data=l1s,\n",
    "            y=l3s.index,\n",
    "            x=l3s['years_service'].sort_values(ascending=False).values,\n",
    "          )\n",
    "\n",
    "#set up labels and title\n",
    "plt.xlabel('Years at SAPL')\n",
    "\n",
    "#remove names from Right table bc they match up\n",
    "plt.yticks([])\n",
    "\n",
    "#remove y label\n",
    "plt.ylabel('')\n",
    "plt.title('Librarian III, Years of Service')\n",
    "\n",
    "\n",
    "#make look nice\n",
    "plt.tight_layout()\n",
    "plt.subplots_adjust(hspace = 0.5)\n",
    "\n",
    "#show\n",
    "plt.show()\n",
    "plt.savefig('9.5_l3YearsVsSal.png')"
   ]
  },
  {
   "cell_type": "markdown",
   "metadata": {
    "tags": []
   },
   "source": [
    "## Is there any correlation between annual salary and gender?"
   ]
  },
  {
   "cell_type": "code",
   "execution_count": 149,
   "metadata": {},
   "outputs": [],
   "source": [
    "comp_styled = comp.style.background_gradient() #adding a gradient based on values in cell\n"
   ]
  },
  {
   "cell_type": "code",
   "execution_count": 150,
   "metadata": {},
   "outputs": [
    {
     "name": "stderr",
     "output_type": "stream",
     "text": [
      "C:\\Users\\dansc\\AppData\\Local\\Temp\\ipykernel_9936\\2358939556.py:2: FutureWarning: Passing lists as key for xs is deprecated and will be removed in a future version. Pass key as a tuple instead.\n",
      "  as_vs_g = comp.xs(['annual_salary','gender'],axis=1)\n"
     ]
    }
   ],
   "source": [
    "#first list make our xs as vs g\n",
    "as_vs_g = comp.xs(['annual_salary','gender'],axis=1)"
   ]
  },
  {
   "cell_type": "code",
   "execution_count": 151,
   "metadata": {
    "scrolled": true
   },
   "outputs": [],
   "source": [
    "as_vs_g = as_vs_g.corr().style.background_gradient()\n",
    "dfi.export(as_vs_g,\"10_as_vs_g.png\")"
   ]
  },
  {
   "cell_type": "code",
   "execution_count": 152,
   "metadata": {},
   "outputs": [
    {
     "data": {
      "text/html": [
       "<style type=\"text/css\">\n",
       "#T_c6bfd_row0_col0, #T_c6bfd_row1_col1 {\n",
       "  background-color: #023858;\n",
       "  color: #f1f1f1;\n",
       "}\n",
       "#T_c6bfd_row0_col1, #T_c6bfd_row1_col0 {\n",
       "  background-color: #fff7fb;\n",
       "  color: #000000;\n",
       "}\n",
       "</style>\n",
       "<table id=\"T_c6bfd\">\n",
       "  <thead>\n",
       "    <tr>\n",
       "      <th class=\"blank level0\" >&nbsp;</th>\n",
       "      <th id=\"T_c6bfd_level0_col0\" class=\"col_heading level0 col0\" >annual_salary</th>\n",
       "      <th id=\"T_c6bfd_level0_col1\" class=\"col_heading level0 col1\" >gender</th>\n",
       "    </tr>\n",
       "  </thead>\n",
       "  <tbody>\n",
       "    <tr>\n",
       "      <th id=\"T_c6bfd_level0_row0\" class=\"row_heading level0 row0\" >annual_salary</th>\n",
       "      <td id=\"T_c6bfd_row0_col0\" class=\"data row0 col0\" >1.000000</td>\n",
       "      <td id=\"T_c6bfd_row0_col1\" class=\"data row0 col1\" >0.213651</td>\n",
       "    </tr>\n",
       "    <tr>\n",
       "      <th id=\"T_c6bfd_level0_row1\" class=\"row_heading level0 row1\" >gender</th>\n",
       "      <td id=\"T_c6bfd_row1_col0\" class=\"data row1 col0\" >0.213651</td>\n",
       "      <td id=\"T_c6bfd_row1_col1\" class=\"data row1 col1\" >1.000000</td>\n",
       "    </tr>\n",
       "  </tbody>\n",
       "</table>\n"
      ],
      "text/plain": [
       "<pandas.io.formats.style.Styler at 0x2211ccdda00>"
      ]
     },
     "execution_count": 152,
     "metadata": {},
     "output_type": "execute_result"
    }
   ],
   "source": [
    "as_vs_g"
   ]
  },
  {
   "cell_type": "code",
   "execution_count": 153,
   "metadata": {},
   "outputs": [],
   "source": [
    "### Whats the same correlation specific to the library"
   ]
  },
  {
   "cell_type": "code",
   "execution_count": 154,
   "metadata": {
    "scrolled": true
   },
   "outputs": [
    {
     "name": "stderr",
     "output_type": "stream",
     "text": [
      "C:\\Users\\dansc\\AppData\\Local\\Temp\\ipykernel_9936\\2059291849.py:1: FutureWarning: Passing lists as key for xs is deprecated and will be removed in a future version. Pass key as a tuple instead.\n",
      "  lib_as_vs_g = library_comp.xs(['annual_salary','gender'],axis=1)\n"
     ]
    }
   ],
   "source": [
    "lib_as_vs_g = library_comp.xs(['annual_salary','gender'],axis=1)"
   ]
  },
  {
   "cell_type": "code",
   "execution_count": 155,
   "metadata": {},
   "outputs": [],
   "source": [
    "lib_as_vs_g = lib_as_vs_g.corr().style.background_gradient()\n",
    "dfi.export(lib_as_vs_g,\"11_lib_as_vs_g.png\")"
   ]
  },
  {
   "cell_type": "markdown",
   "metadata": {},
   "source": [
    "### Is there any correlation between years worked and total compensation?"
   ]
  },
  {
   "cell_type": "code",
   "execution_count": 156,
   "metadata": {
    "scrolled": true
   },
   "outputs": [],
   "source": [
    "ys_vs_tc = comp[['total_compensation','years_service']].corr().style.background_gradient()"
   ]
  },
  {
   "cell_type": "code",
   "execution_count": 157,
   "metadata": {},
   "outputs": [],
   "source": [
    "dfi.export(ys_vs_tc,\"12_ys_vs_tc.png\")"
   ]
  },
  {
   "cell_type": "code",
   "execution_count": 158,
   "metadata": {},
   "outputs": [
    {
     "data": {
      "text/html": [
       "<style type=\"text/css\">\n",
       "#T_58200_row0_col0, #T_58200_row1_col1 {\n",
       "  background-color: #023858;\n",
       "  color: #f1f1f1;\n",
       "}\n",
       "#T_58200_row0_col1, #T_58200_row1_col0 {\n",
       "  background-color: #fff7fb;\n",
       "  color: #000000;\n",
       "}\n",
       "</style>\n",
       "<table id=\"T_58200\">\n",
       "  <thead>\n",
       "    <tr>\n",
       "      <th class=\"blank level0\" >&nbsp;</th>\n",
       "      <th id=\"T_58200_level0_col0\" class=\"col_heading level0 col0\" >total_compensation</th>\n",
       "      <th id=\"T_58200_level0_col1\" class=\"col_heading level0 col1\" >years_service</th>\n",
       "    </tr>\n",
       "  </thead>\n",
       "  <tbody>\n",
       "    <tr>\n",
       "      <th id=\"T_58200_level0_row0\" class=\"row_heading level0 row0\" >total_compensation</th>\n",
       "      <td id=\"T_58200_row0_col0\" class=\"data row0 col0\" >1.000000</td>\n",
       "      <td id=\"T_58200_row0_col1\" class=\"data row0 col1\" >0.513635</td>\n",
       "    </tr>\n",
       "    <tr>\n",
       "      <th id=\"T_58200_level0_row1\" class=\"row_heading level0 row1\" >years_service</th>\n",
       "      <td id=\"T_58200_row1_col0\" class=\"data row1 col0\" >0.513635</td>\n",
       "      <td id=\"T_58200_row1_col1\" class=\"data row1 col1\" >1.000000</td>\n",
       "    </tr>\n",
       "  </tbody>\n",
       "</table>\n"
      ],
      "text/plain": [
       "<pandas.io.formats.style.Styler at 0x2211ccdd760>"
      ]
     },
     "execution_count": 158,
     "metadata": {},
     "output_type": "execute_result"
    }
   ],
   "source": [
    "ys_vs_tc"
   ]
  },
  {
   "cell_type": "markdown",
   "metadata": {},
   "source": [
    "### Is the correlation between years worked and total compensation differenct at the library?"
   ]
  },
  {
   "cell_type": "code",
   "execution_count": 159,
   "metadata": {},
   "outputs": [],
   "source": [
    "#yes it is a little weaker.\n",
    "lib_ys_vs_tc = library_comp[['total_compensation','years_service']].corr().style.background_gradient()"
   ]
  },
  {
   "cell_type": "code",
   "execution_count": 160,
   "metadata": {
    "scrolled": true
   },
   "outputs": [
    {
     "data": {
      "text/html": [
       "<style type=\"text/css\">\n",
       "#T_2fecd_row0_col0, #T_2fecd_row1_col1 {\n",
       "  background-color: #023858;\n",
       "  color: #f1f1f1;\n",
       "}\n",
       "#T_2fecd_row0_col1, #T_2fecd_row1_col0 {\n",
       "  background-color: #fff7fb;\n",
       "  color: #000000;\n",
       "}\n",
       "</style>\n",
       "<table id=\"T_2fecd\">\n",
       "  <thead>\n",
       "    <tr>\n",
       "      <th class=\"blank level0\" >&nbsp;</th>\n",
       "      <th id=\"T_2fecd_level0_col0\" class=\"col_heading level0 col0\" >total_compensation</th>\n",
       "      <th id=\"T_2fecd_level0_col1\" class=\"col_heading level0 col1\" >years_service</th>\n",
       "    </tr>\n",
       "  </thead>\n",
       "  <tbody>\n",
       "    <tr>\n",
       "      <th id=\"T_2fecd_level0_row0\" class=\"row_heading level0 row0\" >total_compensation</th>\n",
       "      <td id=\"T_2fecd_row0_col0\" class=\"data row0 col0\" >1.000000</td>\n",
       "      <td id=\"T_2fecd_row0_col1\" class=\"data row0 col1\" >0.396394</td>\n",
       "    </tr>\n",
       "    <tr>\n",
       "      <th id=\"T_2fecd_level0_row1\" class=\"row_heading level0 row1\" >years_service</th>\n",
       "      <td id=\"T_2fecd_row1_col0\" class=\"data row1 col0\" >0.396394</td>\n",
       "      <td id=\"T_2fecd_row1_col1\" class=\"data row1 col1\" >1.000000</td>\n",
       "    </tr>\n",
       "  </tbody>\n",
       "</table>\n"
      ],
      "text/plain": [
       "<pandas.io.formats.style.Styler at 0x2211ccdde50>"
      ]
     },
     "execution_count": 160,
     "metadata": {},
     "output_type": "execute_result"
    }
   ],
   "source": [
    "lib_ys_vs_tc"
   ]
  },
  {
   "cell_type": "code",
   "execution_count": 161,
   "metadata": {},
   "outputs": [],
   "source": [
    "dfi.export(lib_ys_vs_tc,\"13_lib_ys_vs_tc.png\")"
   ]
  }
 ],
 "metadata": {
  "hide_input": false,
  "kernelspec": {
   "display_name": "Python 3 (ipykernel)",
   "language": "python",
   "name": "python3"
  },
  "language_info": {
   "codemirror_mode": {
    "name": "ipython",
    "version": 3
   },
   "file_extension": ".py",
   "mimetype": "text/x-python",
   "name": "python",
   "nbconvert_exporter": "python",
   "pygments_lexer": "ipython3",
   "version": "3.9.12"
  }
 },
 "nbformat": 4,
 "nbformat_minor": 4
}
